{
 "cells": [
  {
   "cell_type": "markdown",
   "id": "ebe5b5f6",
   "metadata": {
    "papermill": {
     "duration": 0.079363,
     "end_time": "2021-07-29T21:37:35.981968",
     "exception": false,
     "start_time": "2021-07-29T21:37:35.902605",
     "status": "completed"
    },
    "tags": []
   },
   "source": [
    "### Imports and Data Load"
   ]
  },
  {
   "cell_type": "code",
   "execution_count": 1,
   "id": "f540a525",
   "metadata": {
    "execution": {
     "iopub.execute_input": "2021-07-29T21:37:36.163351Z",
     "iopub.status.busy": "2021-07-29T21:37:36.162002Z",
     "iopub.status.idle": "2021-07-29T21:37:37.281582Z",
     "shell.execute_reply": "2021-07-29T21:37:37.280618Z",
     "shell.execute_reply.started": "2021-07-29T21:29:15.995027Z"
    },
    "papermill": {
     "duration": 1.219649,
     "end_time": "2021-07-29T21:37:37.281795",
     "exception": false,
     "start_time": "2021-07-29T21:37:36.062146",
     "status": "completed"
    },
    "tags": []
   },
   "outputs": [],
   "source": [
    "import pandas as pd\n",
    "import numpy as np\n",
    "import matplotlib.pyplot as plt\n",
    "import seaborn as sns"
   ]
  },
  {
   "cell_type": "code",
   "execution_count": 2,
   "id": "c2ba85d4",
   "metadata": {
    "execution": {
     "iopub.execute_input": "2021-07-29T21:37:37.442808Z",
     "iopub.status.busy": "2021-07-29T21:37:37.442007Z",
     "iopub.status.idle": "2021-07-29T21:37:37.448211Z",
     "shell.execute_reply": "2021-07-29T21:37:37.447671Z",
     "shell.execute_reply.started": "2021-07-29T21:29:17.157384Z"
    },
    "papermill": {
     "duration": 0.089542,
     "end_time": "2021-07-29T21:37:37.448410",
     "exception": false,
     "start_time": "2021-07-29T21:37:37.358868",
     "status": "completed"
    },
    "tags": []
   },
   "outputs": [
    {
     "name": "stdout",
     "output_type": "stream",
     "text": [
      "/kaggle/input/neolen-house-price-prediction/sample_submission.csv\n",
      "/kaggle/input/neolen-house-price-prediction/data_description.txt\n",
      "/kaggle/input/neolen-house-price-prediction/train.csv\n",
      "/kaggle/input/neolen-house-price-prediction/test.csv\n",
      "/kaggle/input/neolen-house-price-prediction/house-prices-advanced-regression-techniques.zip\n"
     ]
    }
   ],
   "source": [
    "import os\n",
    "for dirname, _, filenames in os.walk('/kaggle/input'):\n",
    "    for filename in filenames:\n",
    "        print(os.path.join(dirname, filename))"
   ]
  },
  {
   "cell_type": "code",
   "execution_count": 3,
   "id": "84b57f63",
   "metadata": {
    "execution": {
     "iopub.execute_input": "2021-07-29T21:37:37.611383Z",
     "iopub.status.busy": "2021-07-29T21:37:37.610213Z",
     "iopub.status.idle": "2021-07-29T21:37:37.713770Z",
     "shell.execute_reply": "2021-07-29T21:37:37.714284Z",
     "shell.execute_reply.started": "2021-07-29T21:29:17.169431Z"
    },
    "papermill": {
     "duration": 0.187362,
     "end_time": "2021-07-29T21:37:37.714504",
     "exception": false,
     "start_time": "2021-07-29T21:37:37.527142",
     "status": "completed"
    },
    "tags": []
   },
   "outputs": [
    {
     "data": {
      "text/html": [
       "<div>\n",
       "<style scoped>\n",
       "    .dataframe tbody tr th:only-of-type {\n",
       "        vertical-align: middle;\n",
       "    }\n",
       "\n",
       "    .dataframe tbody tr th {\n",
       "        vertical-align: top;\n",
       "    }\n",
       "\n",
       "    .dataframe thead th {\n",
       "        text-align: right;\n",
       "    }\n",
       "</style>\n",
       "<table border=\"1\" class=\"dataframe\">\n",
       "  <thead>\n",
       "    <tr style=\"text-align: right;\">\n",
       "      <th></th>\n",
       "      <th>MSSubClass</th>\n",
       "      <th>MSZoning</th>\n",
       "      <th>LotFrontage</th>\n",
       "      <th>LotArea</th>\n",
       "      <th>Street</th>\n",
       "      <th>Alley</th>\n",
       "      <th>LotShape</th>\n",
       "      <th>LandContour</th>\n",
       "      <th>Utilities</th>\n",
       "      <th>LotConfig</th>\n",
       "      <th>...</th>\n",
       "      <th>PoolArea</th>\n",
       "      <th>PoolQC</th>\n",
       "      <th>Fence</th>\n",
       "      <th>MiscFeature</th>\n",
       "      <th>MiscVal</th>\n",
       "      <th>MoSold</th>\n",
       "      <th>YrSold</th>\n",
       "      <th>SaleType</th>\n",
       "      <th>SaleCondition</th>\n",
       "      <th>SalePrice</th>\n",
       "    </tr>\n",
       "    <tr>\n",
       "      <th>Id</th>\n",
       "      <th></th>\n",
       "      <th></th>\n",
       "      <th></th>\n",
       "      <th></th>\n",
       "      <th></th>\n",
       "      <th></th>\n",
       "      <th></th>\n",
       "      <th></th>\n",
       "      <th></th>\n",
       "      <th></th>\n",
       "      <th></th>\n",
       "      <th></th>\n",
       "      <th></th>\n",
       "      <th></th>\n",
       "      <th></th>\n",
       "      <th></th>\n",
       "      <th></th>\n",
       "      <th></th>\n",
       "      <th></th>\n",
       "      <th></th>\n",
       "      <th></th>\n",
       "    </tr>\n",
       "  </thead>\n",
       "  <tbody>\n",
       "    <tr>\n",
       "      <th>1</th>\n",
       "      <td>60</td>\n",
       "      <td>RL</td>\n",
       "      <td>65.0</td>\n",
       "      <td>8450</td>\n",
       "      <td>Pave</td>\n",
       "      <td>NaN</td>\n",
       "      <td>Reg</td>\n",
       "      <td>Lvl</td>\n",
       "      <td>AllPub</td>\n",
       "      <td>Inside</td>\n",
       "      <td>...</td>\n",
       "      <td>0</td>\n",
       "      <td>NaN</td>\n",
       "      <td>NaN</td>\n",
       "      <td>NaN</td>\n",
       "      <td>0</td>\n",
       "      <td>2</td>\n",
       "      <td>2008</td>\n",
       "      <td>WD</td>\n",
       "      <td>Normal</td>\n",
       "      <td>208500</td>\n",
       "    </tr>\n",
       "    <tr>\n",
       "      <th>2</th>\n",
       "      <td>20</td>\n",
       "      <td>RL</td>\n",
       "      <td>80.0</td>\n",
       "      <td>9600</td>\n",
       "      <td>Pave</td>\n",
       "      <td>NaN</td>\n",
       "      <td>Reg</td>\n",
       "      <td>Lvl</td>\n",
       "      <td>AllPub</td>\n",
       "      <td>FR2</td>\n",
       "      <td>...</td>\n",
       "      <td>0</td>\n",
       "      <td>NaN</td>\n",
       "      <td>NaN</td>\n",
       "      <td>NaN</td>\n",
       "      <td>0</td>\n",
       "      <td>5</td>\n",
       "      <td>2007</td>\n",
       "      <td>WD</td>\n",
       "      <td>Normal</td>\n",
       "      <td>181500</td>\n",
       "    </tr>\n",
       "    <tr>\n",
       "      <th>3</th>\n",
       "      <td>60</td>\n",
       "      <td>RL</td>\n",
       "      <td>68.0</td>\n",
       "      <td>11250</td>\n",
       "      <td>Pave</td>\n",
       "      <td>NaN</td>\n",
       "      <td>IR1</td>\n",
       "      <td>Lvl</td>\n",
       "      <td>AllPub</td>\n",
       "      <td>Inside</td>\n",
       "      <td>...</td>\n",
       "      <td>0</td>\n",
       "      <td>NaN</td>\n",
       "      <td>NaN</td>\n",
       "      <td>NaN</td>\n",
       "      <td>0</td>\n",
       "      <td>9</td>\n",
       "      <td>2008</td>\n",
       "      <td>WD</td>\n",
       "      <td>Normal</td>\n",
       "      <td>223500</td>\n",
       "    </tr>\n",
       "    <tr>\n",
       "      <th>4</th>\n",
       "      <td>70</td>\n",
       "      <td>RL</td>\n",
       "      <td>60.0</td>\n",
       "      <td>9550</td>\n",
       "      <td>Pave</td>\n",
       "      <td>NaN</td>\n",
       "      <td>IR1</td>\n",
       "      <td>Lvl</td>\n",
       "      <td>AllPub</td>\n",
       "      <td>Corner</td>\n",
       "      <td>...</td>\n",
       "      <td>0</td>\n",
       "      <td>NaN</td>\n",
       "      <td>NaN</td>\n",
       "      <td>NaN</td>\n",
       "      <td>0</td>\n",
       "      <td>2</td>\n",
       "      <td>2006</td>\n",
       "      <td>WD</td>\n",
       "      <td>Abnorml</td>\n",
       "      <td>140000</td>\n",
       "    </tr>\n",
       "    <tr>\n",
       "      <th>5</th>\n",
       "      <td>60</td>\n",
       "      <td>RL</td>\n",
       "      <td>84.0</td>\n",
       "      <td>14260</td>\n",
       "      <td>Pave</td>\n",
       "      <td>NaN</td>\n",
       "      <td>IR1</td>\n",
       "      <td>Lvl</td>\n",
       "      <td>AllPub</td>\n",
       "      <td>FR2</td>\n",
       "      <td>...</td>\n",
       "      <td>0</td>\n",
       "      <td>NaN</td>\n",
       "      <td>NaN</td>\n",
       "      <td>NaN</td>\n",
       "      <td>0</td>\n",
       "      <td>12</td>\n",
       "      <td>2008</td>\n",
       "      <td>WD</td>\n",
       "      <td>Normal</td>\n",
       "      <td>250000</td>\n",
       "    </tr>\n",
       "    <tr>\n",
       "      <th>...</th>\n",
       "      <td>...</td>\n",
       "      <td>...</td>\n",
       "      <td>...</td>\n",
       "      <td>...</td>\n",
       "      <td>...</td>\n",
       "      <td>...</td>\n",
       "      <td>...</td>\n",
       "      <td>...</td>\n",
       "      <td>...</td>\n",
       "      <td>...</td>\n",
       "      <td>...</td>\n",
       "      <td>...</td>\n",
       "      <td>...</td>\n",
       "      <td>...</td>\n",
       "      <td>...</td>\n",
       "      <td>...</td>\n",
       "      <td>...</td>\n",
       "      <td>...</td>\n",
       "      <td>...</td>\n",
       "      <td>...</td>\n",
       "      <td>...</td>\n",
       "    </tr>\n",
       "    <tr>\n",
       "      <th>1255</th>\n",
       "      <td>60</td>\n",
       "      <td>RL</td>\n",
       "      <td>60.0</td>\n",
       "      <td>6931</td>\n",
       "      <td>Pave</td>\n",
       "      <td>NaN</td>\n",
       "      <td>Reg</td>\n",
       "      <td>Lvl</td>\n",
       "      <td>AllPub</td>\n",
       "      <td>Inside</td>\n",
       "      <td>...</td>\n",
       "      <td>0</td>\n",
       "      <td>NaN</td>\n",
       "      <td>NaN</td>\n",
       "      <td>NaN</td>\n",
       "      <td>0</td>\n",
       "      <td>7</td>\n",
       "      <td>2008</td>\n",
       "      <td>WD</td>\n",
       "      <td>Normal</td>\n",
       "      <td>165400</td>\n",
       "    </tr>\n",
       "    <tr>\n",
       "      <th>1256</th>\n",
       "      <td>50</td>\n",
       "      <td>RM</td>\n",
       "      <td>52.0</td>\n",
       "      <td>6240</td>\n",
       "      <td>Pave</td>\n",
       "      <td>NaN</td>\n",
       "      <td>Reg</td>\n",
       "      <td>Lvl</td>\n",
       "      <td>AllPub</td>\n",
       "      <td>Inside</td>\n",
       "      <td>...</td>\n",
       "      <td>0</td>\n",
       "      <td>NaN</td>\n",
       "      <td>NaN</td>\n",
       "      <td>NaN</td>\n",
       "      <td>0</td>\n",
       "      <td>11</td>\n",
       "      <td>2007</td>\n",
       "      <td>WD</td>\n",
       "      <td>Normal</td>\n",
       "      <td>127500</td>\n",
       "    </tr>\n",
       "    <tr>\n",
       "      <th>1257</th>\n",
       "      <td>20</td>\n",
       "      <td>RL</td>\n",
       "      <td>91.0</td>\n",
       "      <td>14303</td>\n",
       "      <td>Pave</td>\n",
       "      <td>NaN</td>\n",
       "      <td>IR1</td>\n",
       "      <td>Lvl</td>\n",
       "      <td>AllPub</td>\n",
       "      <td>Corner</td>\n",
       "      <td>...</td>\n",
       "      <td>0</td>\n",
       "      <td>NaN</td>\n",
       "      <td>NaN</td>\n",
       "      <td>NaN</td>\n",
       "      <td>0</td>\n",
       "      <td>8</td>\n",
       "      <td>2008</td>\n",
       "      <td>WD</td>\n",
       "      <td>Normal</td>\n",
       "      <td>301500</td>\n",
       "    </tr>\n",
       "    <tr>\n",
       "      <th>1258</th>\n",
       "      <td>30</td>\n",
       "      <td>RL</td>\n",
       "      <td>56.0</td>\n",
       "      <td>4060</td>\n",
       "      <td>Pave</td>\n",
       "      <td>NaN</td>\n",
       "      <td>Reg</td>\n",
       "      <td>Lvl</td>\n",
       "      <td>AllPub</td>\n",
       "      <td>Corner</td>\n",
       "      <td>...</td>\n",
       "      <td>0</td>\n",
       "      <td>NaN</td>\n",
       "      <td>NaN</td>\n",
       "      <td>NaN</td>\n",
       "      <td>0</td>\n",
       "      <td>7</td>\n",
       "      <td>2009</td>\n",
       "      <td>WD</td>\n",
       "      <td>Normal</td>\n",
       "      <td>99900</td>\n",
       "    </tr>\n",
       "    <tr>\n",
       "      <th>1259</th>\n",
       "      <td>80</td>\n",
       "      <td>RL</td>\n",
       "      <td>59.0</td>\n",
       "      <td>9587</td>\n",
       "      <td>Pave</td>\n",
       "      <td>NaN</td>\n",
       "      <td>IR1</td>\n",
       "      <td>Lvl</td>\n",
       "      <td>AllPub</td>\n",
       "      <td>Inside</td>\n",
       "      <td>...</td>\n",
       "      <td>0</td>\n",
       "      <td>NaN</td>\n",
       "      <td>NaN</td>\n",
       "      <td>NaN</td>\n",
       "      <td>0</td>\n",
       "      <td>7</td>\n",
       "      <td>2008</td>\n",
       "      <td>WD</td>\n",
       "      <td>Normal</td>\n",
       "      <td>190000</td>\n",
       "    </tr>\n",
       "  </tbody>\n",
       "</table>\n",
       "<p>1259 rows × 80 columns</p>\n",
       "</div>"
      ],
      "text/plain": [
       "      MSSubClass MSZoning  LotFrontage  LotArea Street Alley LotShape  \\\n",
       "Id                                                                      \n",
       "1             60       RL         65.0     8450   Pave   NaN      Reg   \n",
       "2             20       RL         80.0     9600   Pave   NaN      Reg   \n",
       "3             60       RL         68.0    11250   Pave   NaN      IR1   \n",
       "4             70       RL         60.0     9550   Pave   NaN      IR1   \n",
       "5             60       RL         84.0    14260   Pave   NaN      IR1   \n",
       "...          ...      ...          ...      ...    ...   ...      ...   \n",
       "1255          60       RL         60.0     6931   Pave   NaN      Reg   \n",
       "1256          50       RM         52.0     6240   Pave   NaN      Reg   \n",
       "1257          20       RL         91.0    14303   Pave   NaN      IR1   \n",
       "1258          30       RL         56.0     4060   Pave   NaN      Reg   \n",
       "1259          80       RL         59.0     9587   Pave   NaN      IR1   \n",
       "\n",
       "     LandContour Utilities LotConfig  ... PoolArea PoolQC Fence MiscFeature  \\\n",
       "Id                                    ...                                     \n",
       "1            Lvl    AllPub    Inside  ...        0    NaN   NaN         NaN   \n",
       "2            Lvl    AllPub       FR2  ...        0    NaN   NaN         NaN   \n",
       "3            Lvl    AllPub    Inside  ...        0    NaN   NaN         NaN   \n",
       "4            Lvl    AllPub    Corner  ...        0    NaN   NaN         NaN   \n",
       "5            Lvl    AllPub       FR2  ...        0    NaN   NaN         NaN   \n",
       "...          ...       ...       ...  ...      ...    ...   ...         ...   \n",
       "1255         Lvl    AllPub    Inside  ...        0    NaN   NaN         NaN   \n",
       "1256         Lvl    AllPub    Inside  ...        0    NaN   NaN         NaN   \n",
       "1257         Lvl    AllPub    Corner  ...        0    NaN   NaN         NaN   \n",
       "1258         Lvl    AllPub    Corner  ...        0    NaN   NaN         NaN   \n",
       "1259         Lvl    AllPub    Inside  ...        0    NaN   NaN         NaN   \n",
       "\n",
       "     MiscVal MoSold  YrSold  SaleType  SaleCondition  SalePrice  \n",
       "Id                                                               \n",
       "1          0      2    2008        WD         Normal     208500  \n",
       "2          0      5    2007        WD         Normal     181500  \n",
       "3          0      9    2008        WD         Normal     223500  \n",
       "4          0      2    2006        WD        Abnorml     140000  \n",
       "5          0     12    2008        WD         Normal     250000  \n",
       "...      ...    ...     ...       ...            ...        ...  \n",
       "1255       0      7    2008        WD         Normal     165400  \n",
       "1256       0     11    2007        WD         Normal     127500  \n",
       "1257       0      8    2008        WD         Normal     301500  \n",
       "1258       0      7    2009        WD         Normal      99900  \n",
       "1259       0      7    2008        WD         Normal     190000  \n",
       "\n",
       "[1259 rows x 80 columns]"
      ]
     },
     "execution_count": 3,
     "metadata": {},
     "output_type": "execute_result"
    }
   ],
   "source": [
    "train_df = pd.read_csv('/kaggle/input/neolen-house-price-prediction/train.csv', index_col='Id')\n",
    "train_df"
   ]
  },
  {
   "cell_type": "code",
   "execution_count": 4,
   "id": "26b05f4f",
   "metadata": {
    "execution": {
     "iopub.execute_input": "2021-07-29T21:37:37.876041Z",
     "iopub.status.busy": "2021-07-29T21:37:37.875218Z",
     "iopub.status.idle": "2021-07-29T21:37:37.939941Z",
     "shell.execute_reply": "2021-07-29T21:37:37.940525Z",
     "shell.execute_reply.started": "2021-07-29T21:29:17.284879Z"
    },
    "papermill": {
     "duration": 0.147619,
     "end_time": "2021-07-29T21:37:37.940729",
     "exception": false,
     "start_time": "2021-07-29T21:37:37.793110",
     "status": "completed"
    },
    "tags": []
   },
   "outputs": [
    {
     "data": {
      "text/html": [
       "<div>\n",
       "<style scoped>\n",
       "    .dataframe tbody tr th:only-of-type {\n",
       "        vertical-align: middle;\n",
       "    }\n",
       "\n",
       "    .dataframe tbody tr th {\n",
       "        vertical-align: top;\n",
       "    }\n",
       "\n",
       "    .dataframe thead th {\n",
       "        text-align: right;\n",
       "    }\n",
       "</style>\n",
       "<table border=\"1\" class=\"dataframe\">\n",
       "  <thead>\n",
       "    <tr style=\"text-align: right;\">\n",
       "      <th></th>\n",
       "      <th>MSSubClass</th>\n",
       "      <th>MSZoning</th>\n",
       "      <th>LotFrontage</th>\n",
       "      <th>LotArea</th>\n",
       "      <th>Street</th>\n",
       "      <th>Alley</th>\n",
       "      <th>LotShape</th>\n",
       "      <th>LandContour</th>\n",
       "      <th>Utilities</th>\n",
       "      <th>LotConfig</th>\n",
       "      <th>...</th>\n",
       "      <th>ScreenPorch</th>\n",
       "      <th>PoolArea</th>\n",
       "      <th>PoolQC</th>\n",
       "      <th>Fence</th>\n",
       "      <th>MiscFeature</th>\n",
       "      <th>MiscVal</th>\n",
       "      <th>MoSold</th>\n",
       "      <th>YrSold</th>\n",
       "      <th>SaleType</th>\n",
       "      <th>SaleCondition</th>\n",
       "    </tr>\n",
       "    <tr>\n",
       "      <th>Id</th>\n",
       "      <th></th>\n",
       "      <th></th>\n",
       "      <th></th>\n",
       "      <th></th>\n",
       "      <th></th>\n",
       "      <th></th>\n",
       "      <th></th>\n",
       "      <th></th>\n",
       "      <th></th>\n",
       "      <th></th>\n",
       "      <th></th>\n",
       "      <th></th>\n",
       "      <th></th>\n",
       "      <th></th>\n",
       "      <th></th>\n",
       "      <th></th>\n",
       "      <th></th>\n",
       "      <th></th>\n",
       "      <th></th>\n",
       "      <th></th>\n",
       "      <th></th>\n",
       "    </tr>\n",
       "  </thead>\n",
       "  <tbody>\n",
       "    <tr>\n",
       "      <th>1260</th>\n",
       "      <td>20</td>\n",
       "      <td>RL</td>\n",
       "      <td>65.0</td>\n",
       "      <td>9750</td>\n",
       "      <td>Pave</td>\n",
       "      <td>NaN</td>\n",
       "      <td>Reg</td>\n",
       "      <td>Lvl</td>\n",
       "      <td>AllPub</td>\n",
       "      <td>FR2</td>\n",
       "      <td>...</td>\n",
       "      <td>80</td>\n",
       "      <td>0</td>\n",
       "      <td>NaN</td>\n",
       "      <td>NaN</td>\n",
       "      <td>NaN</td>\n",
       "      <td>0</td>\n",
       "      <td>7</td>\n",
       "      <td>2008</td>\n",
       "      <td>WD</td>\n",
       "      <td>Normal</td>\n",
       "    </tr>\n",
       "    <tr>\n",
       "      <th>1261</th>\n",
       "      <td>60</td>\n",
       "      <td>RL</td>\n",
       "      <td>NaN</td>\n",
       "      <td>24682</td>\n",
       "      <td>Pave</td>\n",
       "      <td>NaN</td>\n",
       "      <td>IR3</td>\n",
       "      <td>Lvl</td>\n",
       "      <td>AllPub</td>\n",
       "      <td>CulDSac</td>\n",
       "      <td>...</td>\n",
       "      <td>0</td>\n",
       "      <td>0</td>\n",
       "      <td>NaN</td>\n",
       "      <td>NaN</td>\n",
       "      <td>NaN</td>\n",
       "      <td>0</td>\n",
       "      <td>6</td>\n",
       "      <td>2009</td>\n",
       "      <td>WD</td>\n",
       "      <td>Normal</td>\n",
       "    </tr>\n",
       "    <tr>\n",
       "      <th>1262</th>\n",
       "      <td>20</td>\n",
       "      <td>RL</td>\n",
       "      <td>80.0</td>\n",
       "      <td>9600</td>\n",
       "      <td>Pave</td>\n",
       "      <td>NaN</td>\n",
       "      <td>Reg</td>\n",
       "      <td>Lvl</td>\n",
       "      <td>AllPub</td>\n",
       "      <td>Inside</td>\n",
       "      <td>...</td>\n",
       "      <td>0</td>\n",
       "      <td>0</td>\n",
       "      <td>NaN</td>\n",
       "      <td>NaN</td>\n",
       "      <td>NaN</td>\n",
       "      <td>0</td>\n",
       "      <td>6</td>\n",
       "      <td>2009</td>\n",
       "      <td>WD</td>\n",
       "      <td>Normal</td>\n",
       "    </tr>\n",
       "    <tr>\n",
       "      <th>1263</th>\n",
       "      <td>50</td>\n",
       "      <td>RL</td>\n",
       "      <td>NaN</td>\n",
       "      <td>11250</td>\n",
       "      <td>Pave</td>\n",
       "      <td>NaN</td>\n",
       "      <td>Reg</td>\n",
       "      <td>Lvl</td>\n",
       "      <td>AllPub</td>\n",
       "      <td>Inside</td>\n",
       "      <td>...</td>\n",
       "      <td>0</td>\n",
       "      <td>0</td>\n",
       "      <td>NaN</td>\n",
       "      <td>NaN</td>\n",
       "      <td>NaN</td>\n",
       "      <td>0</td>\n",
       "      <td>11</td>\n",
       "      <td>2009</td>\n",
       "      <td>WD</td>\n",
       "      <td>Normal</td>\n",
       "    </tr>\n",
       "    <tr>\n",
       "      <th>1264</th>\n",
       "      <td>70</td>\n",
       "      <td>RL</td>\n",
       "      <td>60.0</td>\n",
       "      <td>13515</td>\n",
       "      <td>Pave</td>\n",
       "      <td>Pave</td>\n",
       "      <td>Reg</td>\n",
       "      <td>Lvl</td>\n",
       "      <td>AllPub</td>\n",
       "      <td>Inside</td>\n",
       "      <td>...</td>\n",
       "      <td>0</td>\n",
       "      <td>0</td>\n",
       "      <td>NaN</td>\n",
       "      <td>GdPrv</td>\n",
       "      <td>NaN</td>\n",
       "      <td>0</td>\n",
       "      <td>7</td>\n",
       "      <td>2007</td>\n",
       "      <td>WD</td>\n",
       "      <td>Normal</td>\n",
       "    </tr>\n",
       "    <tr>\n",
       "      <th>...</th>\n",
       "      <td>...</td>\n",
       "      <td>...</td>\n",
       "      <td>...</td>\n",
       "      <td>...</td>\n",
       "      <td>...</td>\n",
       "      <td>...</td>\n",
       "      <td>...</td>\n",
       "      <td>...</td>\n",
       "      <td>...</td>\n",
       "      <td>...</td>\n",
       "      <td>...</td>\n",
       "      <td>...</td>\n",
       "      <td>...</td>\n",
       "      <td>...</td>\n",
       "      <td>...</td>\n",
       "      <td>...</td>\n",
       "      <td>...</td>\n",
       "      <td>...</td>\n",
       "      <td>...</td>\n",
       "      <td>...</td>\n",
       "      <td>...</td>\n",
       "    </tr>\n",
       "    <tr>\n",
       "      <th>1456</th>\n",
       "      <td>60</td>\n",
       "      <td>RL</td>\n",
       "      <td>62.0</td>\n",
       "      <td>7917</td>\n",
       "      <td>Pave</td>\n",
       "      <td>NaN</td>\n",
       "      <td>Reg</td>\n",
       "      <td>Lvl</td>\n",
       "      <td>AllPub</td>\n",
       "      <td>Inside</td>\n",
       "      <td>...</td>\n",
       "      <td>0</td>\n",
       "      <td>0</td>\n",
       "      <td>NaN</td>\n",
       "      <td>NaN</td>\n",
       "      <td>NaN</td>\n",
       "      <td>0</td>\n",
       "      <td>8</td>\n",
       "      <td>2007</td>\n",
       "      <td>WD</td>\n",
       "      <td>Normal</td>\n",
       "    </tr>\n",
       "    <tr>\n",
       "      <th>1457</th>\n",
       "      <td>20</td>\n",
       "      <td>RL</td>\n",
       "      <td>85.0</td>\n",
       "      <td>13175</td>\n",
       "      <td>Pave</td>\n",
       "      <td>NaN</td>\n",
       "      <td>Reg</td>\n",
       "      <td>Lvl</td>\n",
       "      <td>AllPub</td>\n",
       "      <td>Inside</td>\n",
       "      <td>...</td>\n",
       "      <td>0</td>\n",
       "      <td>0</td>\n",
       "      <td>NaN</td>\n",
       "      <td>MnPrv</td>\n",
       "      <td>NaN</td>\n",
       "      <td>0</td>\n",
       "      <td>2</td>\n",
       "      <td>2010</td>\n",
       "      <td>WD</td>\n",
       "      <td>Normal</td>\n",
       "    </tr>\n",
       "    <tr>\n",
       "      <th>1458</th>\n",
       "      <td>70</td>\n",
       "      <td>RL</td>\n",
       "      <td>66.0</td>\n",
       "      <td>9042</td>\n",
       "      <td>Pave</td>\n",
       "      <td>NaN</td>\n",
       "      <td>Reg</td>\n",
       "      <td>Lvl</td>\n",
       "      <td>AllPub</td>\n",
       "      <td>Inside</td>\n",
       "      <td>...</td>\n",
       "      <td>0</td>\n",
       "      <td>0</td>\n",
       "      <td>NaN</td>\n",
       "      <td>GdPrv</td>\n",
       "      <td>Shed</td>\n",
       "      <td>2500</td>\n",
       "      <td>5</td>\n",
       "      <td>2010</td>\n",
       "      <td>WD</td>\n",
       "      <td>Normal</td>\n",
       "    </tr>\n",
       "    <tr>\n",
       "      <th>1459</th>\n",
       "      <td>20</td>\n",
       "      <td>RL</td>\n",
       "      <td>68.0</td>\n",
       "      <td>9717</td>\n",
       "      <td>Pave</td>\n",
       "      <td>NaN</td>\n",
       "      <td>Reg</td>\n",
       "      <td>Lvl</td>\n",
       "      <td>AllPub</td>\n",
       "      <td>Inside</td>\n",
       "      <td>...</td>\n",
       "      <td>0</td>\n",
       "      <td>0</td>\n",
       "      <td>NaN</td>\n",
       "      <td>NaN</td>\n",
       "      <td>NaN</td>\n",
       "      <td>0</td>\n",
       "      <td>4</td>\n",
       "      <td>2010</td>\n",
       "      <td>WD</td>\n",
       "      <td>Normal</td>\n",
       "    </tr>\n",
       "    <tr>\n",
       "      <th>1460</th>\n",
       "      <td>20</td>\n",
       "      <td>RL</td>\n",
       "      <td>75.0</td>\n",
       "      <td>9937</td>\n",
       "      <td>Pave</td>\n",
       "      <td>NaN</td>\n",
       "      <td>Reg</td>\n",
       "      <td>Lvl</td>\n",
       "      <td>AllPub</td>\n",
       "      <td>Inside</td>\n",
       "      <td>...</td>\n",
       "      <td>0</td>\n",
       "      <td>0</td>\n",
       "      <td>NaN</td>\n",
       "      <td>NaN</td>\n",
       "      <td>NaN</td>\n",
       "      <td>0</td>\n",
       "      <td>6</td>\n",
       "      <td>2008</td>\n",
       "      <td>WD</td>\n",
       "      <td>Normal</td>\n",
       "    </tr>\n",
       "  </tbody>\n",
       "</table>\n",
       "<p>201 rows × 79 columns</p>\n",
       "</div>"
      ],
      "text/plain": [
       "      MSSubClass MSZoning  LotFrontage  LotArea Street Alley LotShape  \\\n",
       "Id                                                                      \n",
       "1260          20       RL         65.0     9750   Pave   NaN      Reg   \n",
       "1261          60       RL          NaN    24682   Pave   NaN      IR3   \n",
       "1262          20       RL         80.0     9600   Pave   NaN      Reg   \n",
       "1263          50       RL          NaN    11250   Pave   NaN      Reg   \n",
       "1264          70       RL         60.0    13515   Pave  Pave      Reg   \n",
       "...          ...      ...          ...      ...    ...   ...      ...   \n",
       "1456          60       RL         62.0     7917   Pave   NaN      Reg   \n",
       "1457          20       RL         85.0    13175   Pave   NaN      Reg   \n",
       "1458          70       RL         66.0     9042   Pave   NaN      Reg   \n",
       "1459          20       RL         68.0     9717   Pave   NaN      Reg   \n",
       "1460          20       RL         75.0     9937   Pave   NaN      Reg   \n",
       "\n",
       "     LandContour Utilities LotConfig  ... ScreenPorch PoolArea PoolQC  Fence  \\\n",
       "Id                                    ...                                      \n",
       "1260         Lvl    AllPub       FR2  ...          80        0    NaN    NaN   \n",
       "1261         Lvl    AllPub   CulDSac  ...           0        0    NaN    NaN   \n",
       "1262         Lvl    AllPub    Inside  ...           0        0    NaN    NaN   \n",
       "1263         Lvl    AllPub    Inside  ...           0        0    NaN    NaN   \n",
       "1264         Lvl    AllPub    Inside  ...           0        0    NaN  GdPrv   \n",
       "...          ...       ...       ...  ...         ...      ...    ...    ...   \n",
       "1456         Lvl    AllPub    Inside  ...           0        0    NaN    NaN   \n",
       "1457         Lvl    AllPub    Inside  ...           0        0    NaN  MnPrv   \n",
       "1458         Lvl    AllPub    Inside  ...           0        0    NaN  GdPrv   \n",
       "1459         Lvl    AllPub    Inside  ...           0        0    NaN    NaN   \n",
       "1460         Lvl    AllPub    Inside  ...           0        0    NaN    NaN   \n",
       "\n",
       "     MiscFeature MiscVal  MoSold  YrSold  SaleType  SaleCondition  \n",
       "Id                                                                 \n",
       "1260         NaN       0       7    2008        WD         Normal  \n",
       "1261         NaN       0       6    2009        WD         Normal  \n",
       "1262         NaN       0       6    2009        WD         Normal  \n",
       "1263         NaN       0      11    2009        WD         Normal  \n",
       "1264         NaN       0       7    2007        WD         Normal  \n",
       "...          ...     ...     ...     ...       ...            ...  \n",
       "1456         NaN       0       8    2007        WD         Normal  \n",
       "1457         NaN       0       2    2010        WD         Normal  \n",
       "1458        Shed    2500       5    2010        WD         Normal  \n",
       "1459         NaN       0       4    2010        WD         Normal  \n",
       "1460         NaN       0       6    2008        WD         Normal  \n",
       "\n",
       "[201 rows x 79 columns]"
      ]
     },
     "execution_count": 4,
     "metadata": {},
     "output_type": "execute_result"
    }
   ],
   "source": [
    "test_df = pd.read_csv('/kaggle/input/neolen-house-price-prediction/test.csv', index_col='Id')\n",
    "test_df"
   ]
  },
  {
   "cell_type": "markdown",
   "id": "3e0b9464",
   "metadata": {
    "papermill": {
     "duration": 0.079676,
     "end_time": "2021-07-29T21:37:38.101062",
     "exception": false,
     "start_time": "2021-07-29T21:37:38.021386",
     "status": "completed"
    },
    "tags": []
   },
   "source": [
    "### EDA & Extracting Insights"
   ]
  },
  {
   "cell_type": "code",
   "execution_count": 5,
   "id": "bd570861",
   "metadata": {
    "execution": {
     "iopub.execute_input": "2021-07-29T21:37:38.263625Z",
     "iopub.status.busy": "2021-07-29T21:37:38.262942Z",
     "iopub.status.idle": "2021-07-29T21:37:38.296219Z",
     "shell.execute_reply": "2021-07-29T21:37:38.296727Z",
     "shell.execute_reply.started": "2021-07-29T21:29:17.346963Z"
    },
    "papermill": {
     "duration": 0.116063,
     "end_time": "2021-07-29T21:37:38.296937",
     "exception": false,
     "start_time": "2021-07-29T21:37:38.180874",
     "status": "completed"
    },
    "tags": []
   },
   "outputs": [
    {
     "name": "stdout",
     "output_type": "stream",
     "text": [
      "<class 'pandas.core.frame.DataFrame'>\n",
      "Int64Index: 1259 entries, 1 to 1259\n",
      "Data columns (total 80 columns):\n",
      " #   Column         Non-Null Count  Dtype  \n",
      "---  ------         --------------  -----  \n",
      " 0   MSSubClass     1259 non-null   int64  \n",
      " 1   MSZoning       1259 non-null   object \n",
      " 2   LotFrontage    1041 non-null   float64\n",
      " 3   LotArea        1259 non-null   int64  \n",
      " 4   Street         1259 non-null   object \n",
      " 5   Alley          76 non-null     object \n",
      " 6   LotShape       1259 non-null   object \n",
      " 7   LandContour    1259 non-null   object \n",
      " 8   Utilities      1259 non-null   object \n",
      " 9   LotConfig      1259 non-null   object \n",
      " 10  LandSlope      1259 non-null   object \n",
      " 11  Neighborhood   1259 non-null   object \n",
      " 12  Condition1     1259 non-null   object \n",
      " 13  Condition2     1259 non-null   object \n",
      " 14  BldgType       1259 non-null   object \n",
      " 15  HouseStyle     1259 non-null   object \n",
      " 16  OverallQual    1259 non-null   int64  \n",
      " 17  OverallCond    1259 non-null   int64  \n",
      " 18  YearBuilt      1259 non-null   int64  \n",
      " 19  YearRemodAdd   1259 non-null   int64  \n",
      " 20  RoofStyle      1259 non-null   object \n",
      " 21  RoofMatl       1259 non-null   object \n",
      " 22  Exterior1st    1259 non-null   object \n",
      " 23  Exterior2nd    1259 non-null   object \n",
      " 24  MasVnrType     1252 non-null   object \n",
      " 25  MasVnrArea     1252 non-null   float64\n",
      " 26  ExterQual      1259 non-null   object \n",
      " 27  ExterCond      1259 non-null   object \n",
      " 28  Foundation     1259 non-null   object \n",
      " 29  BsmtQual       1224 non-null   object \n",
      " 30  BsmtCond       1224 non-null   object \n",
      " 31  BsmtExposure   1223 non-null   object \n",
      " 32  BsmtFinType1   1224 non-null   object \n",
      " 33  BsmtFinSF1     1259 non-null   int64  \n",
      " 34  BsmtFinType2   1223 non-null   object \n",
      " 35  BsmtFinSF2     1259 non-null   int64  \n",
      " 36  BsmtUnfSF      1259 non-null   int64  \n",
      " 37  TotalBsmtSF    1259 non-null   int64  \n",
      " 38  Heating        1259 non-null   object \n",
      " 39  HeatingQC      1259 non-null   object \n",
      " 40  CentralAir     1259 non-null   object \n",
      " 41  Electrical     1259 non-null   object \n",
      " 42  1stFlrSF       1259 non-null   int64  \n",
      " 43  2ndFlrSF       1259 non-null   int64  \n",
      " 44  LowQualFinSF   1259 non-null   int64  \n",
      " 45  GrLivArea      1259 non-null   int64  \n",
      " 46  BsmtFullBath   1259 non-null   int64  \n",
      " 47  BsmtHalfBath   1259 non-null   int64  \n",
      " 48  FullBath       1259 non-null   int64  \n",
      " 49  HalfBath       1259 non-null   int64  \n",
      " 50  BedroomAbvGr   1259 non-null   int64  \n",
      " 51  KitchenAbvGr   1259 non-null   int64  \n",
      " 52  KitchenQual    1259 non-null   object \n",
      " 53  TotRmsAbvGrd   1259 non-null   int64  \n",
      " 54  Functional     1259 non-null   object \n",
      " 55  Fireplaces     1259 non-null   int64  \n",
      " 56  FireplaceQu    660 non-null    object \n",
      " 57  GarageType     1188 non-null   object \n",
      " 58  GarageYrBlt    1188 non-null   float64\n",
      " 59  GarageFinish   1188 non-null   object \n",
      " 60  GarageCars     1259 non-null   int64  \n",
      " 61  GarageArea     1259 non-null   int64  \n",
      " 62  GarageQual     1188 non-null   object \n",
      " 63  GarageCond     1188 non-null   object \n",
      " 64  PavedDrive     1259 non-null   object \n",
      " 65  WoodDeckSF     1259 non-null   int64  \n",
      " 66  OpenPorchSF    1259 non-null   int64  \n",
      " 67  EnclosedPorch  1259 non-null   int64  \n",
      " 68  3SsnPorch      1259 non-null   int64  \n",
      " 69  ScreenPorch    1259 non-null   int64  \n",
      " 70  PoolArea       1259 non-null   int64  \n",
      " 71  PoolQC         4 non-null      object \n",
      " 72  Fence          240 non-null    object \n",
      " 73  MiscFeature    51 non-null     object \n",
      " 74  MiscVal        1259 non-null   int64  \n",
      " 75  MoSold         1259 non-null   int64  \n",
      " 76  YrSold         1259 non-null   int64  \n",
      " 77  SaleType       1259 non-null   object \n",
      " 78  SaleCondition  1259 non-null   object \n",
      " 79  SalePrice      1259 non-null   int64  \n",
      "dtypes: float64(3), int64(34), object(43)\n",
      "memory usage: 796.7+ KB\n"
     ]
    }
   ],
   "source": [
    "train_df.info()"
   ]
  },
  {
   "cell_type": "code",
   "execution_count": 6,
   "id": "3a22f332",
   "metadata": {
    "execution": {
     "iopub.execute_input": "2021-07-29T21:37:38.461260Z",
     "iopub.status.busy": "2021-07-29T21:37:38.460279Z",
     "iopub.status.idle": "2021-07-29T21:37:38.476599Z",
     "shell.execute_reply": "2021-07-29T21:37:38.475910Z",
     "shell.execute_reply.started": "2021-07-29T21:29:17.382888Z"
    },
    "papermill": {
     "duration": 0.100267,
     "end_time": "2021-07-29T21:37:38.476746",
     "exception": false,
     "start_time": "2021-07-29T21:37:38.376479",
     "status": "completed"
    },
    "tags": []
   },
   "outputs": [
    {
     "data": {
      "text/plain": [
       "MSSubClass         0\n",
       "MSZoning           0\n",
       "LotFrontage      218\n",
       "LotArea            0\n",
       "Street             0\n",
       "                ... \n",
       "MoSold             0\n",
       "YrSold             0\n",
       "SaleType           0\n",
       "SaleCondition      0\n",
       "SalePrice          0\n",
       "Length: 80, dtype: int64"
      ]
     },
     "execution_count": 6,
     "metadata": {},
     "output_type": "execute_result"
    }
   ],
   "source": [
    "# NANs check\n",
    "train_df.isnull().sum()"
   ]
  },
  {
   "cell_type": "code",
   "execution_count": 7,
   "id": "17717286",
   "metadata": {
    "execution": {
     "iopub.execute_input": "2021-07-29T21:37:38.646046Z",
     "iopub.status.busy": "2021-07-29T21:37:38.644977Z",
     "iopub.status.idle": "2021-07-29T21:37:38.664781Z",
     "shell.execute_reply": "2021-07-29T21:37:38.665285Z",
     "shell.execute_reply.started": "2021-07-29T21:29:17.401135Z"
    },
    "papermill": {
     "duration": 0.107164,
     "end_time": "2021-07-29T21:37:38.665518",
     "exception": false,
     "start_time": "2021-07-29T21:37:38.558354",
     "status": "completed"
    },
    "tags": []
   },
   "outputs": [
    {
     "data": {
      "text/plain": [
       "LotFrontage      218\n",
       "Alley           1183\n",
       "MasVnrType         7\n",
       "MasVnrArea         7\n",
       "BsmtQual          35\n",
       "BsmtCond          35\n",
       "BsmtExposure      36\n",
       "BsmtFinType1      35\n",
       "BsmtFinType2      36\n",
       "FireplaceQu      599\n",
       "GarageType        71\n",
       "GarageYrBlt       71\n",
       "GarageFinish      71\n",
       "GarageQual        71\n",
       "GarageCond        71\n",
       "PoolQC          1255\n",
       "Fence           1019\n",
       "MiscFeature     1208\n",
       "dtype: int64"
      ]
     },
     "execution_count": 7,
     "metadata": {},
     "output_type": "execute_result"
    }
   ],
   "source": [
    "# Only Columns with NANs check\n",
    "train_df.loc[:,train_df.isnull().any()].isnull().sum()"
   ]
  },
  {
   "cell_type": "markdown",
   "id": "1f26f0aa",
   "metadata": {
    "papermill": {
     "duration": 0.080684,
     "end_time": "2021-07-29T21:37:38.827520",
     "exception": false,
     "start_time": "2021-07-29T21:37:38.746836",
     "status": "completed"
    },
    "tags": []
   },
   "source": [
    "#### Checking Highly filled NaNs columns"
   ]
  },
  {
   "cell_type": "code",
   "execution_count": 8,
   "id": "8e0d5757",
   "metadata": {
    "execution": {
     "iopub.execute_input": "2021-07-29T21:37:38.996861Z",
     "iopub.status.busy": "2021-07-29T21:37:38.995782Z",
     "iopub.status.idle": "2021-07-29T21:37:39.011665Z",
     "shell.execute_reply": "2021-07-29T21:37:39.012138Z",
     "shell.execute_reply.started": "2021-07-29T21:29:17.432103Z"
    },
    "papermill": {
     "duration": 0.101706,
     "end_time": "2021-07-29T21:37:39.012351",
     "exception": false,
     "start_time": "2021-07-29T21:37:38.910645",
     "status": "completed"
    },
    "tags": []
   },
   "outputs": [
    {
     "data": {
      "text/html": [
       "<div>\n",
       "<style scoped>\n",
       "    .dataframe tbody tr th:only-of-type {\n",
       "        vertical-align: middle;\n",
       "    }\n",
       "\n",
       "    .dataframe tbody tr th {\n",
       "        vertical-align: top;\n",
       "    }\n",
       "\n",
       "    .dataframe thead th {\n",
       "        text-align: right;\n",
       "    }\n",
       "</style>\n",
       "<table border=\"1\" class=\"dataframe\">\n",
       "  <thead>\n",
       "    <tr style=\"text-align: right;\">\n",
       "      <th></th>\n",
       "      <th>PoolQC</th>\n",
       "      <th>SalePrice</th>\n",
       "    </tr>\n",
       "    <tr>\n",
       "      <th>Id</th>\n",
       "      <th></th>\n",
       "      <th></th>\n",
       "    </tr>\n",
       "  </thead>\n",
       "  <tbody>\n",
       "    <tr>\n",
       "      <th>198</th>\n",
       "      <td>Ex</td>\n",
       "      <td>235000</td>\n",
       "    </tr>\n",
       "    <tr>\n",
       "      <th>811</th>\n",
       "      <td>Fa</td>\n",
       "      <td>181000</td>\n",
       "    </tr>\n",
       "    <tr>\n",
       "      <th>1171</th>\n",
       "      <td>Gd</td>\n",
       "      <td>171000</td>\n",
       "    </tr>\n",
       "    <tr>\n",
       "      <th>1183</th>\n",
       "      <td>Ex</td>\n",
       "      <td>745000</td>\n",
       "    </tr>\n",
       "  </tbody>\n",
       "</table>\n",
       "</div>"
      ],
      "text/plain": [
       "     PoolQC  SalePrice\n",
       "Id                    \n",
       "198      Ex     235000\n",
       "811      Fa     181000\n",
       "1171     Gd     171000\n",
       "1183     Ex     745000"
      ]
     },
     "execution_count": 8,
     "metadata": {},
     "output_type": "execute_result"
    }
   ],
   "source": [
    "train_df[train_df['PoolQC'].notnull()][['PoolQC', 'SalePrice']]"
   ]
  },
  {
   "cell_type": "code",
   "execution_count": 9,
   "id": "d54f78e2",
   "metadata": {
    "execution": {
     "iopub.execute_input": "2021-07-29T21:37:39.179514Z",
     "iopub.status.busy": "2021-07-29T21:37:39.178474Z",
     "iopub.status.idle": "2021-07-29T21:37:39.193391Z",
     "shell.execute_reply": "2021-07-29T21:37:39.193912Z",
     "shell.execute_reply.started": "2021-07-29T21:29:17.455137Z"
    },
    "papermill": {
     "duration": 0.100153,
     "end_time": "2021-07-29T21:37:39.194110",
     "exception": false,
     "start_time": "2021-07-29T21:37:39.093957",
     "status": "completed"
    },
    "tags": []
   },
   "outputs": [
    {
     "data": {
      "text/plain": [
       "MiscFeature\n",
       "Gar2    190000\n",
       "Othr    133000\n",
       "Shed    277000\n",
       "Name: SalePrice, dtype: int64"
      ]
     },
     "execution_count": 9,
     "metadata": {},
     "output_type": "execute_result"
    }
   ],
   "source": [
    "train_df[train_df['MiscFeature'].notnull()].groupby(['MiscFeature'])['SalePrice'].max()"
   ]
  },
  {
   "cell_type": "code",
   "execution_count": 10,
   "id": "3561cc87",
   "metadata": {
    "execution": {
     "iopub.execute_input": "2021-07-29T21:37:39.360969Z",
     "iopub.status.busy": "2021-07-29T21:37:39.359912Z",
     "iopub.status.idle": "2021-07-29T21:37:39.374422Z",
     "shell.execute_reply": "2021-07-29T21:37:39.373840Z",
     "shell.execute_reply.started": "2021-07-29T21:29:17.47912Z"
    },
    "papermill": {
     "duration": 0.099267,
     "end_time": "2021-07-29T21:37:39.374593",
     "exception": false,
     "start_time": "2021-07-29T21:37:39.275326",
     "status": "completed"
    },
    "tags": []
   },
   "outputs": [
    {
     "data": {
      "text/plain": [
       "MiscFeature\n",
       "Gar2    151500\n",
       "Othr     55000\n",
       "Shed     55993\n",
       "Name: SalePrice, dtype: int64"
      ]
     },
     "execution_count": 10,
     "metadata": {},
     "output_type": "execute_result"
    }
   ],
   "source": [
    "train_df[train_df['MiscFeature'].notnull()].groupby(['MiscFeature'])['SalePrice'].min()"
   ]
  },
  {
   "cell_type": "code",
   "execution_count": 11,
   "id": "b762283d",
   "metadata": {
    "execution": {
     "iopub.execute_input": "2021-07-29T21:37:39.549705Z",
     "iopub.status.busy": "2021-07-29T21:37:39.548790Z",
     "iopub.status.idle": "2021-07-29T21:37:39.553282Z",
     "shell.execute_reply": "2021-07-29T21:37:39.552748Z",
     "shell.execute_reply.started": "2021-07-29T21:29:17.499848Z"
    },
    "papermill": {
     "duration": 0.097206,
     "end_time": "2021-07-29T21:37:39.553465",
     "exception": false,
     "start_time": "2021-07-29T21:37:39.456259",
     "status": "completed"
    },
    "tags": []
   },
   "outputs": [
    {
     "data": {
      "text/plain": [
       "Fence\n",
       "GdPrv    475000\n",
       "GdWo     289000\n",
       "MnPrv    745000\n",
       "MnWw     187000\n",
       "Name: SalePrice, dtype: int64"
      ]
     },
     "execution_count": 11,
     "metadata": {},
     "output_type": "execute_result"
    }
   ],
   "source": [
    "train_df[train_df['Fence'].notnull()].groupby(['Fence'])['SalePrice'].max()"
   ]
  },
  {
   "cell_type": "code",
   "execution_count": 12,
   "id": "740e976f",
   "metadata": {
    "execution": {
     "iopub.execute_input": "2021-07-29T21:37:39.721226Z",
     "iopub.status.busy": "2021-07-29T21:37:39.720585Z",
     "iopub.status.idle": "2021-07-29T21:37:39.731668Z",
     "shell.execute_reply": "2021-07-29T21:37:39.730857Z",
     "shell.execute_reply.started": "2021-07-29T21:29:17.517009Z"
    },
    "papermill": {
     "duration": 0.096286,
     "end_time": "2021-07-29T21:37:39.731849",
     "exception": false,
     "start_time": "2021-07-29T21:37:39.635563",
     "status": "completed"
    },
    "tags": []
   },
   "outputs": [
    {
     "data": {
      "text/plain": [
       "Fence\n",
       "GdPrv    108000\n",
       "GdWo      34900\n",
       "MnPrv     40000\n",
       "MnWw     110000\n",
       "Name: SalePrice, dtype: int64"
      ]
     },
     "execution_count": 12,
     "metadata": {},
     "output_type": "execute_result"
    }
   ],
   "source": [
    "train_df[train_df['Fence'].notnull()].groupby(['Fence'])['SalePrice'].min()"
   ]
  },
  {
   "cell_type": "code",
   "execution_count": 13,
   "id": "825203d1",
   "metadata": {
    "execution": {
     "iopub.execute_input": "2021-07-29T21:37:39.904108Z",
     "iopub.status.busy": "2021-07-29T21:37:39.903309Z",
     "iopub.status.idle": "2021-07-29T21:37:39.912803Z",
     "shell.execute_reply": "2021-07-29T21:37:39.913274Z",
     "shell.execute_reply.started": "2021-07-29T21:29:17.539317Z"
    },
    "papermill": {
     "duration": 0.098401,
     "end_time": "2021-07-29T21:37:39.913512",
     "exception": false,
     "start_time": "2021-07-29T21:37:39.815111",
     "status": "completed"
    },
    "tags": []
   },
   "outputs": [
    {
     "data": {
      "text/plain": [
       "Alley\n",
       "Grvl    178000\n",
       "Pave    265979\n",
       "Name: SalePrice, dtype: int64"
      ]
     },
     "execution_count": 13,
     "metadata": {},
     "output_type": "execute_result"
    }
   ],
   "source": [
    "train_df[train_df['Alley'].notnull()].groupby(['Alley'])['SalePrice'].max()"
   ]
  },
  {
   "cell_type": "code",
   "execution_count": 14,
   "id": "5a840f52",
   "metadata": {
    "execution": {
     "iopub.execute_input": "2021-07-29T21:37:40.086309Z",
     "iopub.status.busy": "2021-07-29T21:37:40.085621Z",
     "iopub.status.idle": "2021-07-29T21:37:40.094531Z",
     "shell.execute_reply": "2021-07-29T21:37:40.095003Z",
     "shell.execute_reply.started": "2021-07-29T21:29:17.555084Z"
    },
    "papermill": {
     "duration": 0.095596,
     "end_time": "2021-07-29T21:37:40.095219",
     "exception": false,
     "start_time": "2021-07-29T21:37:39.999623",
     "status": "completed"
    },
    "tags": []
   },
   "outputs": [
    {
     "data": {
      "text/plain": [
       "Alley\n",
       "Grvl    67000\n",
       "Pave    40000\n",
       "Name: SalePrice, dtype: int64"
      ]
     },
     "execution_count": 14,
     "metadata": {},
     "output_type": "execute_result"
    }
   ],
   "source": [
    "train_df[train_df['Alley'].notnull()].groupby(['Alley'])['SalePrice'].min()"
   ]
  },
  {
   "cell_type": "markdown",
   "id": "b454ce37",
   "metadata": {
    "papermill": {
     "duration": 0.083478,
     "end_time": "2021-07-29T21:37:40.266153",
     "exception": false,
     "start_time": "2021-07-29T21:37:40.182675",
     "status": "completed"
    },
    "tags": []
   },
   "source": [
    "- Columns `Alley`, `PoolQC`, `Fence` and `MiscFeature` almost records are NaNs, we will drop it.\n",
    "- The rest will be imputed or dropna recording to nomber of NaNs and dtype."
   ]
  },
  {
   "cell_type": "code",
   "execution_count": 15,
   "id": "8cf83a98",
   "metadata": {
    "execution": {
     "iopub.execute_input": "2021-07-29T21:37:40.443076Z",
     "iopub.status.busy": "2021-07-29T21:37:40.437276Z",
     "iopub.status.idle": "2021-07-29T21:37:40.544875Z",
     "shell.execute_reply": "2021-07-29T21:37:40.544214Z",
     "shell.execute_reply.started": "2021-07-29T21:29:17.57274Z"
    },
    "papermill": {
     "duration": 0.195404,
     "end_time": "2021-07-29T21:37:40.545040",
     "exception": false,
     "start_time": "2021-07-29T21:37:40.349636",
     "status": "completed"
    },
    "tags": []
   },
   "outputs": [
    {
     "data": {
      "text/html": [
       "<div>\n",
       "<style scoped>\n",
       "    .dataframe tbody tr th:only-of-type {\n",
       "        vertical-align: middle;\n",
       "    }\n",
       "\n",
       "    .dataframe tbody tr th {\n",
       "        vertical-align: top;\n",
       "    }\n",
       "\n",
       "    .dataframe thead th {\n",
       "        text-align: right;\n",
       "    }\n",
       "</style>\n",
       "<table border=\"1\" class=\"dataframe\">\n",
       "  <thead>\n",
       "    <tr style=\"text-align: right;\">\n",
       "      <th></th>\n",
       "      <th>MSSubClass</th>\n",
       "      <th>LotFrontage</th>\n",
       "      <th>LotArea</th>\n",
       "      <th>OverallQual</th>\n",
       "      <th>OverallCond</th>\n",
       "      <th>YearBuilt</th>\n",
       "      <th>YearRemodAdd</th>\n",
       "      <th>MasVnrArea</th>\n",
       "      <th>BsmtFinSF1</th>\n",
       "      <th>BsmtFinSF2</th>\n",
       "      <th>...</th>\n",
       "      <th>WoodDeckSF</th>\n",
       "      <th>OpenPorchSF</th>\n",
       "      <th>EnclosedPorch</th>\n",
       "      <th>3SsnPorch</th>\n",
       "      <th>ScreenPorch</th>\n",
       "      <th>PoolArea</th>\n",
       "      <th>MiscVal</th>\n",
       "      <th>MoSold</th>\n",
       "      <th>YrSold</th>\n",
       "      <th>SalePrice</th>\n",
       "    </tr>\n",
       "  </thead>\n",
       "  <tbody>\n",
       "    <tr>\n",
       "      <th>count</th>\n",
       "      <td>1259.000000</td>\n",
       "      <td>1041.000000</td>\n",
       "      <td>1259.000000</td>\n",
       "      <td>1259.000000</td>\n",
       "      <td>1259.000000</td>\n",
       "      <td>1259.000000</td>\n",
       "      <td>1259.000000</td>\n",
       "      <td>1252.000000</td>\n",
       "      <td>1259.000000</td>\n",
       "      <td>1259.000000</td>\n",
       "      <td>...</td>\n",
       "      <td>1259.000000</td>\n",
       "      <td>1259.000000</td>\n",
       "      <td>1259.000000</td>\n",
       "      <td>1259.000000</td>\n",
       "      <td>1259.000000</td>\n",
       "      <td>1259.000000</td>\n",
       "      <td>1259.000000</td>\n",
       "      <td>1259.000000</td>\n",
       "      <td>1259.000000</td>\n",
       "      <td>1259.000000</td>\n",
       "    </tr>\n",
       "    <tr>\n",
       "      <th>mean</th>\n",
       "      <td>56.914218</td>\n",
       "      <td>70.110471</td>\n",
       "      <td>10524.300238</td>\n",
       "      <td>6.103257</td>\n",
       "      <td>5.570294</td>\n",
       "      <td>1971.478157</td>\n",
       "      <td>1984.816521</td>\n",
       "      <td>103.133387</td>\n",
       "      <td>443.334392</td>\n",
       "      <td>45.725973</td>\n",
       "      <td>...</td>\n",
       "      <td>94.604448</td>\n",
       "      <td>46.150913</td>\n",
       "      <td>21.625099</td>\n",
       "      <td>3.482129</td>\n",
       "      <td>14.668785</td>\n",
       "      <td>1.819698</td>\n",
       "      <td>45.944400</td>\n",
       "      <td>6.315330</td>\n",
       "      <td>2007.799841</td>\n",
       "      <td>181144.812550</td>\n",
       "    </tr>\n",
       "    <tr>\n",
       "      <th>std</th>\n",
       "      <td>42.353617</td>\n",
       "      <td>23.522213</td>\n",
       "      <td>10391.598333</td>\n",
       "      <td>1.381394</td>\n",
       "      <td>1.119465</td>\n",
       "      <td>29.933659</td>\n",
       "      <td>20.617506</td>\n",
       "      <td>182.185126</td>\n",
       "      <td>439.025793</td>\n",
       "      <td>159.593598</td>\n",
       "      <td>...</td>\n",
       "      <td>123.939261</td>\n",
       "      <td>65.449317</td>\n",
       "      <td>60.920712</td>\n",
       "      <td>29.289552</td>\n",
       "      <td>54.093490</td>\n",
       "      <td>32.364185</td>\n",
       "      <td>525.688744</td>\n",
       "      <td>2.684202</td>\n",
       "      <td>1.324095</td>\n",
       "      <td>80588.024473</td>\n",
       "    </tr>\n",
       "    <tr>\n",
       "      <th>min</th>\n",
       "      <td>20.000000</td>\n",
       "      <td>21.000000</td>\n",
       "      <td>1300.000000</td>\n",
       "      <td>1.000000</td>\n",
       "      <td>1.000000</td>\n",
       "      <td>1875.000000</td>\n",
       "      <td>1950.000000</td>\n",
       "      <td>0.000000</td>\n",
       "      <td>0.000000</td>\n",
       "      <td>0.000000</td>\n",
       "      <td>...</td>\n",
       "      <td>0.000000</td>\n",
       "      <td>0.000000</td>\n",
       "      <td>0.000000</td>\n",
       "      <td>0.000000</td>\n",
       "      <td>0.000000</td>\n",
       "      <td>0.000000</td>\n",
       "      <td>0.000000</td>\n",
       "      <td>1.000000</td>\n",
       "      <td>2006.000000</td>\n",
       "      <td>34900.000000</td>\n",
       "    </tr>\n",
       "    <tr>\n",
       "      <th>25%</th>\n",
       "      <td>20.000000</td>\n",
       "      <td>59.000000</td>\n",
       "      <td>7590.000000</td>\n",
       "      <td>5.000000</td>\n",
       "      <td>5.000000</td>\n",
       "      <td>1954.000000</td>\n",
       "      <td>1966.500000</td>\n",
       "      <td>0.000000</td>\n",
       "      <td>0.000000</td>\n",
       "      <td>0.000000</td>\n",
       "      <td>...</td>\n",
       "      <td>0.000000</td>\n",
       "      <td>0.000000</td>\n",
       "      <td>0.000000</td>\n",
       "      <td>0.000000</td>\n",
       "      <td>0.000000</td>\n",
       "      <td>0.000000</td>\n",
       "      <td>0.000000</td>\n",
       "      <td>5.000000</td>\n",
       "      <td>2007.000000</td>\n",
       "      <td>129900.000000</td>\n",
       "    </tr>\n",
       "    <tr>\n",
       "      <th>50%</th>\n",
       "      <td>50.000000</td>\n",
       "      <td>70.000000</td>\n",
       "      <td>9452.000000</td>\n",
       "      <td>6.000000</td>\n",
       "      <td>5.000000</td>\n",
       "      <td>1973.000000</td>\n",
       "      <td>1993.000000</td>\n",
       "      <td>0.000000</td>\n",
       "      <td>385.000000</td>\n",
       "      <td>0.000000</td>\n",
       "      <td>...</td>\n",
       "      <td>0.000000</td>\n",
       "      <td>24.000000</td>\n",
       "      <td>0.000000</td>\n",
       "      <td>0.000000</td>\n",
       "      <td>0.000000</td>\n",
       "      <td>0.000000</td>\n",
       "      <td>0.000000</td>\n",
       "      <td>6.000000</td>\n",
       "      <td>2008.000000</td>\n",
       "      <td>163500.000000</td>\n",
       "    </tr>\n",
       "    <tr>\n",
       "      <th>75%</th>\n",
       "      <td>70.000000</td>\n",
       "      <td>80.000000</td>\n",
       "      <td>11611.000000</td>\n",
       "      <td>7.000000</td>\n",
       "      <td>6.000000</td>\n",
       "      <td>2000.000000</td>\n",
       "      <td>2004.000000</td>\n",
       "      <td>166.000000</td>\n",
       "      <td>712.000000</td>\n",
       "      <td>0.000000</td>\n",
       "      <td>...</td>\n",
       "      <td>168.000000</td>\n",
       "      <td>68.000000</td>\n",
       "      <td>0.000000</td>\n",
       "      <td>0.000000</td>\n",
       "      <td>0.000000</td>\n",
       "      <td>0.000000</td>\n",
       "      <td>0.000000</td>\n",
       "      <td>8.000000</td>\n",
       "      <td>2009.000000</td>\n",
       "      <td>213750.000000</td>\n",
       "    </tr>\n",
       "    <tr>\n",
       "      <th>max</th>\n",
       "      <td>190.000000</td>\n",
       "      <td>313.000000</td>\n",
       "      <td>215245.000000</td>\n",
       "      <td>10.000000</td>\n",
       "      <td>9.000000</td>\n",
       "      <td>2010.000000</td>\n",
       "      <td>2010.000000</td>\n",
       "      <td>1600.000000</td>\n",
       "      <td>2260.000000</td>\n",
       "      <td>1474.000000</td>\n",
       "      <td>...</td>\n",
       "      <td>857.000000</td>\n",
       "      <td>523.000000</td>\n",
       "      <td>552.000000</td>\n",
       "      <td>508.000000</td>\n",
       "      <td>410.000000</td>\n",
       "      <td>648.000000</td>\n",
       "      <td>15500.000000</td>\n",
       "      <td>12.000000</td>\n",
       "      <td>2010.000000</td>\n",
       "      <td>755000.000000</td>\n",
       "    </tr>\n",
       "  </tbody>\n",
       "</table>\n",
       "<p>8 rows × 37 columns</p>\n",
       "</div>"
      ],
      "text/plain": [
       "        MSSubClass  LotFrontage        LotArea  OverallQual  OverallCond  \\\n",
       "count  1259.000000  1041.000000    1259.000000  1259.000000  1259.000000   \n",
       "mean     56.914218    70.110471   10524.300238     6.103257     5.570294   \n",
       "std      42.353617    23.522213   10391.598333     1.381394     1.119465   \n",
       "min      20.000000    21.000000    1300.000000     1.000000     1.000000   \n",
       "25%      20.000000    59.000000    7590.000000     5.000000     5.000000   \n",
       "50%      50.000000    70.000000    9452.000000     6.000000     5.000000   \n",
       "75%      70.000000    80.000000   11611.000000     7.000000     6.000000   \n",
       "max     190.000000   313.000000  215245.000000    10.000000     9.000000   \n",
       "\n",
       "         YearBuilt  YearRemodAdd   MasVnrArea   BsmtFinSF1   BsmtFinSF2  ...  \\\n",
       "count  1259.000000   1259.000000  1252.000000  1259.000000  1259.000000  ...   \n",
       "mean   1971.478157   1984.816521   103.133387   443.334392    45.725973  ...   \n",
       "std      29.933659     20.617506   182.185126   439.025793   159.593598  ...   \n",
       "min    1875.000000   1950.000000     0.000000     0.000000     0.000000  ...   \n",
       "25%    1954.000000   1966.500000     0.000000     0.000000     0.000000  ...   \n",
       "50%    1973.000000   1993.000000     0.000000   385.000000     0.000000  ...   \n",
       "75%    2000.000000   2004.000000   166.000000   712.000000     0.000000  ...   \n",
       "max    2010.000000   2010.000000  1600.000000  2260.000000  1474.000000  ...   \n",
       "\n",
       "        WoodDeckSF  OpenPorchSF  EnclosedPorch    3SsnPorch  ScreenPorch  \\\n",
       "count  1259.000000  1259.000000    1259.000000  1259.000000  1259.000000   \n",
       "mean     94.604448    46.150913      21.625099     3.482129    14.668785   \n",
       "std     123.939261    65.449317      60.920712    29.289552    54.093490   \n",
       "min       0.000000     0.000000       0.000000     0.000000     0.000000   \n",
       "25%       0.000000     0.000000       0.000000     0.000000     0.000000   \n",
       "50%       0.000000    24.000000       0.000000     0.000000     0.000000   \n",
       "75%     168.000000    68.000000       0.000000     0.000000     0.000000   \n",
       "max     857.000000   523.000000     552.000000   508.000000   410.000000   \n",
       "\n",
       "          PoolArea       MiscVal       MoSold       YrSold      SalePrice  \n",
       "count  1259.000000   1259.000000  1259.000000  1259.000000    1259.000000  \n",
       "mean      1.819698     45.944400     6.315330  2007.799841  181144.812550  \n",
       "std      32.364185    525.688744     2.684202     1.324095   80588.024473  \n",
       "min       0.000000      0.000000     1.000000  2006.000000   34900.000000  \n",
       "25%       0.000000      0.000000     5.000000  2007.000000  129900.000000  \n",
       "50%       0.000000      0.000000     6.000000  2008.000000  163500.000000  \n",
       "75%       0.000000      0.000000     8.000000  2009.000000  213750.000000  \n",
       "max     648.000000  15500.000000    12.000000  2010.000000  755000.000000  \n",
       "\n",
       "[8 rows x 37 columns]"
      ]
     },
     "execution_count": 15,
     "metadata": {},
     "output_type": "execute_result"
    }
   ],
   "source": [
    "train_df.describe()"
   ]
  },
  {
   "cell_type": "code",
   "execution_count": 16,
   "id": "c031655d",
   "metadata": {
    "execution": {
     "iopub.execute_input": "2021-07-29T21:37:40.733912Z",
     "iopub.status.busy": "2021-07-29T21:37:40.732000Z",
     "iopub.status.idle": "2021-07-29T21:37:40.826376Z",
     "shell.execute_reply": "2021-07-29T21:37:40.826890Z",
     "shell.execute_reply.started": "2021-07-29T21:29:17.6861Z"
    },
    "papermill": {
     "duration": 0.196583,
     "end_time": "2021-07-29T21:37:40.827097",
     "exception": false,
     "start_time": "2021-07-29T21:37:40.630514",
     "status": "completed"
    },
    "tags": []
   },
   "outputs": [
    {
     "data": {
      "text/html": [
       "<div>\n",
       "<style scoped>\n",
       "    .dataframe tbody tr th:only-of-type {\n",
       "        vertical-align: middle;\n",
       "    }\n",
       "\n",
       "    .dataframe tbody tr th {\n",
       "        vertical-align: top;\n",
       "    }\n",
       "\n",
       "    .dataframe thead th {\n",
       "        text-align: right;\n",
       "    }\n",
       "</style>\n",
       "<table border=\"1\" class=\"dataframe\">\n",
       "  <thead>\n",
       "    <tr style=\"text-align: right;\">\n",
       "      <th></th>\n",
       "      <th>MSSubClass</th>\n",
       "      <th>LotFrontage</th>\n",
       "      <th>LotArea</th>\n",
       "      <th>OverallQual</th>\n",
       "      <th>OverallCond</th>\n",
       "      <th>YearBuilt</th>\n",
       "      <th>YearRemodAdd</th>\n",
       "      <th>MasVnrArea</th>\n",
       "      <th>BsmtFinSF1</th>\n",
       "      <th>BsmtFinSF2</th>\n",
       "      <th>...</th>\n",
       "      <th>WoodDeckSF</th>\n",
       "      <th>OpenPorchSF</th>\n",
       "      <th>EnclosedPorch</th>\n",
       "      <th>3SsnPorch</th>\n",
       "      <th>ScreenPorch</th>\n",
       "      <th>PoolArea</th>\n",
       "      <th>MiscVal</th>\n",
       "      <th>MoSold</th>\n",
       "      <th>YrSold</th>\n",
       "      <th>SalePrice</th>\n",
       "    </tr>\n",
       "  </thead>\n",
       "  <tbody>\n",
       "    <tr>\n",
       "      <th>MSSubClass</th>\n",
       "      <td>1.000000</td>\n",
       "      <td>-0.397117</td>\n",
       "      <td>-0.124523</td>\n",
       "      <td>0.038126</td>\n",
       "      <td>-0.058921</td>\n",
       "      <td>0.030828</td>\n",
       "      <td>0.044212</td>\n",
       "      <td>0.026365</td>\n",
       "      <td>-0.068183</td>\n",
       "      <td>-0.048566</td>\n",
       "      <td>...</td>\n",
       "      <td>0.004691</td>\n",
       "      <td>-0.003911</td>\n",
       "      <td>-0.023596</td>\n",
       "      <td>-0.036815</td>\n",
       "      <td>-0.032764</td>\n",
       "      <td>0.000203</td>\n",
       "      <td>-0.009542</td>\n",
       "      <td>0.001958</td>\n",
       "      <td>-0.010881</td>\n",
       "      <td>-0.076628</td>\n",
       "    </tr>\n",
       "    <tr>\n",
       "      <th>LotFrontage</th>\n",
       "      <td>-0.397117</td>\n",
       "      <td>1.000000</td>\n",
       "      <td>0.390300</td>\n",
       "      <td>0.245102</td>\n",
       "      <td>-0.058688</td>\n",
       "      <td>0.112571</td>\n",
       "      <td>0.082321</td>\n",
       "      <td>0.170871</td>\n",
       "      <td>0.158104</td>\n",
       "      <td>0.062602</td>\n",
       "      <td>...</td>\n",
       "      <td>0.076873</td>\n",
       "      <td>0.142270</td>\n",
       "      <td>0.028764</td>\n",
       "      <td>0.070290</td>\n",
       "      <td>0.052953</td>\n",
       "      <td>0.128189</td>\n",
       "      <td>0.004415</td>\n",
       "      <td>0.019926</td>\n",
       "      <td>0.006987</td>\n",
       "      <td>0.378138</td>\n",
       "    </tr>\n",
       "    <tr>\n",
       "      <th>LotArea</th>\n",
       "      <td>-0.124523</td>\n",
       "      <td>0.390300</td>\n",
       "      <td>1.000000</td>\n",
       "      <td>0.097107</td>\n",
       "      <td>-0.004448</td>\n",
       "      <td>0.006597</td>\n",
       "      <td>0.011644</td>\n",
       "      <td>0.089085</td>\n",
       "      <td>0.190906</td>\n",
       "      <td>0.120436</td>\n",
       "      <td>...</td>\n",
       "      <td>0.173781</td>\n",
       "      <td>0.070516</td>\n",
       "      <td>-0.016449</td>\n",
       "      <td>0.013383</td>\n",
       "      <td>0.051514</td>\n",
       "      <td>0.023248</td>\n",
       "      <td>0.038711</td>\n",
       "      <td>0.006419</td>\n",
       "      <td>-0.020139</td>\n",
       "      <td>0.267146</td>\n",
       "    </tr>\n",
       "    <tr>\n",
       "      <th>OverallQual</th>\n",
       "      <td>0.038126</td>\n",
       "      <td>0.245102</td>\n",
       "      <td>0.097107</td>\n",
       "      <td>1.000000</td>\n",
       "      <td>-0.083344</td>\n",
       "      <td>0.569794</td>\n",
       "      <td>0.556333</td>\n",
       "      <td>0.410741</td>\n",
       "      <td>0.223098</td>\n",
       "      <td>-0.053877</td>\n",
       "      <td>...</td>\n",
       "      <td>0.233774</td>\n",
       "      <td>0.304890</td>\n",
       "      <td>-0.094715</td>\n",
       "      <td>0.018474</td>\n",
       "      <td>0.075551</td>\n",
       "      <td>0.053473</td>\n",
       "      <td>-0.038977</td>\n",
       "      <td>0.078894</td>\n",
       "      <td>-0.021286</td>\n",
       "      <td>0.790786</td>\n",
       "    </tr>\n",
       "    <tr>\n",
       "      <th>OverallCond</th>\n",
       "      <td>-0.058921</td>\n",
       "      <td>-0.058688</td>\n",
       "      <td>-0.004448</td>\n",
       "      <td>-0.083344</td>\n",
       "      <td>1.000000</td>\n",
       "      <td>-0.381242</td>\n",
       "      <td>0.081891</td>\n",
       "      <td>-0.126939</td>\n",
       "      <td>-0.042889</td>\n",
       "      <td>0.046174</td>\n",
       "      <td>...</td>\n",
       "      <td>-0.004177</td>\n",
       "      <td>-0.023493</td>\n",
       "      <td>0.072373</td>\n",
       "      <td>0.024191</td>\n",
       "      <td>0.045916</td>\n",
       "      <td>-0.013045</td>\n",
       "      <td>0.063002</td>\n",
       "      <td>-0.010689</td>\n",
       "      <td>0.030414</td>\n",
       "      <td>-0.083382</td>\n",
       "    </tr>\n",
       "    <tr>\n",
       "      <th>YearBuilt</th>\n",
       "      <td>0.030828</td>\n",
       "      <td>0.112571</td>\n",
       "      <td>0.006597</td>\n",
       "      <td>0.569794</td>\n",
       "      <td>-0.381242</td>\n",
       "      <td>1.000000</td>\n",
       "      <td>0.594038</td>\n",
       "      <td>0.316002</td>\n",
       "      <td>0.235523</td>\n",
       "      <td>-0.042714</td>\n",
       "      <td>...</td>\n",
       "      <td>0.233036</td>\n",
       "      <td>0.187761</td>\n",
       "      <td>-0.378061</td>\n",
       "      <td>0.026625</td>\n",
       "      <td>-0.034936</td>\n",
       "      <td>-0.007349</td>\n",
       "      <td>-0.032466</td>\n",
       "      <td>0.019304</td>\n",
       "      <td>0.014410</td>\n",
       "      <td>0.524407</td>\n",
       "    </tr>\n",
       "    <tr>\n",
       "      <th>YearRemodAdd</th>\n",
       "      <td>0.044212</td>\n",
       "      <td>0.082321</td>\n",
       "      <td>0.011644</td>\n",
       "      <td>0.556333</td>\n",
       "      <td>0.081891</td>\n",
       "      <td>0.594038</td>\n",
       "      <td>1.000000</td>\n",
       "      <td>0.184918</td>\n",
       "      <td>0.121526</td>\n",
       "      <td>-0.061302</td>\n",
       "      <td>...</td>\n",
       "      <td>0.215284</td>\n",
       "      <td>0.243421</td>\n",
       "      <td>-0.196151</td>\n",
       "      <td>0.036746</td>\n",
       "      <td>-0.023735</td>\n",
       "      <td>0.016141</td>\n",
       "      <td>-0.010992</td>\n",
       "      <td>0.031268</td>\n",
       "      <td>0.053221</td>\n",
       "      <td>0.512674</td>\n",
       "    </tr>\n",
       "    <tr>\n",
       "      <th>MasVnrArea</th>\n",
       "      <td>0.026365</td>\n",
       "      <td>0.170871</td>\n",
       "      <td>0.089085</td>\n",
       "      <td>0.410741</td>\n",
       "      <td>-0.126939</td>\n",
       "      <td>0.316002</td>\n",
       "      <td>0.184918</td>\n",
       "      <td>1.000000</td>\n",
       "      <td>0.253137</td>\n",
       "      <td>-0.063762</td>\n",
       "      <td>...</td>\n",
       "      <td>0.165032</td>\n",
       "      <td>0.116177</td>\n",
       "      <td>-0.103496</td>\n",
       "      <td>0.011902</td>\n",
       "      <td>0.086028</td>\n",
       "      <td>-0.023270</td>\n",
       "      <td>-0.030357</td>\n",
       "      <td>-0.003837</td>\n",
       "      <td>0.001436</td>\n",
       "      <td>0.483754</td>\n",
       "    </tr>\n",
       "    <tr>\n",
       "      <th>BsmtFinSF1</th>\n",
       "      <td>-0.068183</td>\n",
       "      <td>0.158104</td>\n",
       "      <td>0.190906</td>\n",
       "      <td>0.223098</td>\n",
       "      <td>-0.042889</td>\n",
       "      <td>0.235523</td>\n",
       "      <td>0.121526</td>\n",
       "      <td>0.253137</td>\n",
       "      <td>1.000000</td>\n",
       "      <td>-0.046444</td>\n",
       "      <td>...</td>\n",
       "      <td>0.208447</td>\n",
       "      <td>0.082063</td>\n",
       "      <td>-0.097119</td>\n",
       "      <td>0.017842</td>\n",
       "      <td>0.072006</td>\n",
       "      <td>0.078790</td>\n",
       "      <td>0.002993</td>\n",
       "      <td>-0.011076</td>\n",
       "      <td>0.007577</td>\n",
       "      <td>0.409673</td>\n",
       "    </tr>\n",
       "    <tr>\n",
       "      <th>BsmtFinSF2</th>\n",
       "      <td>-0.048566</td>\n",
       "      <td>0.062602</td>\n",
       "      <td>0.120436</td>\n",
       "      <td>-0.053877</td>\n",
       "      <td>0.046174</td>\n",
       "      <td>-0.042714</td>\n",
       "      <td>-0.061302</td>\n",
       "      <td>-0.063762</td>\n",
       "      <td>-0.046444</td>\n",
       "      <td>1.000000</td>\n",
       "      <td>...</td>\n",
       "      <td>0.065673</td>\n",
       "      <td>0.005176</td>\n",
       "      <td>0.031000</td>\n",
       "      <td>-0.033233</td>\n",
       "      <td>0.084689</td>\n",
       "      <td>0.035974</td>\n",
       "      <td>-0.000479</td>\n",
       "      <td>-0.013717</td>\n",
       "      <td>0.015374</td>\n",
       "      <td>0.000474</td>\n",
       "    </tr>\n",
       "    <tr>\n",
       "      <th>BsmtUnfSF</th>\n",
       "      <td>-0.141998</td>\n",
       "      <td>0.144712</td>\n",
       "      <td>-0.009771</td>\n",
       "      <td>0.312696</td>\n",
       "      <td>-0.139201</td>\n",
       "      <td>0.157881</td>\n",
       "      <td>0.183812</td>\n",
       "      <td>0.101299</td>\n",
       "      <td>-0.514475</td>\n",
       "      <td>-0.199820</td>\n",
       "      <td>...</td>\n",
       "      <td>-0.003151</td>\n",
       "      <td>0.125372</td>\n",
       "      <td>0.003457</td>\n",
       "      <td>0.012872</td>\n",
       "      <td>-0.006313</td>\n",
       "      <td>-0.040431</td>\n",
       "      <td>-0.027163</td>\n",
       "      <td>0.043573</td>\n",
       "      <td>-0.039794</td>\n",
       "      <td>0.207560</td>\n",
       "    </tr>\n",
       "    <tr>\n",
       "      <th>TotalBsmtSF</th>\n",
       "      <td>-0.237170</td>\n",
       "      <td>0.335394</td>\n",
       "      <td>0.233493</td>\n",
       "      <td>0.537320</td>\n",
       "      <td>-0.172232</td>\n",
       "      <td>0.393029</td>\n",
       "      <td>0.294682</td>\n",
       "      <td>0.344520</td>\n",
       "      <td>0.484407</td>\n",
       "      <td>0.120895</td>\n",
       "      <td>...</td>\n",
       "      <td>0.237937</td>\n",
       "      <td>0.217870</td>\n",
       "      <td>-0.085535</td>\n",
       "      <td>0.019401</td>\n",
       "      <td>0.100148</td>\n",
       "      <td>0.053234</td>\n",
       "      <td>-0.025393</td>\n",
       "      <td>0.028750</td>\n",
       "      <td>-0.027818</td>\n",
       "      <td>0.641946</td>\n",
       "    </tr>\n",
       "    <tr>\n",
       "      <th>1stFlrSF</th>\n",
       "      <td>-0.255475</td>\n",
       "      <td>0.429573</td>\n",
       "      <td>0.271434</td>\n",
       "      <td>0.464553</td>\n",
       "      <td>-0.165285</td>\n",
       "      <td>0.288842</td>\n",
       "      <td>0.235863</td>\n",
       "      <td>0.330541</td>\n",
       "      <td>0.420630</td>\n",
       "      <td>0.106610</td>\n",
       "      <td>...</td>\n",
       "      <td>0.229405</td>\n",
       "      <td>0.183766</td>\n",
       "      <td>-0.056604</td>\n",
       "      <td>0.030602</td>\n",
       "      <td>0.103743</td>\n",
       "      <td>0.057011</td>\n",
       "      <td>-0.026838</td>\n",
       "      <td>0.041105</td>\n",
       "      <td>-0.029189</td>\n",
       "      <td>0.617868</td>\n",
       "    </tr>\n",
       "    <tr>\n",
       "      <th>2ndFlrSF</th>\n",
       "      <td>0.306504</td>\n",
       "      <td>0.079917</td>\n",
       "      <td>0.050284</td>\n",
       "      <td>0.309279</td>\n",
       "      <td>0.033167</td>\n",
       "      <td>0.033306</td>\n",
       "      <td>0.161456</td>\n",
       "      <td>0.176142</td>\n",
       "      <td>-0.141313</td>\n",
       "      <td>-0.097414</td>\n",
       "      <td>...</td>\n",
       "      <td>0.094466</td>\n",
       "      <td>0.218237</td>\n",
       "      <td>0.062470</td>\n",
       "      <td>-0.014374</td>\n",
       "      <td>0.020668</td>\n",
       "      <td>0.059603</td>\n",
       "      <td>0.000913</td>\n",
       "      <td>0.048434</td>\n",
       "      <td>-0.034536</td>\n",
       "      <td>0.335212</td>\n",
       "    </tr>\n",
       "    <tr>\n",
       "      <th>LowQualFinSF</th>\n",
       "      <td>0.045522</td>\n",
       "      <td>0.046662</td>\n",
       "      <td>0.006925</td>\n",
       "      <td>-0.038920</td>\n",
       "      <td>0.023304</td>\n",
       "      <td>-0.187373</td>\n",
       "      <td>-0.073219</td>\n",
       "      <td>-0.069774</td>\n",
       "      <td>-0.065537</td>\n",
       "      <td>0.020279</td>\n",
       "      <td>...</td>\n",
       "      <td>-0.041806</td>\n",
       "      <td>0.023081</td>\n",
       "      <td>0.071324</td>\n",
       "      <td>-0.003854</td>\n",
       "      <td>0.034430</td>\n",
       "      <td>0.090012</td>\n",
       "      <td>-0.003678</td>\n",
       "      <td>-0.036145</td>\n",
       "      <td>-0.030252</td>\n",
       "      <td>-0.026166</td>\n",
       "    </tr>\n",
       "    <tr>\n",
       "      <th>GrLivArea</th>\n",
       "      <td>0.077398</td>\n",
       "      <td>0.383150</td>\n",
       "      <td>0.241856</td>\n",
       "      <td>0.598090</td>\n",
       "      <td>-0.090488</td>\n",
       "      <td>0.220969</td>\n",
       "      <td>0.302125</td>\n",
       "      <td>0.382704</td>\n",
       "      <td>0.181435</td>\n",
       "      <td>-0.002569</td>\n",
       "      <td>...</td>\n",
       "      <td>0.243734</td>\n",
       "      <td>0.321671</td>\n",
       "      <td>0.018599</td>\n",
       "      <td>0.009821</td>\n",
       "      <td>0.096812</td>\n",
       "      <td>0.101127</td>\n",
       "      <td>-0.019222</td>\n",
       "      <td>0.067540</td>\n",
       "      <td>-0.053616</td>\n",
       "      <td>0.733480</td>\n",
       "    </tr>\n",
       "    <tr>\n",
       "      <th>BsmtFullBath</th>\n",
       "      <td>0.023702</td>\n",
       "      <td>0.077108</td>\n",
       "      <td>0.155761</td>\n",
       "      <td>0.094544</td>\n",
       "      <td>-0.044130</td>\n",
       "      <td>0.165702</td>\n",
       "      <td>0.102382</td>\n",
       "      <td>0.077655</td>\n",
       "      <td>0.662639</td>\n",
       "      <td>0.148759</td>\n",
       "      <td>...</td>\n",
       "      <td>0.180573</td>\n",
       "      <td>0.064071</td>\n",
       "      <td>-0.046492</td>\n",
       "      <td>-0.001805</td>\n",
       "      <td>0.034925</td>\n",
       "      <td>0.062776</td>\n",
       "      <td>-0.023309</td>\n",
       "      <td>-0.018330</td>\n",
       "      <td>0.056775</td>\n",
       "      <td>0.223671</td>\n",
       "    </tr>\n",
       "    <tr>\n",
       "      <th>BsmtHalfBath</th>\n",
       "      <td>-0.006169</td>\n",
       "      <td>-0.003161</td>\n",
       "      <td>0.049930</td>\n",
       "      <td>-0.044297</td>\n",
       "      <td>0.129516</td>\n",
       "      <td>-0.050255</td>\n",
       "      <td>-0.009142</td>\n",
       "      <td>0.016012</td>\n",
       "      <td>0.061495</td>\n",
       "      <td>0.089955</td>\n",
       "      <td>...</td>\n",
       "      <td>0.045765</td>\n",
       "      <td>-0.028547</td>\n",
       "      <td>0.000986</td>\n",
       "      <td>0.042162</td>\n",
       "      <td>0.037163</td>\n",
       "      <td>0.037489</td>\n",
       "      <td>-0.006866</td>\n",
       "      <td>0.039957</td>\n",
       "      <td>-0.055876</td>\n",
       "      <td>-0.018857</td>\n",
       "    </tr>\n",
       "    <tr>\n",
       "      <th>FullBath</th>\n",
       "      <td>0.133017</td>\n",
       "      <td>0.213000</td>\n",
       "      <td>0.129285</td>\n",
       "      <td>0.555215</td>\n",
       "      <td>-0.198464</td>\n",
       "      <td>0.485409</td>\n",
       "      <td>0.440783</td>\n",
       "      <td>0.275623</td>\n",
       "      <td>0.056184</td>\n",
       "      <td>-0.067675</td>\n",
       "      <td>...</td>\n",
       "      <td>0.193089</td>\n",
       "      <td>0.246975</td>\n",
       "      <td>-0.112488</td>\n",
       "      <td>0.029489</td>\n",
       "      <td>-0.021716</td>\n",
       "      <td>0.015150</td>\n",
       "      <td>-0.026851</td>\n",
       "      <td>0.051439</td>\n",
       "      <td>-0.002268</td>\n",
       "      <td>0.566303</td>\n",
       "    </tr>\n",
       "    <tr>\n",
       "      <th>HalfBath</th>\n",
       "      <td>0.181627</td>\n",
       "      <td>0.041029</td>\n",
       "      <td>0.007830</td>\n",
       "      <td>0.285470</td>\n",
       "      <td>-0.060019</td>\n",
       "      <td>0.257610</td>\n",
       "      <td>0.200966</td>\n",
       "      <td>0.199677</td>\n",
       "      <td>0.005119</td>\n",
       "      <td>-0.042121</td>\n",
       "      <td>...</td>\n",
       "      <td>0.110511</td>\n",
       "      <td>0.231524</td>\n",
       "      <td>-0.102015</td>\n",
       "      <td>0.006728</td>\n",
       "      <td>0.084320</td>\n",
       "      <td>0.016080</td>\n",
       "      <td>0.002056</td>\n",
       "      <td>0.007884</td>\n",
       "      <td>-0.016459</td>\n",
       "      <td>0.298473</td>\n",
       "    </tr>\n",
       "    <tr>\n",
       "      <th>BedroomAbvGr</th>\n",
       "      <td>-0.021278</td>\n",
       "      <td>0.289597</td>\n",
       "      <td>0.112878</td>\n",
       "      <td>0.113908</td>\n",
       "      <td>0.003178</td>\n",
       "      <td>-0.050910</td>\n",
       "      <td>-0.028907</td>\n",
       "      <td>0.104774</td>\n",
       "      <td>-0.098893</td>\n",
       "      <td>-0.025806</td>\n",
       "      <td>...</td>\n",
       "      <td>0.048351</td>\n",
       "      <td>0.082341</td>\n",
       "      <td>0.045772</td>\n",
       "      <td>-0.019557</td>\n",
       "      <td>0.012626</td>\n",
       "      <td>0.041960</td>\n",
       "      <td>-0.008195</td>\n",
       "      <td>0.039819</td>\n",
       "      <td>-0.033851</td>\n",
       "      <td>0.170714</td>\n",
       "    </tr>\n",
       "    <tr>\n",
       "      <th>KitchenAbvGr</th>\n",
       "      <td>0.272842</td>\n",
       "      <td>-0.011720</td>\n",
       "      <td>-0.016560</td>\n",
       "      <td>-0.188754</td>\n",
       "      <td>-0.082645</td>\n",
       "      <td>-0.165798</td>\n",
       "      <td>-0.136440</td>\n",
       "      <td>-0.050228</td>\n",
       "      <td>-0.063617</td>\n",
       "      <td>-0.035328</td>\n",
       "      <td>...</td>\n",
       "      <td>-0.081226</td>\n",
       "      <td>-0.092585</td>\n",
       "      <td>0.024016</td>\n",
       "      <td>-0.024580</td>\n",
       "      <td>-0.049427</td>\n",
       "      <td>-0.011625</td>\n",
       "      <td>0.070939</td>\n",
       "      <td>0.031116</td>\n",
       "      <td>0.014817</td>\n",
       "      <td>-0.133655</td>\n",
       "    </tr>\n",
       "    <tr>\n",
       "      <th>TotRmsAbvGrd</th>\n",
       "      <td>0.042974</td>\n",
       "      <td>0.354284</td>\n",
       "      <td>0.177305</td>\n",
       "      <td>0.436375</td>\n",
       "      <td>-0.066667</td>\n",
       "      <td>0.122161</td>\n",
       "      <td>0.207268</td>\n",
       "      <td>0.280989</td>\n",
       "      <td>0.050293</td>\n",
       "      <td>-0.043176</td>\n",
       "      <td>...</td>\n",
       "      <td>0.169425</td>\n",
       "      <td>0.236732</td>\n",
       "      <td>0.002584</td>\n",
       "      <td>-0.020623</td>\n",
       "      <td>0.047315</td>\n",
       "      <td>0.022365</td>\n",
       "      <td>0.010971</td>\n",
       "      <td>0.040133</td>\n",
       "      <td>-0.047246</td>\n",
       "      <td>0.552707</td>\n",
       "    </tr>\n",
       "    <tr>\n",
       "      <th>Fireplaces</th>\n",
       "      <td>-0.033466</td>\n",
       "      <td>0.252134</td>\n",
       "      <td>0.263860</td>\n",
       "      <td>0.384657</td>\n",
       "      <td>-0.036815</td>\n",
       "      <td>0.146816</td>\n",
       "      <td>0.107915</td>\n",
       "      <td>0.247317</td>\n",
       "      <td>0.249514</td>\n",
       "      <td>0.058902</td>\n",
       "      <td>...</td>\n",
       "      <td>0.203903</td>\n",
       "      <td>0.160356</td>\n",
       "      <td>-0.008563</td>\n",
       "      <td>0.004405</td>\n",
       "      <td>0.173797</td>\n",
       "      <td>0.055642</td>\n",
       "      <td>-0.016181</td>\n",
       "      <td>0.055267</td>\n",
       "      <td>-0.044786</td>\n",
       "      <td>0.460081</td>\n",
       "    </tr>\n",
       "    <tr>\n",
       "      <th>GarageYrBlt</th>\n",
       "      <td>0.075443</td>\n",
       "      <td>0.062952</td>\n",
       "      <td>-0.032483</td>\n",
       "      <td>0.547631</td>\n",
       "      <td>-0.314817</td>\n",
       "      <td>0.841953</td>\n",
       "      <td>0.653402</td>\n",
       "      <td>0.256497</td>\n",
       "      <td>0.144944</td>\n",
       "      <td>-0.074037</td>\n",
       "      <td>...</td>\n",
       "      <td>0.227734</td>\n",
       "      <td>0.249373</td>\n",
       "      <td>-0.324863</td>\n",
       "      <td>0.020997</td>\n",
       "      <td>-0.048166</td>\n",
       "      <td>-0.025456</td>\n",
       "      <td>-0.024824</td>\n",
       "      <td>0.012245</td>\n",
       "      <td>0.031746</td>\n",
       "      <td>0.490973</td>\n",
       "    </tr>\n",
       "    <tr>\n",
       "      <th>GarageCars</th>\n",
       "      <td>-0.043084</td>\n",
       "      <td>0.316819</td>\n",
       "      <td>0.153345</td>\n",
       "      <td>0.611510</td>\n",
       "      <td>-0.188862</td>\n",
       "      <td>0.546753</td>\n",
       "      <td>0.429668</td>\n",
       "      <td>0.362282</td>\n",
       "      <td>0.248202</td>\n",
       "      <td>-0.020757</td>\n",
       "      <td>...</td>\n",
       "      <td>0.237094</td>\n",
       "      <td>0.213721</td>\n",
       "      <td>-0.148583</td>\n",
       "      <td>0.026703</td>\n",
       "      <td>0.061264</td>\n",
       "      <td>0.017459</td>\n",
       "      <td>-0.044159</td>\n",
       "      <td>0.055451</td>\n",
       "      <td>-0.036693</td>\n",
       "      <td>0.642079</td>\n",
       "    </tr>\n",
       "    <tr>\n",
       "      <th>GarageArea</th>\n",
       "      <td>-0.104279</td>\n",
       "      <td>0.339431</td>\n",
       "      <td>0.163802</td>\n",
       "      <td>0.558520</td>\n",
       "      <td>-0.154747</td>\n",
       "      <td>0.490776</td>\n",
       "      <td>0.372573</td>\n",
       "      <td>0.359539</td>\n",
       "      <td>0.295341</td>\n",
       "      <td>-0.000974</td>\n",
       "      <td>...</td>\n",
       "      <td>0.222872</td>\n",
       "      <td>0.228170</td>\n",
       "      <td>-0.125995</td>\n",
       "      <td>0.028728</td>\n",
       "      <td>0.065907</td>\n",
       "      <td>0.034384</td>\n",
       "      <td>-0.027386</td>\n",
       "      <td>0.043046</td>\n",
       "      <td>-0.027161</td>\n",
       "      <td>0.625499</td>\n",
       "    </tr>\n",
       "    <tr>\n",
       "      <th>WoodDeckSF</th>\n",
       "      <td>0.004691</td>\n",
       "      <td>0.076873</td>\n",
       "      <td>0.173781</td>\n",
       "      <td>0.233774</td>\n",
       "      <td>-0.004177</td>\n",
       "      <td>0.233036</td>\n",
       "      <td>0.215284</td>\n",
       "      <td>0.165032</td>\n",
       "      <td>0.208447</td>\n",
       "      <td>0.065673</td>\n",
       "      <td>...</td>\n",
       "      <td>1.000000</td>\n",
       "      <td>0.063533</td>\n",
       "      <td>-0.122629</td>\n",
       "      <td>-0.026559</td>\n",
       "      <td>-0.061845</td>\n",
       "      <td>0.033058</td>\n",
       "      <td>-0.004330</td>\n",
       "      <td>0.010294</td>\n",
       "      <td>0.029200</td>\n",
       "      <td>0.316402</td>\n",
       "    </tr>\n",
       "    <tr>\n",
       "      <th>OpenPorchSF</th>\n",
       "      <td>-0.003911</td>\n",
       "      <td>0.142270</td>\n",
       "      <td>0.070516</td>\n",
       "      <td>0.304890</td>\n",
       "      <td>-0.023493</td>\n",
       "      <td>0.187761</td>\n",
       "      <td>0.243421</td>\n",
       "      <td>0.116177</td>\n",
       "      <td>0.082063</td>\n",
       "      <td>0.005176</td>\n",
       "      <td>...</td>\n",
       "      <td>0.063533</td>\n",
       "      <td>1.000000</td>\n",
       "      <td>-0.084790</td>\n",
       "      <td>-0.012387</td>\n",
       "      <td>0.043445</td>\n",
       "      <td>-0.020359</td>\n",
       "      <td>-0.036994</td>\n",
       "      <td>0.078044</td>\n",
       "      <td>-0.056723</td>\n",
       "      <td>0.315975</td>\n",
       "    </tr>\n",
       "    <tr>\n",
       "      <th>EnclosedPorch</th>\n",
       "      <td>-0.023596</td>\n",
       "      <td>0.028764</td>\n",
       "      <td>-0.016449</td>\n",
       "      <td>-0.094715</td>\n",
       "      <td>0.072373</td>\n",
       "      <td>-0.378061</td>\n",
       "      <td>-0.196151</td>\n",
       "      <td>-0.103496</td>\n",
       "      <td>-0.097119</td>\n",
       "      <td>0.031000</td>\n",
       "      <td>...</td>\n",
       "      <td>-0.122629</td>\n",
       "      <td>-0.084790</td>\n",
       "      <td>1.000000</td>\n",
       "      <td>-0.036996</td>\n",
       "      <td>-0.080446</td>\n",
       "      <td>0.093972</td>\n",
       "      <td>0.023713</td>\n",
       "      <td>-0.024146</td>\n",
       "      <td>-0.007612</td>\n",
       "      <td>-0.118917</td>\n",
       "    </tr>\n",
       "    <tr>\n",
       "      <th>3SsnPorch</th>\n",
       "      <td>-0.036815</td>\n",
       "      <td>0.070290</td>\n",
       "      <td>0.013383</td>\n",
       "      <td>0.018474</td>\n",
       "      <td>0.024191</td>\n",
       "      <td>0.026625</td>\n",
       "      <td>0.036746</td>\n",
       "      <td>0.011902</td>\n",
       "      <td>0.017842</td>\n",
       "      <td>-0.033233</td>\n",
       "      <td>...</td>\n",
       "      <td>-0.026559</td>\n",
       "      <td>-0.012387</td>\n",
       "      <td>-0.036996</td>\n",
       "      <td>1.000000</td>\n",
       "      <td>-0.032265</td>\n",
       "      <td>-0.006690</td>\n",
       "      <td>0.001166</td>\n",
       "      <td>0.021320</td>\n",
       "      <td>0.032785</td>\n",
       "      <td>0.020845</td>\n",
       "    </tr>\n",
       "    <tr>\n",
       "      <th>ScreenPorch</th>\n",
       "      <td>-0.032764</td>\n",
       "      <td>0.052953</td>\n",
       "      <td>0.051514</td>\n",
       "      <td>0.075551</td>\n",
       "      <td>0.045916</td>\n",
       "      <td>-0.034936</td>\n",
       "      <td>-0.023735</td>\n",
       "      <td>0.086028</td>\n",
       "      <td>0.072006</td>\n",
       "      <td>0.084689</td>\n",
       "      <td>...</td>\n",
       "      <td>-0.061845</td>\n",
       "      <td>0.043445</td>\n",
       "      <td>-0.080446</td>\n",
       "      <td>-0.032265</td>\n",
       "      <td>1.000000</td>\n",
       "      <td>-0.015259</td>\n",
       "      <td>-0.000976</td>\n",
       "      <td>0.029960</td>\n",
       "      <td>0.010549</td>\n",
       "      <td>0.123616</td>\n",
       "    </tr>\n",
       "    <tr>\n",
       "      <th>PoolArea</th>\n",
       "      <td>0.000203</td>\n",
       "      <td>0.128189</td>\n",
       "      <td>0.023248</td>\n",
       "      <td>0.053473</td>\n",
       "      <td>-0.013045</td>\n",
       "      <td>-0.007349</td>\n",
       "      <td>0.016141</td>\n",
       "      <td>-0.023270</td>\n",
       "      <td>0.078790</td>\n",
       "      <td>0.035974</td>\n",
       "      <td>...</td>\n",
       "      <td>0.033058</td>\n",
       "      <td>-0.020359</td>\n",
       "      <td>0.093972</td>\n",
       "      <td>-0.006690</td>\n",
       "      <td>-0.015259</td>\n",
       "      <td>1.000000</td>\n",
       "      <td>-0.004918</td>\n",
       "      <td>-0.039964</td>\n",
       "      <td>-0.044824</td>\n",
       "      <td>0.101972</td>\n",
       "    </tr>\n",
       "    <tr>\n",
       "      <th>MiscVal</th>\n",
       "      <td>-0.009542</td>\n",
       "      <td>0.004415</td>\n",
       "      <td>0.038711</td>\n",
       "      <td>-0.038977</td>\n",
       "      <td>0.063002</td>\n",
       "      <td>-0.032466</td>\n",
       "      <td>-0.010992</td>\n",
       "      <td>-0.030357</td>\n",
       "      <td>0.002993</td>\n",
       "      <td>-0.000479</td>\n",
       "      <td>...</td>\n",
       "      <td>-0.004330</td>\n",
       "      <td>-0.036994</td>\n",
       "      <td>0.023713</td>\n",
       "      <td>0.001166</td>\n",
       "      <td>-0.000976</td>\n",
       "      <td>-0.004918</td>\n",
       "      <td>1.000000</td>\n",
       "      <td>-0.005639</td>\n",
       "      <td>0.004107</td>\n",
       "      <td>-0.031333</td>\n",
       "    </tr>\n",
       "    <tr>\n",
       "      <th>MoSold</th>\n",
       "      <td>0.001958</td>\n",
       "      <td>0.019926</td>\n",
       "      <td>0.006419</td>\n",
       "      <td>0.078894</td>\n",
       "      <td>-0.010689</td>\n",
       "      <td>0.019304</td>\n",
       "      <td>0.031268</td>\n",
       "      <td>-0.003837</td>\n",
       "      <td>-0.011076</td>\n",
       "      <td>-0.013717</td>\n",
       "      <td>...</td>\n",
       "      <td>0.010294</td>\n",
       "      <td>0.078044</td>\n",
       "      <td>-0.024146</td>\n",
       "      <td>0.021320</td>\n",
       "      <td>0.029960</td>\n",
       "      <td>-0.039964</td>\n",
       "      <td>-0.005639</td>\n",
       "      <td>1.000000</td>\n",
       "      <td>-0.140801</td>\n",
       "      <td>0.049208</td>\n",
       "    </tr>\n",
       "    <tr>\n",
       "      <th>YrSold</th>\n",
       "      <td>-0.010881</td>\n",
       "      <td>0.006987</td>\n",
       "      <td>-0.020139</td>\n",
       "      <td>-0.021286</td>\n",
       "      <td>0.030414</td>\n",
       "      <td>0.014410</td>\n",
       "      <td>0.053221</td>\n",
       "      <td>0.001436</td>\n",
       "      <td>0.007577</td>\n",
       "      <td>0.015374</td>\n",
       "      <td>...</td>\n",
       "      <td>0.029200</td>\n",
       "      <td>-0.056723</td>\n",
       "      <td>-0.007612</td>\n",
       "      <td>0.032785</td>\n",
       "      <td>0.010549</td>\n",
       "      <td>-0.044824</td>\n",
       "      <td>0.004107</td>\n",
       "      <td>-0.140801</td>\n",
       "      <td>1.000000</td>\n",
       "      <td>-0.036798</td>\n",
       "    </tr>\n",
       "    <tr>\n",
       "      <th>SalePrice</th>\n",
       "      <td>-0.076628</td>\n",
       "      <td>0.378138</td>\n",
       "      <td>0.267146</td>\n",
       "      <td>0.790786</td>\n",
       "      <td>-0.083382</td>\n",
       "      <td>0.524407</td>\n",
       "      <td>0.512674</td>\n",
       "      <td>0.483754</td>\n",
       "      <td>0.409673</td>\n",
       "      <td>0.000474</td>\n",
       "      <td>...</td>\n",
       "      <td>0.316402</td>\n",
       "      <td>0.315975</td>\n",
       "      <td>-0.118917</td>\n",
       "      <td>0.020845</td>\n",
       "      <td>0.123616</td>\n",
       "      <td>0.101972</td>\n",
       "      <td>-0.031333</td>\n",
       "      <td>0.049208</td>\n",
       "      <td>-0.036798</td>\n",
       "      <td>1.000000</td>\n",
       "    </tr>\n",
       "  </tbody>\n",
       "</table>\n",
       "<p>37 rows × 37 columns</p>\n",
       "</div>"
      ],
      "text/plain": [
       "               MSSubClass  LotFrontage   LotArea  OverallQual  OverallCond  \\\n",
       "MSSubClass       1.000000    -0.397117 -0.124523     0.038126    -0.058921   \n",
       "LotFrontage     -0.397117     1.000000  0.390300     0.245102    -0.058688   \n",
       "LotArea         -0.124523     0.390300  1.000000     0.097107    -0.004448   \n",
       "OverallQual      0.038126     0.245102  0.097107     1.000000    -0.083344   \n",
       "OverallCond     -0.058921    -0.058688 -0.004448    -0.083344     1.000000   \n",
       "YearBuilt        0.030828     0.112571  0.006597     0.569794    -0.381242   \n",
       "YearRemodAdd     0.044212     0.082321  0.011644     0.556333     0.081891   \n",
       "MasVnrArea       0.026365     0.170871  0.089085     0.410741    -0.126939   \n",
       "BsmtFinSF1      -0.068183     0.158104  0.190906     0.223098    -0.042889   \n",
       "BsmtFinSF2      -0.048566     0.062602  0.120436    -0.053877     0.046174   \n",
       "BsmtUnfSF       -0.141998     0.144712 -0.009771     0.312696    -0.139201   \n",
       "TotalBsmtSF     -0.237170     0.335394  0.233493     0.537320    -0.172232   \n",
       "1stFlrSF        -0.255475     0.429573  0.271434     0.464553    -0.165285   \n",
       "2ndFlrSF         0.306504     0.079917  0.050284     0.309279     0.033167   \n",
       "LowQualFinSF     0.045522     0.046662  0.006925    -0.038920     0.023304   \n",
       "GrLivArea        0.077398     0.383150  0.241856     0.598090    -0.090488   \n",
       "BsmtFullBath     0.023702     0.077108  0.155761     0.094544    -0.044130   \n",
       "BsmtHalfBath    -0.006169    -0.003161  0.049930    -0.044297     0.129516   \n",
       "FullBath         0.133017     0.213000  0.129285     0.555215    -0.198464   \n",
       "HalfBath         0.181627     0.041029  0.007830     0.285470    -0.060019   \n",
       "BedroomAbvGr    -0.021278     0.289597  0.112878     0.113908     0.003178   \n",
       "KitchenAbvGr     0.272842    -0.011720 -0.016560    -0.188754    -0.082645   \n",
       "TotRmsAbvGrd     0.042974     0.354284  0.177305     0.436375    -0.066667   \n",
       "Fireplaces      -0.033466     0.252134  0.263860     0.384657    -0.036815   \n",
       "GarageYrBlt      0.075443     0.062952 -0.032483     0.547631    -0.314817   \n",
       "GarageCars      -0.043084     0.316819  0.153345     0.611510    -0.188862   \n",
       "GarageArea      -0.104279     0.339431  0.163802     0.558520    -0.154747   \n",
       "WoodDeckSF       0.004691     0.076873  0.173781     0.233774    -0.004177   \n",
       "OpenPorchSF     -0.003911     0.142270  0.070516     0.304890    -0.023493   \n",
       "EnclosedPorch   -0.023596     0.028764 -0.016449    -0.094715     0.072373   \n",
       "3SsnPorch       -0.036815     0.070290  0.013383     0.018474     0.024191   \n",
       "ScreenPorch     -0.032764     0.052953  0.051514     0.075551     0.045916   \n",
       "PoolArea         0.000203     0.128189  0.023248     0.053473    -0.013045   \n",
       "MiscVal         -0.009542     0.004415  0.038711    -0.038977     0.063002   \n",
       "MoSold           0.001958     0.019926  0.006419     0.078894    -0.010689   \n",
       "YrSold          -0.010881     0.006987 -0.020139    -0.021286     0.030414   \n",
       "SalePrice       -0.076628     0.378138  0.267146     0.790786    -0.083382   \n",
       "\n",
       "               YearBuilt  YearRemodAdd  MasVnrArea  BsmtFinSF1  BsmtFinSF2  \\\n",
       "MSSubClass      0.030828      0.044212    0.026365   -0.068183   -0.048566   \n",
       "LotFrontage     0.112571      0.082321    0.170871    0.158104    0.062602   \n",
       "LotArea         0.006597      0.011644    0.089085    0.190906    0.120436   \n",
       "OverallQual     0.569794      0.556333    0.410741    0.223098   -0.053877   \n",
       "OverallCond    -0.381242      0.081891   -0.126939   -0.042889    0.046174   \n",
       "YearBuilt       1.000000      0.594038    0.316002    0.235523   -0.042714   \n",
       "YearRemodAdd    0.594038      1.000000    0.184918    0.121526   -0.061302   \n",
       "MasVnrArea      0.316002      0.184918    1.000000    0.253137   -0.063762   \n",
       "BsmtFinSF1      0.235523      0.121526    0.253137    1.000000   -0.046444   \n",
       "BsmtFinSF2     -0.042714     -0.061302   -0.063762   -0.046444    1.000000   \n",
       "BsmtUnfSF       0.157881      0.183812    0.101299   -0.514475   -0.199820   \n",
       "TotalBsmtSF     0.393029      0.294682    0.344520    0.484407    0.120895   \n",
       "1stFlrSF        0.288842      0.235863    0.330541    0.420630    0.106610   \n",
       "2ndFlrSF        0.033306      0.161456    0.176142   -0.141313   -0.097414   \n",
       "LowQualFinSF   -0.187373     -0.073219   -0.069774   -0.065537    0.020279   \n",
       "GrLivArea       0.220969      0.302125    0.382704    0.181435   -0.002569   \n",
       "BsmtFullBath    0.165702      0.102382    0.077655    0.662639    0.148759   \n",
       "BsmtHalfBath   -0.050255     -0.009142    0.016012    0.061495    0.089955   \n",
       "FullBath        0.485409      0.440783    0.275623    0.056184   -0.067675   \n",
       "HalfBath        0.257610      0.200966    0.199677    0.005119   -0.042121   \n",
       "BedroomAbvGr   -0.050910     -0.028907    0.104774   -0.098893   -0.025806   \n",
       "KitchenAbvGr   -0.165798     -0.136440   -0.050228   -0.063617   -0.035328   \n",
       "TotRmsAbvGrd    0.122161      0.207268    0.280989    0.050293   -0.043176   \n",
       "Fireplaces      0.146816      0.107915    0.247317    0.249514    0.058902   \n",
       "GarageYrBlt     0.841953      0.653402    0.256497    0.144944   -0.074037   \n",
       "GarageCars      0.546753      0.429668    0.362282    0.248202   -0.020757   \n",
       "GarageArea      0.490776      0.372573    0.359539    0.295341   -0.000974   \n",
       "WoodDeckSF      0.233036      0.215284    0.165032    0.208447    0.065673   \n",
       "OpenPorchSF     0.187761      0.243421    0.116177    0.082063    0.005176   \n",
       "EnclosedPorch  -0.378061     -0.196151   -0.103496   -0.097119    0.031000   \n",
       "3SsnPorch       0.026625      0.036746    0.011902    0.017842   -0.033233   \n",
       "ScreenPorch    -0.034936     -0.023735    0.086028    0.072006    0.084689   \n",
       "PoolArea       -0.007349      0.016141   -0.023270    0.078790    0.035974   \n",
       "MiscVal        -0.032466     -0.010992   -0.030357    0.002993   -0.000479   \n",
       "MoSold          0.019304      0.031268   -0.003837   -0.011076   -0.013717   \n",
       "YrSold          0.014410      0.053221    0.001436    0.007577    0.015374   \n",
       "SalePrice       0.524407      0.512674    0.483754    0.409673    0.000474   \n",
       "\n",
       "               ...  WoodDeckSF  OpenPorchSF  EnclosedPorch  3SsnPorch  \\\n",
       "MSSubClass     ...    0.004691    -0.003911      -0.023596  -0.036815   \n",
       "LotFrontage    ...    0.076873     0.142270       0.028764   0.070290   \n",
       "LotArea        ...    0.173781     0.070516      -0.016449   0.013383   \n",
       "OverallQual    ...    0.233774     0.304890      -0.094715   0.018474   \n",
       "OverallCond    ...   -0.004177    -0.023493       0.072373   0.024191   \n",
       "YearBuilt      ...    0.233036     0.187761      -0.378061   0.026625   \n",
       "YearRemodAdd   ...    0.215284     0.243421      -0.196151   0.036746   \n",
       "MasVnrArea     ...    0.165032     0.116177      -0.103496   0.011902   \n",
       "BsmtFinSF1     ...    0.208447     0.082063      -0.097119   0.017842   \n",
       "BsmtFinSF2     ...    0.065673     0.005176       0.031000  -0.033233   \n",
       "BsmtUnfSF      ...   -0.003151     0.125372       0.003457   0.012872   \n",
       "TotalBsmtSF    ...    0.237937     0.217870      -0.085535   0.019401   \n",
       "1stFlrSF       ...    0.229405     0.183766      -0.056604   0.030602   \n",
       "2ndFlrSF       ...    0.094466     0.218237       0.062470  -0.014374   \n",
       "LowQualFinSF   ...   -0.041806     0.023081       0.071324  -0.003854   \n",
       "GrLivArea      ...    0.243734     0.321671       0.018599   0.009821   \n",
       "BsmtFullBath   ...    0.180573     0.064071      -0.046492  -0.001805   \n",
       "BsmtHalfBath   ...    0.045765    -0.028547       0.000986   0.042162   \n",
       "FullBath       ...    0.193089     0.246975      -0.112488   0.029489   \n",
       "HalfBath       ...    0.110511     0.231524      -0.102015   0.006728   \n",
       "BedroomAbvGr   ...    0.048351     0.082341       0.045772  -0.019557   \n",
       "KitchenAbvGr   ...   -0.081226    -0.092585       0.024016  -0.024580   \n",
       "TotRmsAbvGrd   ...    0.169425     0.236732       0.002584  -0.020623   \n",
       "Fireplaces     ...    0.203903     0.160356      -0.008563   0.004405   \n",
       "GarageYrBlt    ...    0.227734     0.249373      -0.324863   0.020997   \n",
       "GarageCars     ...    0.237094     0.213721      -0.148583   0.026703   \n",
       "GarageArea     ...    0.222872     0.228170      -0.125995   0.028728   \n",
       "WoodDeckSF     ...    1.000000     0.063533      -0.122629  -0.026559   \n",
       "OpenPorchSF    ...    0.063533     1.000000      -0.084790  -0.012387   \n",
       "EnclosedPorch  ...   -0.122629    -0.084790       1.000000  -0.036996   \n",
       "3SsnPorch      ...   -0.026559    -0.012387      -0.036996   1.000000   \n",
       "ScreenPorch    ...   -0.061845     0.043445      -0.080446  -0.032265   \n",
       "PoolArea       ...    0.033058    -0.020359       0.093972  -0.006690   \n",
       "MiscVal        ...   -0.004330    -0.036994       0.023713   0.001166   \n",
       "MoSold         ...    0.010294     0.078044      -0.024146   0.021320   \n",
       "YrSold         ...    0.029200    -0.056723      -0.007612   0.032785   \n",
       "SalePrice      ...    0.316402     0.315975      -0.118917   0.020845   \n",
       "\n",
       "               ScreenPorch  PoolArea   MiscVal    MoSold    YrSold  SalePrice  \n",
       "MSSubClass       -0.032764  0.000203 -0.009542  0.001958 -0.010881  -0.076628  \n",
       "LotFrontage       0.052953  0.128189  0.004415  0.019926  0.006987   0.378138  \n",
       "LotArea           0.051514  0.023248  0.038711  0.006419 -0.020139   0.267146  \n",
       "OverallQual       0.075551  0.053473 -0.038977  0.078894 -0.021286   0.790786  \n",
       "OverallCond       0.045916 -0.013045  0.063002 -0.010689  0.030414  -0.083382  \n",
       "YearBuilt        -0.034936 -0.007349 -0.032466  0.019304  0.014410   0.524407  \n",
       "YearRemodAdd     -0.023735  0.016141 -0.010992  0.031268  0.053221   0.512674  \n",
       "MasVnrArea        0.086028 -0.023270 -0.030357 -0.003837  0.001436   0.483754  \n",
       "BsmtFinSF1        0.072006  0.078790  0.002993 -0.011076  0.007577   0.409673  \n",
       "BsmtFinSF2        0.084689  0.035974 -0.000479 -0.013717  0.015374   0.000474  \n",
       "BsmtUnfSF        -0.006313 -0.040431 -0.027163  0.043573 -0.039794   0.207560  \n",
       "TotalBsmtSF       0.100148  0.053234 -0.025393  0.028750 -0.027818   0.641946  \n",
       "1stFlrSF          0.103743  0.057011 -0.026838  0.041105 -0.029189   0.617868  \n",
       "2ndFlrSF          0.020668  0.059603  0.000913  0.048434 -0.034536   0.335212  \n",
       "LowQualFinSF      0.034430  0.090012 -0.003678 -0.036145 -0.030252  -0.026166  \n",
       "GrLivArea         0.096812  0.101127 -0.019222  0.067540 -0.053616   0.733480  \n",
       "BsmtFullBath      0.034925  0.062776 -0.023309 -0.018330  0.056775   0.223671  \n",
       "BsmtHalfBath      0.037163  0.037489 -0.006866  0.039957 -0.055876  -0.018857  \n",
       "FullBath         -0.021716  0.015150 -0.026851  0.051439 -0.002268   0.566303  \n",
       "HalfBath          0.084320  0.016080  0.002056  0.007884 -0.016459   0.298473  \n",
       "BedroomAbvGr      0.012626  0.041960 -0.008195  0.039819 -0.033851   0.170714  \n",
       "KitchenAbvGr     -0.049427 -0.011625  0.070939  0.031116  0.014817  -0.133655  \n",
       "TotRmsAbvGrd      0.047315  0.022365  0.010971  0.040133 -0.047246   0.552707  \n",
       "Fireplaces        0.173797  0.055642 -0.016181  0.055267 -0.044786   0.460081  \n",
       "GarageYrBlt      -0.048166 -0.025456 -0.024824  0.012245  0.031746   0.490973  \n",
       "GarageCars        0.061264  0.017459 -0.044159  0.055451 -0.036693   0.642079  \n",
       "GarageArea        0.065907  0.034384 -0.027386  0.043046 -0.027161   0.625499  \n",
       "WoodDeckSF       -0.061845  0.033058 -0.004330  0.010294  0.029200   0.316402  \n",
       "OpenPorchSF       0.043445 -0.020359 -0.036994  0.078044 -0.056723   0.315975  \n",
       "EnclosedPorch    -0.080446  0.093972  0.023713 -0.024146 -0.007612  -0.118917  \n",
       "3SsnPorch        -0.032265 -0.006690  0.001166  0.021320  0.032785   0.020845  \n",
       "ScreenPorch       1.000000 -0.015259 -0.000976  0.029960  0.010549   0.123616  \n",
       "PoolArea         -0.015259  1.000000 -0.004918 -0.039964 -0.044824   0.101972  \n",
       "MiscVal          -0.000976 -0.004918  1.000000 -0.005639  0.004107  -0.031333  \n",
       "MoSold            0.029960 -0.039964 -0.005639  1.000000 -0.140801   0.049208  \n",
       "YrSold            0.010549 -0.044824  0.004107 -0.140801  1.000000  -0.036798  \n",
       "SalePrice         0.123616  0.101972 -0.031333  0.049208 -0.036798   1.000000  \n",
       "\n",
       "[37 rows x 37 columns]"
      ]
     },
     "execution_count": 16,
     "metadata": {},
     "output_type": "execute_result"
    }
   ],
   "source": [
    "train_df.corr()"
   ]
  },
  {
   "cell_type": "code",
   "execution_count": 17,
   "id": "af289632",
   "metadata": {
    "execution": {
     "iopub.execute_input": "2021-07-29T21:37:41.052793Z",
     "iopub.status.busy": "2021-07-29T21:37:41.052070Z",
     "iopub.status.idle": "2021-07-29T21:37:41.132051Z",
     "shell.execute_reply": "2021-07-29T21:37:41.131418Z",
     "shell.execute_reply.started": "2021-07-29T21:29:17.751468Z"
    },
    "papermill": {
     "duration": 0.204024,
     "end_time": "2021-07-29T21:37:41.132218",
     "exception": false,
     "start_time": "2021-07-29T21:37:40.928194",
     "status": "completed"
    },
    "tags": []
   },
   "outputs": [
    {
     "data": {
      "text/plain": [
       "MSSubClass          20.0\n",
       "LotFrontage         21.0\n",
       "LotArea           1300.0\n",
       "OverallQual          1.0\n",
       "OverallCond          1.0\n",
       "YearBuilt         1875.0\n",
       "YearRemodAdd      1950.0\n",
       "MasVnrArea           0.0\n",
       "BsmtFinSF1           0.0\n",
       "BsmtFinSF2           0.0\n",
       "BsmtUnfSF            0.0\n",
       "TotalBsmtSF          0.0\n",
       "1stFlrSF           334.0\n",
       "2ndFlrSF             0.0\n",
       "LowQualFinSF         0.0\n",
       "GrLivArea          334.0\n",
       "BsmtFullBath         0.0\n",
       "BsmtHalfBath         0.0\n",
       "FullBath             0.0\n",
       "HalfBath             0.0\n",
       "BedroomAbvGr         0.0\n",
       "KitchenAbvGr         0.0\n",
       "TotRmsAbvGrd         2.0\n",
       "Fireplaces           0.0\n",
       "GarageYrBlt       1900.0\n",
       "GarageCars           0.0\n",
       "GarageArea           0.0\n",
       "WoodDeckSF           0.0\n",
       "OpenPorchSF          0.0\n",
       "EnclosedPorch        0.0\n",
       "3SsnPorch            0.0\n",
       "ScreenPorch          0.0\n",
       "PoolArea             0.0\n",
       "MiscVal              0.0\n",
       "MoSold               1.0\n",
       "YrSold            2006.0\n",
       "SalePrice        34900.0\n",
       "Name: min, dtype: float64"
      ]
     },
     "execution_count": 17,
     "metadata": {},
     "output_type": "execute_result"
    }
   ],
   "source": [
    "train_df.describe().loc['min']"
   ]
  },
  {
   "cell_type": "code",
   "execution_count": 18,
   "id": "ddd0dc2a",
   "metadata": {
    "execution": {
     "iopub.execute_input": "2021-07-29T21:37:41.313096Z",
     "iopub.status.busy": "2021-07-29T21:37:41.312388Z",
     "iopub.status.idle": "2021-07-29T21:37:42.560914Z",
     "shell.execute_reply": "2021-07-29T21:37:42.561460Z",
     "shell.execute_reply.started": "2021-07-29T21:29:17.83594Z"
    },
    "papermill": {
     "duration": 1.342272,
     "end_time": "2021-07-29T21:37:42.561665",
     "exception": false,
     "start_time": "2021-07-29T21:37:41.219393",
     "status": "completed"
    },
    "tags": []
   },
   "outputs": [
    {
     "data": {
      "image/png": "[encoded data removed]",
      "text/plain": [
       "<Figure size 864x864 with 2 Axes>"
      ]
     },
     "metadata": {
      "needs_background": "light"
     },
     "output_type": "display_data"
    }
   ],
   "source": [
    "plt.figure(figsize=(12,12));\n",
    "sns.heatmap(train_df.corr());"
   ]
  },
  {
   "cell_type": "markdown",
   "id": "1cd51e4f",
   "metadata": {
    "papermill": {
     "duration": 0.088882,
     "end_time": "2021-07-29T21:37:42.740355",
     "exception": false,
     "start_time": "2021-07-29T21:37:42.651473",
     "status": "completed"
    },
    "tags": []
   },
   "source": [
    "- No strong correlation above 95% between columns, so we must deal with them all without drop any of them."
   ]
  },
  {
   "cell_type": "code",
   "execution_count": 19,
   "id": "36df12ea",
   "metadata": {
    "execution": {
     "iopub.execute_input": "2021-07-29T21:37:42.925966Z",
     "iopub.status.busy": "2021-07-29T21:37:42.924878Z",
     "iopub.status.idle": "2021-07-29T21:37:43.378083Z",
     "shell.execute_reply": "2021-07-29T21:37:43.378591Z",
     "shell.execute_reply.started": "2021-07-29T21:29:19.064241Z"
    },
    "papermill": {
     "duration": 0.549346,
     "end_time": "2021-07-29T21:37:43.378812",
     "exception": false,
     "start_time": "2021-07-29T21:37:42.829466",
     "status": "completed"
    },
    "tags": []
   },
   "outputs": [
    {
     "data": {
      "image/png": "[encoded data removed]",
      "text/plain": [
       "<Figure size 576x576 with 1 Axes>"
      ]
     },
     "metadata": {
      "needs_background": "light"
     },
     "output_type": "display_data"
    }
   ],
   "source": [
    "plt.figure(figsize=(8,8));\n",
    "train_df['SalePrice'].hist(bins=100);\n",
    "plt.title('Sale Prices of Houses');"
   ]
  },
  {
   "cell_type": "code",
   "execution_count": 20,
   "id": "3c6f0001",
   "metadata": {
    "execution": {
     "iopub.execute_input": "2021-07-29T21:37:43.648556Z",
     "iopub.status.busy": "2021-07-29T21:37:43.647814Z",
     "iopub.status.idle": "2021-07-29T21:37:43.650921Z",
     "shell.execute_reply": "2021-07-29T21:37:43.651421Z",
     "shell.execute_reply.started": "2021-07-29T21:29:19.481984Z"
    },
    "papermill": {
     "duration": 0.108369,
     "end_time": "2021-07-29T21:37:43.651613",
     "exception": false,
     "start_time": "2021-07-29T21:37:43.543244",
     "status": "completed"
    },
    "tags": []
   },
   "outputs": [
    {
     "data": {
      "text/plain": [
       "count      1259.000000\n",
       "mean     181144.812550\n",
       "std       80588.024473\n",
       "min       34900.000000\n",
       "25%      129900.000000\n",
       "50%      163500.000000\n",
       "75%      213750.000000\n",
       "max      755000.000000\n",
       "Name: SalePrice, dtype: float64"
      ]
     },
     "execution_count": 20,
     "metadata": {},
     "output_type": "execute_result"
    }
   ],
   "source": [
    "train_df['SalePrice'].describe()"
   ]
  },
  {
   "cell_type": "markdown",
   "id": "de9829d0",
   "metadata": {
    "papermill": {
     "duration": 0.091569,
     "end_time": "2021-07-29T21:37:43.832148",
     "exception": false,
     "start_time": "2021-07-29T21:37:43.740579",
     "status": "completed"
    },
    "tags": []
   },
   "source": [
    "- `Most` Sale Prices in the range from 100K to 200K\n",
    "- `Min` Sale Price abount 35K and `Max` Sale Price about 750K\n",
    "- `Mean` Sale Price about 180K"
   ]
  },
  {
   "cell_type": "code",
   "execution_count": 21,
   "id": "d89e24a1",
   "metadata": {
    "execution": {
     "iopub.execute_input": "2021-07-29T21:37:44.021273Z",
     "iopub.status.busy": "2021-07-29T21:37:44.020467Z",
     "iopub.status.idle": "2021-07-29T21:37:44.174966Z",
     "shell.execute_reply": "2021-07-29T21:37:44.175644Z",
     "shell.execute_reply.started": "2021-07-29T21:29:19.493922Z"
    },
    "papermill": {
     "duration": 0.251429,
     "end_time": "2021-07-29T21:37:44.175888",
     "exception": false,
     "start_time": "2021-07-29T21:37:43.924459",
     "status": "completed"
    },
    "tags": []
   },
   "outputs": [
    {
     "data": {
      "image/png": "[encoded data removed]",
      "text/plain": [
       "<Figure size 432x288 with 1 Axes>"
      ]
     },
     "metadata": {
      "needs_background": "light"
     },
     "output_type": "display_data"
    }
   ],
   "source": [
    "train_df['MSZoning'].value_counts().plot(kind='barh')\n",
    "plt.title('Zoning Classification Of The Sale');"
   ]
  },
  {
   "cell_type": "markdown",
   "id": "f603eb8a",
   "metadata": {
    "papermill": {
     "duration": 0.111462,
     "end_time": "2021-07-29T21:37:44.399526",
     "exception": false,
     "start_time": "2021-07-29T21:37:44.288064",
     "status": "completed"
    },
    "tags": []
   },
   "source": [
    "- Most `Zoning Classification` of sale is RL [Residential Low Density\n",
    "]"
   ]
  },
  {
   "cell_type": "code",
   "execution_count": 22,
   "id": "12d7f65d",
   "metadata": {
    "execution": {
     "iopub.execute_input": "2021-07-29T21:37:44.626188Z",
     "iopub.status.busy": "2021-07-29T21:37:44.625321Z",
     "iopub.status.idle": "2021-07-29T21:37:44.632683Z",
     "shell.execute_reply": "2021-07-29T21:37:44.633314Z",
     "shell.execute_reply.started": "2021-07-29T21:29:19.648144Z"
    },
    "papermill": {
     "duration": 0.122355,
     "end_time": "2021-07-29T21:37:44.633589",
     "exception": false,
     "start_time": "2021-07-29T21:37:44.511234",
     "status": "completed"
    },
    "tags": []
   },
   "outputs": [
    {
     "data": {
      "text/plain": [
       "Pave    1253\n",
       "Grvl       6\n",
       "Name: Street, dtype: int64"
      ]
     },
     "execution_count": 22,
     "metadata": {},
     "output_type": "execute_result"
    }
   ],
   "source": [
    "train_df['Street'].value_counts()"
   ]
  },
  {
   "cell_type": "code",
   "execution_count": 23,
   "id": "31619be7",
   "metadata": {
    "execution": {
     "iopub.execute_input": "2021-07-29T21:37:44.861053Z",
     "iopub.status.busy": "2021-07-29T21:37:44.860248Z",
     "iopub.status.idle": "2021-07-29T21:37:44.890786Z",
     "shell.execute_reply": "2021-07-29T21:37:44.890195Z",
     "shell.execute_reply.started": "2021-07-29T21:29:19.664683Z"
    },
    "papermill": {
     "duration": 0.145167,
     "end_time": "2021-07-29T21:37:44.890965",
     "exception": false,
     "start_time": "2021-07-29T21:37:44.745798",
     "status": "completed"
    },
    "tags": []
   },
   "outputs": [
    {
     "data": {
      "text/html": [
       "<div>\n",
       "<style scoped>\n",
       "    .dataframe tbody tr th:only-of-type {\n",
       "        vertical-align: middle;\n",
       "    }\n",
       "\n",
       "    .dataframe tbody tr th {\n",
       "        vertical-align: top;\n",
       "    }\n",
       "\n",
       "    .dataframe thead th {\n",
       "        text-align: right;\n",
       "    }\n",
       "</style>\n",
       "<table border=\"1\" class=\"dataframe\">\n",
       "  <thead>\n",
       "    <tr style=\"text-align: right;\">\n",
       "      <th></th>\n",
       "      <th>MSSubClass</th>\n",
       "      <th>MSZoning</th>\n",
       "      <th>LotFrontage</th>\n",
       "      <th>LotArea</th>\n",
       "      <th>Street</th>\n",
       "      <th>Alley</th>\n",
       "      <th>LotShape</th>\n",
       "      <th>LandContour</th>\n",
       "      <th>Utilities</th>\n",
       "      <th>LotConfig</th>\n",
       "      <th>...</th>\n",
       "      <th>PoolArea</th>\n",
       "      <th>PoolQC</th>\n",
       "      <th>Fence</th>\n",
       "      <th>MiscFeature</th>\n",
       "      <th>MiscVal</th>\n",
       "      <th>MoSold</th>\n",
       "      <th>YrSold</th>\n",
       "      <th>SaleType</th>\n",
       "      <th>SaleCondition</th>\n",
       "      <th>SalePrice</th>\n",
       "    </tr>\n",
       "    <tr>\n",
       "      <th>Id</th>\n",
       "      <th></th>\n",
       "      <th></th>\n",
       "      <th></th>\n",
       "      <th></th>\n",
       "      <th></th>\n",
       "      <th></th>\n",
       "      <th></th>\n",
       "      <th></th>\n",
       "      <th></th>\n",
       "      <th></th>\n",
       "      <th></th>\n",
       "      <th></th>\n",
       "      <th></th>\n",
       "      <th></th>\n",
       "      <th></th>\n",
       "      <th></th>\n",
       "      <th></th>\n",
       "      <th></th>\n",
       "      <th></th>\n",
       "      <th></th>\n",
       "      <th></th>\n",
       "    </tr>\n",
       "  </thead>\n",
       "  <tbody>\n",
       "    <tr>\n",
       "      <th>53</th>\n",
       "      <td>90</td>\n",
       "      <td>RM</td>\n",
       "      <td>110.0</td>\n",
       "      <td>8472</td>\n",
       "      <td>Grvl</td>\n",
       "      <td>NaN</td>\n",
       "      <td>IR2</td>\n",
       "      <td>Bnk</td>\n",
       "      <td>AllPub</td>\n",
       "      <td>Corner</td>\n",
       "      <td>...</td>\n",
       "      <td>0</td>\n",
       "      <td>NaN</td>\n",
       "      <td>NaN</td>\n",
       "      <td>NaN</td>\n",
       "      <td>0</td>\n",
       "      <td>5</td>\n",
       "      <td>2010</td>\n",
       "      <td>WD</td>\n",
       "      <td>Normal</td>\n",
       "      <td>110000</td>\n",
       "    </tr>\n",
       "    <tr>\n",
       "      <th>336</th>\n",
       "      <td>190</td>\n",
       "      <td>RL</td>\n",
       "      <td>NaN</td>\n",
       "      <td>164660</td>\n",
       "      <td>Grvl</td>\n",
       "      <td>NaN</td>\n",
       "      <td>IR1</td>\n",
       "      <td>HLS</td>\n",
       "      <td>AllPub</td>\n",
       "      <td>Corner</td>\n",
       "      <td>...</td>\n",
       "      <td>0</td>\n",
       "      <td>NaN</td>\n",
       "      <td>NaN</td>\n",
       "      <td>Shed</td>\n",
       "      <td>700</td>\n",
       "      <td>8</td>\n",
       "      <td>2008</td>\n",
       "      <td>WD</td>\n",
       "      <td>Normal</td>\n",
       "      <td>228950</td>\n",
       "    </tr>\n",
       "    <tr>\n",
       "      <th>583</th>\n",
       "      <td>90</td>\n",
       "      <td>RL</td>\n",
       "      <td>81.0</td>\n",
       "      <td>11841</td>\n",
       "      <td>Grvl</td>\n",
       "      <td>NaN</td>\n",
       "      <td>Reg</td>\n",
       "      <td>Lvl</td>\n",
       "      <td>AllPub</td>\n",
       "      <td>Inside</td>\n",
       "      <td>...</td>\n",
       "      <td>0</td>\n",
       "      <td>NaN</td>\n",
       "      <td>NaN</td>\n",
       "      <td>NaN</td>\n",
       "      <td>0</td>\n",
       "      <td>5</td>\n",
       "      <td>2007</td>\n",
       "      <td>WD</td>\n",
       "      <td>Normal</td>\n",
       "      <td>118500</td>\n",
       "    </tr>\n",
       "    <tr>\n",
       "      <th>813</th>\n",
       "      <td>20</td>\n",
       "      <td>C (all)</td>\n",
       "      <td>66.0</td>\n",
       "      <td>8712</td>\n",
       "      <td>Grvl</td>\n",
       "      <td>NaN</td>\n",
       "      <td>Reg</td>\n",
       "      <td>Bnk</td>\n",
       "      <td>AllPub</td>\n",
       "      <td>Inside</td>\n",
       "      <td>...</td>\n",
       "      <td>0</td>\n",
       "      <td>NaN</td>\n",
       "      <td>NaN</td>\n",
       "      <td>Shed</td>\n",
       "      <td>54</td>\n",
       "      <td>6</td>\n",
       "      <td>2010</td>\n",
       "      <td>WD</td>\n",
       "      <td>Alloca</td>\n",
       "      <td>55993</td>\n",
       "    </tr>\n",
       "    <tr>\n",
       "      <th>1062</th>\n",
       "      <td>30</td>\n",
       "      <td>C (all)</td>\n",
       "      <td>120.0</td>\n",
       "      <td>18000</td>\n",
       "      <td>Grvl</td>\n",
       "      <td>NaN</td>\n",
       "      <td>Reg</td>\n",
       "      <td>Low</td>\n",
       "      <td>AllPub</td>\n",
       "      <td>Inside</td>\n",
       "      <td>...</td>\n",
       "      <td>0</td>\n",
       "      <td>NaN</td>\n",
       "      <td>NaN</td>\n",
       "      <td>Shed</td>\n",
       "      <td>560</td>\n",
       "      <td>8</td>\n",
       "      <td>2008</td>\n",
       "      <td>ConLD</td>\n",
       "      <td>Normal</td>\n",
       "      <td>81000</td>\n",
       "    </tr>\n",
       "    <tr>\n",
       "      <th>1185</th>\n",
       "      <td>20</td>\n",
       "      <td>RL</td>\n",
       "      <td>50.0</td>\n",
       "      <td>35133</td>\n",
       "      <td>Grvl</td>\n",
       "      <td>NaN</td>\n",
       "      <td>Reg</td>\n",
       "      <td>Lvl</td>\n",
       "      <td>AllPub</td>\n",
       "      <td>Inside</td>\n",
       "      <td>...</td>\n",
       "      <td>0</td>\n",
       "      <td>NaN</td>\n",
       "      <td>NaN</td>\n",
       "      <td>NaN</td>\n",
       "      <td>0</td>\n",
       "      <td>5</td>\n",
       "      <td>2007</td>\n",
       "      <td>WD</td>\n",
       "      <td>Normal</td>\n",
       "      <td>186700</td>\n",
       "    </tr>\n",
       "  </tbody>\n",
       "</table>\n",
       "<p>6 rows × 80 columns</p>\n",
       "</div>"
      ],
      "text/plain": [
       "      MSSubClass MSZoning  LotFrontage  LotArea Street Alley LotShape  \\\n",
       "Id                                                                      \n",
       "53            90       RM        110.0     8472   Grvl   NaN      IR2   \n",
       "336          190       RL          NaN   164660   Grvl   NaN      IR1   \n",
       "583           90       RL         81.0    11841   Grvl   NaN      Reg   \n",
       "813           20  C (all)         66.0     8712   Grvl   NaN      Reg   \n",
       "1062          30  C (all)        120.0    18000   Grvl   NaN      Reg   \n",
       "1185          20       RL         50.0    35133   Grvl   NaN      Reg   \n",
       "\n",
       "     LandContour Utilities LotConfig  ... PoolArea PoolQC Fence MiscFeature  \\\n",
       "Id                                    ...                                     \n",
       "53           Bnk    AllPub    Corner  ...        0    NaN   NaN         NaN   \n",
       "336          HLS    AllPub    Corner  ...        0    NaN   NaN        Shed   \n",
       "583          Lvl    AllPub    Inside  ...        0    NaN   NaN         NaN   \n",
       "813          Bnk    AllPub    Inside  ...        0    NaN   NaN        Shed   \n",
       "1062         Low    AllPub    Inside  ...        0    NaN   NaN        Shed   \n",
       "1185         Lvl    AllPub    Inside  ...        0    NaN   NaN         NaN   \n",
       "\n",
       "     MiscVal MoSold  YrSold  SaleType  SaleCondition  SalePrice  \n",
       "Id                                                               \n",
       "53         0      5    2010        WD         Normal     110000  \n",
       "336      700      8    2008        WD         Normal     228950  \n",
       "583        0      5    2007        WD         Normal     118500  \n",
       "813       54      6    2010        WD         Alloca      55993  \n",
       "1062     560      8    2008     ConLD         Normal      81000  \n",
       "1185       0      5    2007        WD         Normal     186700  \n",
       "\n",
       "[6 rows x 80 columns]"
      ]
     },
     "execution_count": 23,
     "metadata": {},
     "output_type": "execute_result"
    }
   ],
   "source": [
    "train_df[train_df['Street'] == 'Grvl']"
   ]
  },
  {
   "cell_type": "markdown",
   "id": "cd771388",
   "metadata": {
    "papermill": {
     "duration": 0.091903,
     "end_time": "2021-07-29T21:37:45.076984",
     "exception": false,
     "start_time": "2021-07-29T21:37:44.985081",
     "status": "completed"
    },
    "tags": []
   },
   "source": [
    "- Almost all the houses are `Paved` access from road\n",
    "- This feature won't be so effective if houses price prediction, we will `drop it`."
   ]
  },
  {
   "cell_type": "code",
   "execution_count": 24,
   "id": "939192d8",
   "metadata": {
    "execution": {
     "iopub.execute_input": "2021-07-29T21:37:45.271820Z",
     "iopub.status.busy": "2021-07-29T21:37:45.271021Z",
     "iopub.status.idle": "2021-07-29T21:37:45.273922Z",
     "shell.execute_reply": "2021-07-29T21:37:45.274460Z",
     "shell.execute_reply.started": "2021-07-29T21:29:19.702656Z"
    },
    "papermill": {
     "duration": 0.103693,
     "end_time": "2021-07-29T21:37:45.274661",
     "exception": false,
     "start_time": "2021-07-29T21:37:45.170968",
     "status": "completed"
    },
    "tags": []
   },
   "outputs": [
    {
     "data": {
      "text/plain": [
       "AllPub    1258\n",
       "NoSeWa       1\n",
       "Name: Utilities, dtype: int64"
      ]
     },
     "execution_count": 24,
     "metadata": {},
     "output_type": "execute_result"
    }
   ],
   "source": [
    "train_df['Utilities'].value_counts()"
   ]
  },
  {
   "cell_type": "code",
   "execution_count": 25,
   "id": "b1c73246",
   "metadata": {
    "execution": {
     "iopub.execute_input": "2021-07-29T21:37:45.462604Z",
     "iopub.status.busy": "2021-07-29T21:37:45.461798Z",
     "iopub.status.idle": "2021-07-29T21:37:45.486377Z",
     "shell.execute_reply": "2021-07-29T21:37:45.486938Z",
     "shell.execute_reply.started": "2021-07-29T21:29:19.718926Z"
    },
    "papermill": {
     "duration": 0.120305,
     "end_time": "2021-07-29T21:37:45.487162",
     "exception": false,
     "start_time": "2021-07-29T21:37:45.366857",
     "status": "completed"
    },
    "tags": []
   },
   "outputs": [
    {
     "data": {
      "text/html": [
       "<div>\n",
       "<style scoped>\n",
       "    .dataframe tbody tr th:only-of-type {\n",
       "        vertical-align: middle;\n",
       "    }\n",
       "\n",
       "    .dataframe tbody tr th {\n",
       "        vertical-align: top;\n",
       "    }\n",
       "\n",
       "    .dataframe thead th {\n",
       "        text-align: right;\n",
       "    }\n",
       "</style>\n",
       "<table border=\"1\" class=\"dataframe\">\n",
       "  <thead>\n",
       "    <tr style=\"text-align: right;\">\n",
       "      <th></th>\n",
       "      <th>MSSubClass</th>\n",
       "      <th>MSZoning</th>\n",
       "      <th>LotFrontage</th>\n",
       "      <th>LotArea</th>\n",
       "      <th>Street</th>\n",
       "      <th>Alley</th>\n",
       "      <th>LotShape</th>\n",
       "      <th>LandContour</th>\n",
       "      <th>Utilities</th>\n",
       "      <th>LotConfig</th>\n",
       "      <th>...</th>\n",
       "      <th>PoolArea</th>\n",
       "      <th>PoolQC</th>\n",
       "      <th>Fence</th>\n",
       "      <th>MiscFeature</th>\n",
       "      <th>MiscVal</th>\n",
       "      <th>MoSold</th>\n",
       "      <th>YrSold</th>\n",
       "      <th>SaleType</th>\n",
       "      <th>SaleCondition</th>\n",
       "      <th>SalePrice</th>\n",
       "    </tr>\n",
       "    <tr>\n",
       "      <th>Id</th>\n",
       "      <th></th>\n",
       "      <th></th>\n",
       "      <th></th>\n",
       "      <th></th>\n",
       "      <th></th>\n",
       "      <th></th>\n",
       "      <th></th>\n",
       "      <th></th>\n",
       "      <th></th>\n",
       "      <th></th>\n",
       "      <th></th>\n",
       "      <th></th>\n",
       "      <th></th>\n",
       "      <th></th>\n",
       "      <th></th>\n",
       "      <th></th>\n",
       "      <th></th>\n",
       "      <th></th>\n",
       "      <th></th>\n",
       "      <th></th>\n",
       "      <th></th>\n",
       "    </tr>\n",
       "  </thead>\n",
       "  <tbody>\n",
       "    <tr>\n",
       "      <th>945</th>\n",
       "      <td>20</td>\n",
       "      <td>RL</td>\n",
       "      <td>NaN</td>\n",
       "      <td>14375</td>\n",
       "      <td>Pave</td>\n",
       "      <td>NaN</td>\n",
       "      <td>IR1</td>\n",
       "      <td>Lvl</td>\n",
       "      <td>NoSeWa</td>\n",
       "      <td>CulDSac</td>\n",
       "      <td>...</td>\n",
       "      <td>0</td>\n",
       "      <td>NaN</td>\n",
       "      <td>NaN</td>\n",
       "      <td>NaN</td>\n",
       "      <td>0</td>\n",
       "      <td>1</td>\n",
       "      <td>2009</td>\n",
       "      <td>COD</td>\n",
       "      <td>Abnorml</td>\n",
       "      <td>137500</td>\n",
       "    </tr>\n",
       "  </tbody>\n",
       "</table>\n",
       "<p>1 rows × 80 columns</p>\n",
       "</div>"
      ],
      "text/plain": [
       "     MSSubClass MSZoning  LotFrontage  LotArea Street Alley LotShape  \\\n",
       "Id                                                                     \n",
       "945          20       RL          NaN    14375   Pave   NaN      IR1   \n",
       "\n",
       "    LandContour Utilities LotConfig  ... PoolArea PoolQC Fence MiscFeature  \\\n",
       "Id                                   ...                                     \n",
       "945         Lvl    NoSeWa   CulDSac  ...        0    NaN   NaN         NaN   \n",
       "\n",
       "    MiscVal MoSold  YrSold  SaleType  SaleCondition  SalePrice  \n",
       "Id                                                              \n",
       "945       0      1    2009       COD        Abnorml     137500  \n",
       "\n",
       "[1 rows x 80 columns]"
      ]
     },
     "execution_count": 25,
     "metadata": {},
     "output_type": "execute_result"
    }
   ],
   "source": [
    "train_df[train_df['Utilities'] == 'NoSeWa']"
   ]
  },
  {
   "cell_type": "markdown",
   "id": "e42fbbd3",
   "metadata": {
    "papermill": {
     "duration": 0.0938,
     "end_time": "2021-07-29T21:37:45.673588",
     "exception": false,
     "start_time": "2021-07-29T21:37:45.579788",
     "status": "completed"
    },
    "tags": []
   },
   "source": [
    "- `All houses` except just 1 of 1259 houses were sold with `all public utilities`\n",
    "- This feature won't be so effective if houses price prediction, we will `drop it`."
   ]
  },
  {
   "cell_type": "code",
   "execution_count": 26,
   "id": "79d983f0",
   "metadata": {
    "execution": {
     "iopub.execute_input": "2021-07-29T21:37:45.861732Z",
     "iopub.status.busy": "2021-07-29T21:37:45.860971Z",
     "iopub.status.idle": "2021-07-29T21:37:46.330057Z",
     "shell.execute_reply": "2021-07-29T21:37:46.330619Z",
     "shell.execute_reply.started": "2021-07-29T21:29:19.748783Z"
    },
    "papermill": {
     "duration": 0.565042,
     "end_time": "2021-07-29T21:37:46.330828",
     "exception": false,
     "start_time": "2021-07-29T21:37:45.765786",
     "status": "completed"
    },
    "tags": []
   },
   "outputs": [
    {
     "data": {
      "image/png": "[encoded data removed]",
      "text/plain": [
       "<Figure size 576x576 with 1 Axes>"
      ]
     },
     "metadata": {
      "needs_background": "light"
     },
     "output_type": "display_data"
    }
   ],
   "source": [
    "plt.figure(figsize=(8,8));\n",
    "train_df['Neighborhood'].value_counts().plot(kind='barh');\n",
    "plt.title('Neighborhood where Houses were Sold');"
   ]
  },
  {
   "cell_type": "markdown",
   "id": "272eec8a",
   "metadata": {
    "papermill": {
     "duration": 0.094008,
     "end_time": "2021-07-29T21:37:46.520196",
     "exception": false,
     "start_time": "2021-07-29T21:37:46.426188",
     "status": "completed"
    },
    "tags": []
   },
   "source": [
    "- Most of the homes were sold in North Ames Neighborhood.\n",
    "- This feature will play a vital role in price prediction."
   ]
  },
  {
   "cell_type": "code",
   "execution_count": 27,
   "id": "dff8e2bc",
   "metadata": {
    "execution": {
     "iopub.execute_input": "2021-07-29T21:37:46.742239Z",
     "iopub.status.busy": "2021-07-29T21:37:46.741546Z",
     "iopub.status.idle": "2021-07-29T21:37:46.894206Z",
     "shell.execute_reply": "2021-07-29T21:37:46.894721Z",
     "shell.execute_reply.started": "2021-07-29T21:29:20.23353Z"
    },
    "papermill": {
     "duration": 0.277301,
     "end_time": "2021-07-29T21:37:46.894930",
     "exception": false,
     "start_time": "2021-07-29T21:37:46.617629",
     "status": "completed"
    },
    "tags": []
   },
   "outputs": [
    {
     "data": {
      "image/png": "[encoded data removed]",
      "text/plain": [
       "<Figure size 432x288 with 1 Axes>"
      ]
     },
     "metadata": {
      "needs_background": "light"
     },
     "output_type": "display_data"
    }
   ],
   "source": [
    "train_df['BldgType'].value_counts().plot(kind='barh');\n",
    "plt.title('Type of Dwelling');"
   ]
  },
  {
   "cell_type": "markdown",
   "id": "295112db",
   "metadata": {
    "papermill": {
     "duration": 0.093912,
     "end_time": "2021-07-29T21:37:47.084790",
     "exception": false,
     "start_time": "2021-07-29T21:37:46.990878",
     "status": "completed"
    },
    "tags": []
   },
   "source": [
    "- Most houses were sold for `Single-family Detached`."
   ]
  },
  {
   "cell_type": "code",
   "execution_count": 28,
   "id": "0b6da89c",
   "metadata": {
    "execution": {
     "iopub.execute_input": "2021-07-29T21:37:47.281583Z",
     "iopub.status.busy": "2021-07-29T21:37:47.280910Z",
     "iopub.status.idle": "2021-07-29T21:37:47.502071Z",
     "shell.execute_reply": "2021-07-29T21:37:47.502591Z",
     "shell.execute_reply.started": "2021-07-29T21:29:20.384163Z"
    },
    "papermill": {
     "duration": 0.322283,
     "end_time": "2021-07-29T21:37:47.502779",
     "exception": false,
     "start_time": "2021-07-29T21:37:47.180496",
     "status": "completed"
    },
    "tags": []
   },
   "outputs": [
    {
     "data": {
      "image/png": "[encoded data removed]",
      "text/plain": [
       "<Figure size 432x288 with 1 Axes>"
      ]
     },
     "metadata": {
      "needs_background": "light"
     },
     "output_type": "display_data"
    }
   ],
   "source": [
    "train_df['OverallQual'].value_counts(sort=False).plot(kind='barh');\n",
    "plt.title('Rate of Overall Material and Finish of The Houses');"
   ]
  },
  {
   "cell_type": "code",
   "execution_count": 29,
   "id": "76ff7484",
   "metadata": {
    "execution": {
     "iopub.execute_input": "2021-07-29T21:37:47.694998Z",
     "iopub.status.busy": "2021-07-29T21:37:47.694316Z",
     "iopub.status.idle": "2021-07-29T21:37:47.895193Z",
     "shell.execute_reply": "2021-07-29T21:37:47.894653Z",
     "shell.execute_reply.started": "2021-07-29T21:29:20.577803Z"
    },
    "papermill": {
     "duration": 0.298017,
     "end_time": "2021-07-29T21:37:47.895344",
     "exception": false,
     "start_time": "2021-07-29T21:37:47.597327",
     "status": "completed"
    },
    "tags": []
   },
   "outputs": [
    {
     "data": {
      "image/png": "[encoded data removed]",
      "text/plain": [
       "<Figure size 432x288 with 1 Axes>"
      ]
     },
     "metadata": {
      "needs_background": "light"
     },
     "output_type": "display_data"
    }
   ],
   "source": [
    "train_df['OverallCond'].value_counts(sort=False).plot(kind='barh');\n",
    "plt.title('Rate of Overall Condition of The Houses');"
   ]
  },
  {
   "cell_type": "code",
   "execution_count": 30,
   "id": "e16b795c",
   "metadata": {
    "execution": {
     "iopub.execute_input": "2021-07-29T21:37:48.120211Z",
     "iopub.status.busy": "2021-07-29T21:37:48.119469Z",
     "iopub.status.idle": "2021-07-29T21:37:48.259470Z",
     "shell.execute_reply": "2021-07-29T21:37:48.259986Z",
     "shell.execute_reply.started": "2021-07-29T21:29:20.773395Z"
    },
    "papermill": {
     "duration": 0.269011,
     "end_time": "2021-07-29T21:37:48.260195",
     "exception": false,
     "start_time": "2021-07-29T21:37:47.991184",
     "status": "completed"
    },
    "tags": []
   },
   "outputs": [
    {
     "data": {
      "image/png": "[encoded data removed]",
      "text/plain": [
       "<Figure size 432x288 with 1 Axes>"
      ]
     },
     "metadata": {
      "needs_background": "light"
     },
     "output_type": "display_data"
    }
   ],
   "source": [
    "train_df['Foundation'].value_counts().plot(kind='barh');\n",
    "plt.title('Type of Foundation of The Houses');"
   ]
  },
  {
   "cell_type": "code",
   "execution_count": 31,
   "id": "594aa93c",
   "metadata": {
    "execution": {
     "iopub.execute_input": "2021-07-29T21:37:48.456487Z",
     "iopub.status.busy": "2021-07-29T21:37:48.455814Z",
     "iopub.status.idle": "2021-07-29T21:37:48.609021Z",
     "shell.execute_reply": "2021-07-29T21:37:48.609578Z",
     "shell.execute_reply.started": "2021-07-29T21:29:20.935079Z"
    },
    "papermill": {
     "duration": 0.253473,
     "end_time": "2021-07-29T21:37:48.609788",
     "exception": false,
     "start_time": "2021-07-29T21:37:48.356315",
     "status": "completed"
    },
    "scrolled": true,
    "tags": []
   },
   "outputs": [
    {
     "data": {
      "image/png": "[encoded data removed]",
      "text/plain": [
       "<Figure size 432x288 with 1 Axes>"
      ]
     },
     "metadata": {
      "needs_background": "light"
     },
     "output_type": "display_data"
    }
   ],
   "source": [
    "train_df['HeatingQC'].value_counts().plot(kind='barh');\n",
    "plt.title('Heating Quality and Condition');"
   ]
  },
  {
   "cell_type": "markdown",
   "id": "aee6a637",
   "metadata": {
    "papermill": {
     "duration": 0.099329,
     "end_time": "2021-07-29T21:37:48.807323",
     "exception": false,
     "start_time": "2021-07-29T21:37:48.707994",
     "status": "completed"
    },
    "tags": []
   },
   "source": [
    "- Most of the homes were sold with rate of Overall Material and Finish from `5 to 7`, Overall Condition of `5 and above 5`.\n",
    "- The most sold houses were `Poured Contrete` and `Cinder Block` foundations.\n",
    "- Almost `all houses` had `Heating Quality and Condition` and most of them were `Exceelent`\n",
    "- This feature will be important in price prediction."
   ]
  },
  {
   "cell_type": "code",
   "execution_count": 32,
   "id": "def612f7",
   "metadata": {
    "execution": {
     "iopub.execute_input": "2021-07-29T21:37:49.008648Z",
     "iopub.status.busy": "2021-07-29T21:37:49.007908Z",
     "iopub.status.idle": "2021-07-29T21:37:49.211316Z",
     "shell.execute_reply": "2021-07-29T21:37:49.210720Z",
     "shell.execute_reply.started": "2021-07-29T21:29:21.095979Z"
    },
    "papermill": {
     "duration": 0.305132,
     "end_time": "2021-07-29T21:37:49.211533",
     "exception": false,
     "start_time": "2021-07-29T21:37:48.906401",
     "status": "completed"
    },
    "tags": []
   },
   "outputs": [
    {
     "data": {
      "image/png": "[encoded data removed]",
      "text/plain": [
       "<Figure size 432x288 with 1 Axes>"
      ]
     },
     "metadata": {
      "needs_background": "light"
     },
     "output_type": "display_data"
    }
   ],
   "source": [
    "train_df.groupby(['YearBuilt'])['SalePrice'].mean().plot();\n",
    "plt.title('Yeas of Built VS Mean Sale Price');"
   ]
  },
  {
   "cell_type": "code",
   "execution_count": 33,
   "id": "b1131adb",
   "metadata": {
    "execution": {
     "iopub.execute_input": "2021-07-29T21:37:49.423293Z",
     "iopub.status.busy": "2021-07-29T21:37:49.420088Z",
     "iopub.status.idle": "2021-07-29T21:37:49.426733Z",
     "shell.execute_reply": "2021-07-29T21:37:49.427281Z",
     "shell.execute_reply.started": "2021-07-29T21:29:21.296135Z"
    },
    "papermill": {
     "duration": 0.11384,
     "end_time": "2021-07-29T21:37:49.427527",
     "exception": false,
     "start_time": "2021-07-29T21:37:49.313687",
     "status": "completed"
    },
    "tags": []
   },
   "outputs": [
    {
     "data": {
      "text/plain": [
       "YearBuilt\n",
       "1875     94000.00\n",
       "1880    200619.75\n",
       "1882    168000.00\n",
       "1885    100000.00\n",
       "1890    142200.00\n",
       "1892    475000.00\n",
       "1893    325000.00\n",
       "1898    106000.00\n",
       "1900    112492.60\n",
       "1904    157500.00\n",
       "Name: SalePrice, dtype: float64"
      ]
     },
     "execution_count": 33,
     "metadata": {},
     "output_type": "execute_result"
    }
   ],
   "source": [
    "train_df.groupby(['YearBuilt'])['SalePrice'].mean().head(10)"
   ]
  },
  {
   "cell_type": "markdown",
   "id": "1f6d3605",
   "metadata": {
    "papermill": {
     "duration": 0.101663,
     "end_time": "2021-07-29T21:37:49.630057",
     "exception": false,
     "start_time": "2021-07-29T21:37:49.528394",
     "status": "completed"
    },
    "tags": []
   },
   "source": [
    "- `Modern houses` are sold with `High Prices` compared with old ones\n",
    "- Only houses built in `1892 and 1893` were sold with `High Prices` even more than modrn ones, these houses must worth that."
   ]
  },
  {
   "cell_type": "code",
   "execution_count": 34,
   "id": "9048d42d",
   "metadata": {
    "execution": {
     "iopub.execute_input": "2021-07-29T21:37:49.832186Z",
     "iopub.status.busy": "2021-07-29T21:37:49.831249Z",
     "iopub.status.idle": "2021-07-29T21:37:50.914203Z",
     "shell.execute_reply": "2021-07-29T21:37:50.913614Z",
     "shell.execute_reply.started": "2021-07-29T21:29:21.309074Z"
    },
    "papermill": {
     "duration": 1.185086,
     "end_time": "2021-07-29T21:37:50.914375",
     "exception": false,
     "start_time": "2021-07-29T21:37:49.729289",
     "status": "completed"
    },
    "tags": []
   },
   "outputs": [
    {
     "data": {
      "image/png": "[encoded data removed]",
      "text/plain": [
       "<Figure size 720x1080 with 1 Axes>"
      ]
     },
     "metadata": {
      "needs_background": "light"
     },
     "output_type": "display_data"
    }
   ],
   "source": [
    "plt.figure(figsize=(10,15));\n",
    "train_df.groupby(['YrSold'])['MoSold'].value_counts(sort=False).plot(kind='barh');\n",
    "plt.title('Time of Sale');"
   ]
  },
  {
   "cell_type": "markdown",
   "id": "cf213610",
   "metadata": {
    "papermill": {
     "duration": 0.10423,
     "end_time": "2021-07-29T21:37:51.126975",
     "exception": false,
     "start_time": "2021-07-29T21:37:51.022745",
     "status": "completed"
    },
    "tags": []
   },
   "source": [
    "- Houses sales increase in months `5 to 7` (End of Spring and Beginning of Summer)"
   ]
  },
  {
   "cell_type": "markdown",
   "id": "e561d84b",
   "metadata": {
    "papermill": {
     "duration": 0.102489,
     "end_time": "2021-07-29T21:37:51.330843",
     "exception": false,
     "start_time": "2021-07-29T21:37:51.228354",
     "status": "completed"
    },
    "tags": []
   },
   "source": [
    "### Model 1  Pre-Processing"
   ]
  },
  {
   "cell_type": "markdown",
   "id": "e96dc225",
   "metadata": {
    "papermill": {
     "duration": 0.103144,
     "end_time": "2021-07-29T21:37:51.534873",
     "exception": false,
     "start_time": "2021-07-29T21:37:51.431729",
     "status": "completed"
    },
    "tags": []
   },
   "source": [
    "### Model 1  Pre-Processing"
   ]
  },
  {
   "cell_type": "code",
   "execution_count": 35,
   "id": "db28e636",
   "metadata": {
    "execution": {
     "iopub.execute_input": "2021-07-29T21:37:51.746801Z",
     "iopub.status.busy": "2021-07-29T21:37:51.746035Z",
     "iopub.status.idle": "2021-07-29T21:37:51.748016Z",
     "shell.execute_reply": "2021-07-29T21:37:51.748564Z",
     "shell.execute_reply.started": "2021-07-29T21:29:22.358341Z"
    },
    "papermill": {
     "duration": 0.113944,
     "end_time": "2021-07-29T21:37:51.748761",
     "exception": false,
     "start_time": "2021-07-29T21:37:51.634817",
     "status": "completed"
    },
    "tags": []
   },
   "outputs": [],
   "source": [
    "# Drop Almost NaNs and One Catagory columns\n",
    "train_df = train_df.drop(['Alley','PoolQC', 'Fence', 'MiscFeature', 'Utilities', 'Street'], axis=1)\n",
    "test_df = test_df.drop(['Alley', 'PoolQC', 'Fence', 'MiscFeature', 'Utilities', 'Street'], axis=1)"
   ]
  },
  {
   "cell_type": "code",
   "execution_count": 36,
   "id": "3f3a4bef",
   "metadata": {
    "execution": {
     "iopub.execute_input": "2021-07-29T21:37:51.953434Z",
     "iopub.status.busy": "2021-07-29T21:37:51.952729Z",
     "iopub.status.idle": "2021-07-29T21:37:51.959602Z",
     "shell.execute_reply": "2021-07-29T21:37:51.959018Z",
     "shell.execute_reply.started": "2021-07-29T21:29:22.370814Z"
    },
    "papermill": {
     "duration": 0.111177,
     "end_time": "2021-07-29T21:37:51.959762",
     "exception": false,
     "start_time": "2021-07-29T21:37:51.848585",
     "status": "completed"
    },
    "tags": []
   },
   "outputs": [
    {
     "name": "stdout",
     "output_type": "stream",
     "text": [
      "(1259, 74)\n",
      "(201, 73)\n"
     ]
    }
   ],
   "source": [
    "print(train_df.shape)\n",
    "print(test_df.shape)"
   ]
  },
  {
   "cell_type": "code",
   "execution_count": 37,
   "id": "fe0cc540",
   "metadata": {
    "execution": {
     "iopub.execute_input": "2021-07-29T21:37:52.178617Z",
     "iopub.status.busy": "2021-07-29T21:37:52.177890Z",
     "iopub.status.idle": "2021-07-29T21:37:52.254590Z",
     "shell.execute_reply": "2021-07-29T21:37:52.255081Z",
     "shell.execute_reply.started": "2021-07-29T21:29:22.385604Z"
    },
    "papermill": {
     "duration": 0.190412,
     "end_time": "2021-07-29T21:37:52.255300",
     "exception": false,
     "start_time": "2021-07-29T21:37:52.064888",
     "status": "completed"
    },
    "tags": []
   },
   "outputs": [],
   "source": [
    "# OneHot Enconding Catagorical columns\n",
    "Encoded_train = pd.get_dummies(train_df)\n",
    "Encoded_test = pd.get_dummies(test_df)"
   ]
  },
  {
   "cell_type": "code",
   "execution_count": 38,
   "id": "85905f94",
   "metadata": {
    "execution": {
     "iopub.execute_input": "2021-07-29T21:37:52.467117Z",
     "iopub.status.busy": "2021-07-29T21:37:52.466076Z",
     "iopub.status.idle": "2021-07-29T21:37:52.473847Z",
     "shell.execute_reply": "2021-07-29T21:37:52.473072Z",
     "shell.execute_reply.started": "2021-07-29T21:29:22.47556Z"
    },
    "papermill": {
     "duration": 0.115178,
     "end_time": "2021-07-29T21:37:52.474023",
     "exception": false,
     "start_time": "2021-07-29T21:37:52.358845",
     "status": "completed"
    },
    "tags": []
   },
   "outputs": [
    {
     "name": "stdout",
     "output_type": "stream",
     "text": [
      "(1259, 267)\n",
      "(201, 229)\n"
     ]
    }
   ],
   "source": [
    "print(Encoded_train.shape)\n",
    "print(Encoded_test.shape)"
   ]
  },
  {
   "cell_type": "code",
   "execution_count": 39,
   "id": "a2d0b9a4",
   "metadata": {
    "execution": {
     "iopub.execute_input": "2021-07-29T21:37:52.686578Z",
     "iopub.status.busy": "2021-07-29T21:37:52.685861Z",
     "iopub.status.idle": "2021-07-29T21:37:52.693167Z",
     "shell.execute_reply": "2021-07-29T21:37:52.692566Z",
     "shell.execute_reply.started": "2021-07-29T21:29:22.482736Z"
    },
    "papermill": {
     "duration": 0.116882,
     "end_time": "2021-07-29T21:37:52.693331",
     "exception": false,
     "start_time": "2021-07-29T21:37:52.576449",
     "status": "completed"
    },
    "tags": []
   },
   "outputs": [],
   "source": [
    "# Align two dataframes\n",
    "train1, test1 = Encoded_train.align(Encoded_test, join='right', axis=1)"
   ]
  },
  {
   "cell_type": "code",
   "execution_count": 40,
   "id": "d6b4aa68",
   "metadata": {
    "execution": {
     "iopub.execute_input": "2021-07-29T21:37:52.901059Z",
     "iopub.status.busy": "2021-07-29T21:37:52.900420Z",
     "iopub.status.idle": "2021-07-29T21:37:52.905859Z",
     "shell.execute_reply": "2021-07-29T21:37:52.904674Z",
     "shell.execute_reply.started": "2021-07-29T21:29:22.500443Z"
    },
    "papermill": {
     "duration": 0.112111,
     "end_time": "2021-07-29T21:37:52.906074",
     "exception": false,
     "start_time": "2021-07-29T21:37:52.793963",
     "status": "completed"
    },
    "scrolled": true,
    "tags": []
   },
   "outputs": [
    {
     "name": "stdout",
     "output_type": "stream",
     "text": [
      "(1259, 229)\n",
      "(201, 229)\n"
     ]
    }
   ],
   "source": [
    "print(train1.shape)\n",
    "print(test1.shape)"
   ]
  },
  {
   "cell_type": "code",
   "execution_count": 41,
   "id": "51b5eb43",
   "metadata": {
    "execution": {
     "iopub.execute_input": "2021-07-29T21:37:53.119476Z",
     "iopub.status.busy": "2021-07-29T21:37:53.118725Z",
     "iopub.status.idle": "2021-07-29T21:37:53.130879Z",
     "shell.execute_reply": "2021-07-29T21:37:53.131350Z",
     "shell.execute_reply.started": "2021-07-29T21:29:22.517344Z"
    },
    "papermill": {
     "duration": 0.120014,
     "end_time": "2021-07-29T21:37:53.131560",
     "exception": false,
     "start_time": "2021-07-29T21:37:53.011546",
     "status": "completed"
    },
    "tags": []
   },
   "outputs": [
    {
     "data": {
      "text/plain": [
       "RoofMatl_ClyTile      1259\n",
       "RoofMatl_Roll         1259\n",
       "Exterior1st_CBlock    1259\n",
       "Exterior2nd_CBlock    1259\n",
       "Heating_Floor         1259\n",
       "dtype: int64"
      ]
     },
     "execution_count": 41,
     "metadata": {},
     "output_type": "execute_result"
    }
   ],
   "source": [
    "train1.loc[:, train1.isnull().all()].isnull().sum()"
   ]
  },
  {
   "cell_type": "code",
   "execution_count": 42,
   "id": "9da3d8b0",
   "metadata": {
    "execution": {
     "iopub.execute_input": "2021-07-29T21:37:53.339689Z",
     "iopub.status.busy": "2021-07-29T21:37:53.339026Z",
     "iopub.status.idle": "2021-07-29T21:37:53.348835Z",
     "shell.execute_reply": "2021-07-29T21:37:53.349351Z",
     "shell.execute_reply.started": "2021-07-29T21:29:22.535764Z"
    },
    "papermill": {
     "duration": 0.115559,
     "end_time": "2021-07-29T21:37:53.349544",
     "exception": false,
     "start_time": "2021-07-29T21:37:53.233985",
     "status": "completed"
    },
    "tags": []
   },
   "outputs": [],
   "source": [
    "# Drop all NaNs columns\n",
    "train1 = train1.drop(['RoofMatl_ClyTile', 'RoofMatl_Roll', 'Exterior1st_CBlock', 'Exterior2nd_CBlock', 'Heating_Floor'], axis=1)\n",
    "test1 = test1.drop(['RoofMatl_ClyTile', 'RoofMatl_Roll', 'Exterior1st_CBlock', 'Exterior2nd_CBlock', 'Heating_Floor'], axis=1)"
   ]
  },
  {
   "cell_type": "code",
   "execution_count": 43,
   "id": "01c19b97",
   "metadata": {
    "execution": {
     "iopub.execute_input": "2021-07-29T21:37:53.556343Z",
     "iopub.status.busy": "2021-07-29T21:37:53.555636Z",
     "iopub.status.idle": "2021-07-29T21:37:53.562975Z",
     "shell.execute_reply": "2021-07-29T21:37:53.562305Z",
     "shell.execute_reply.started": "2021-07-29T21:29:22.5499Z"
    },
    "papermill": {
     "duration": 0.112433,
     "end_time": "2021-07-29T21:37:53.563116",
     "exception": false,
     "start_time": "2021-07-29T21:37:53.450683",
     "status": "completed"
    },
    "tags": []
   },
   "outputs": [
    {
     "name": "stdout",
     "output_type": "stream",
     "text": [
      "(1259, 224)\n",
      "(201, 224)\n"
     ]
    }
   ],
   "source": [
    "print(train1.shape)\n",
    "print(test1.shape)"
   ]
  },
  {
   "cell_type": "code",
   "execution_count": 44,
   "id": "99757b62",
   "metadata": {
    "execution": {
     "iopub.execute_input": "2021-07-29T21:37:53.776149Z",
     "iopub.status.busy": "2021-07-29T21:37:53.775313Z",
     "iopub.status.idle": "2021-07-29T21:37:53.780305Z",
     "shell.execute_reply": "2021-07-29T21:37:53.779647Z",
     "shell.execute_reply.started": "2021-07-29T21:29:22.562959Z"
    },
    "papermill": {
     "duration": 0.112603,
     "end_time": "2021-07-29T21:37:53.780470",
     "exception": false,
     "start_time": "2021-07-29T21:37:53.667867",
     "status": "completed"
    },
    "tags": []
   },
   "outputs": [
    {
     "name": "stdout",
     "output_type": "stream",
     "text": [
      "[ True  True  True  True  True  True  True  True  True  True  True  True\n",
      "  True  True  True  True  True  True  True  True  True  True  True  True\n",
      "  True  True  True  True  True  True  True  True  True  True  True  True\n",
      "  True  True  True  True  True  True  True  True  True  True  True  True\n",
      "  True  True  True  True  True  True  True  True  True  True  True  True\n",
      "  True  True  True  True  True  True  True  True  True  True  True  True\n",
      "  True  True  True  True  True  True  True  True  True  True  True  True\n",
      "  True  True  True  True  True  True  True  True  True  True  True  True\n",
      "  True  True  True  True  True  True  True  True  True  True  True  True\n",
      "  True  True  True  True  True  True  True  True  True  True  True  True\n",
      "  True  True  True  True  True  True  True  True  True  True  True  True\n",
      "  True  True  True  True  True  True  True  True  True  True  True  True\n",
      "  True  True  True  True  True  True  True  True  True  True  True  True\n",
      "  True  True  True  True  True  True  True  True  True  True  True  True\n",
      "  True  True  True  True  True  True  True  True  True  True  True  True\n",
      "  True  True  True  True  True  True  True  True  True  True  True  True\n",
      "  True  True  True  True  True  True  True  True  True  True  True  True\n",
      "  True  True  True  True  True  True  True  True  True  True  True  True\n",
      "  True  True  True  True  True  True  True  True]\n"
     ]
    }
   ],
   "source": [
    "print(train1.columns == test1.columns)"
   ]
  },
  {
   "cell_type": "code",
   "execution_count": 45,
   "id": "abaccf9e",
   "metadata": {
    "execution": {
     "iopub.execute_input": "2021-07-29T21:37:53.993802Z",
     "iopub.status.busy": "2021-07-29T21:37:53.993015Z",
     "iopub.status.idle": "2021-07-29T21:37:53.996609Z",
     "shell.execute_reply": "2021-07-29T21:37:53.996029Z",
     "shell.execute_reply.started": "2021-07-29T21:29:22.578007Z"
    },
    "papermill": {
     "duration": 0.114229,
     "end_time": "2021-07-29T21:37:53.996776",
     "exception": false,
     "start_time": "2021-07-29T21:37:53.882547",
     "status": "completed"
    },
    "tags": []
   },
   "outputs": [],
   "source": [
    "# x & y\n",
    "x = train1\n",
    "y = np.log(train_df['SalePrice'])"
   ]
  },
  {
   "cell_type": "code",
   "execution_count": 46,
   "id": "4bd97cf1",
   "metadata": {
    "execution": {
     "iopub.execute_input": "2021-07-29T21:37:54.207775Z",
     "iopub.status.busy": "2021-07-29T21:37:54.207074Z",
     "iopub.status.idle": "2021-07-29T21:37:54.214059Z",
     "shell.execute_reply": "2021-07-29T21:37:54.213354Z",
     "shell.execute_reply.started": "2021-07-29T21:29:22.590441Z"
    },
    "papermill": {
     "duration": 0.113356,
     "end_time": "2021-07-29T21:37:54.214218",
     "exception": false,
     "start_time": "2021-07-29T21:37:54.100862",
     "status": "completed"
    },
    "tags": []
   },
   "outputs": [
    {
     "name": "stdout",
     "output_type": "stream",
     "text": [
      "(1259, 224)\n",
      "(1259,)\n"
     ]
    }
   ],
   "source": [
    "print(x.shape)\n",
    "print(y.shape)"
   ]
  },
  {
   "cell_type": "markdown",
   "id": "f7c15473",
   "metadata": {
    "papermill": {
     "duration": 0.104035,
     "end_time": "2021-07-29T21:37:54.420733",
     "exception": false,
     "start_time": "2021-07-29T21:37:54.316698",
     "status": "completed"
    },
    "tags": []
   },
   "source": [
    "- we will stop preprocessing tell here and start spliting so that we prevent `Data Leakage` between train and valid data sets."
   ]
  },
  {
   "cell_type": "markdown",
   "id": "7ef82635",
   "metadata": {
    "papermill": {
     "duration": 0.104516,
     "end_time": "2021-07-29T21:37:54.627401",
     "exception": false,
     "start_time": "2021-07-29T21:37:54.522885",
     "status": "completed"
    },
    "tags": []
   },
   "source": [
    "### Spliting Train and Validation Data Sets"
   ]
  },
  {
   "cell_type": "code",
   "execution_count": 47,
   "id": "2b807a8c",
   "metadata": {
    "execution": {
     "iopub.execute_input": "2021-07-29T21:37:54.837984Z",
     "iopub.status.busy": "2021-07-29T21:37:54.837278Z",
     "iopub.status.idle": "2021-07-29T21:37:55.048691Z",
     "shell.execute_reply": "2021-07-29T21:37:55.047994Z",
     "shell.execute_reply.started": "2021-07-29T21:29:22.605469Z"
    },
    "papermill": {
     "duration": 0.318235,
     "end_time": "2021-07-29T21:37:55.048847",
     "exception": false,
     "start_time": "2021-07-29T21:37:54.730612",
     "status": "completed"
    },
    "tags": []
   },
   "outputs": [],
   "source": [
    "from sklearn.model_selection import train_test_split"
   ]
  },
  {
   "cell_type": "code",
   "execution_count": 48,
   "id": "de9adae0",
   "metadata": {
    "execution": {
     "iopub.execute_input": "2021-07-29T21:37:55.262106Z",
     "iopub.status.busy": "2021-07-29T21:37:55.261448Z",
     "iopub.status.idle": "2021-07-29T21:37:55.267886Z",
     "shell.execute_reply": "2021-07-29T21:37:55.268392Z",
     "shell.execute_reply.started": "2021-07-29T21:29:22.818067Z"
    },
    "papermill": {
     "duration": 0.117656,
     "end_time": "2021-07-29T21:37:55.268578",
     "exception": false,
     "start_time": "2021-07-29T21:37:55.150922",
     "status": "completed"
    },
    "tags": []
   },
   "outputs": [],
   "source": [
    "x_train, x_valid, y_train, y_valid = train_test_split(x, y, test_size = 0.2, random_state = 42)"
   ]
  },
  {
   "cell_type": "code",
   "execution_count": 49,
   "id": "ca313134",
   "metadata": {
    "execution": {
     "iopub.execute_input": "2021-07-29T21:37:55.480330Z",
     "iopub.status.busy": "2021-07-29T21:37:55.479671Z",
     "iopub.status.idle": "2021-07-29T21:37:55.584029Z",
     "shell.execute_reply": "2021-07-29T21:37:55.584687Z",
     "shell.execute_reply.started": "2021-07-29T21:29:22.833455Z"
    },
    "papermill": {
     "duration": 0.212934,
     "end_time": "2021-07-29T21:37:55.584891",
     "exception": false,
     "start_time": "2021-07-29T21:37:55.371957",
     "status": "completed"
    },
    "tags": []
   },
   "outputs": [
    {
     "name": "stderr",
     "output_type": "stream",
     "text": [
      "/opt/conda/lib/python3.7/site-packages/pandas/core/series.py:4469: SettingWithCopyWarning: \n",
      "A value is trying to be set on a copy of a slice from a DataFrame\n",
      "\n",
      "See the caveats in the documentation: https://pandas.pydata.org/pandas-docs/stable/user_guide/indexing.html#returning-a-view-versus-a-copy\n",
      "  downcast=downcast,\n"
     ]
    }
   ],
   "source": [
    "# Fill NaNs records with mean values\n",
    "x_train.fillna(x_train.mean(), axis=0, inplace=True)\n",
    "x_valid.fillna(x_valid.mean(), axis=0, inplace=True)\n",
    "# test1.fillna(test1.mean(), axis=0, inplace=True)"
   ]
  },
  {
   "cell_type": "markdown",
   "id": "15d72cad",
   "metadata": {
    "papermill": {
     "duration": 0.105503,
     "end_time": "2021-07-29T21:37:55.796515",
     "exception": false,
     "start_time": "2021-07-29T21:37:55.691012",
     "status": "completed"
    },
    "tags": []
   },
   "source": [
    "### Model 1"
   ]
  },
  {
   "cell_type": "code",
   "execution_count": 50,
   "id": "741eb7ea",
   "metadata": {
    "execution": {
     "iopub.execute_input": "2021-07-29T21:37:56.015779Z",
     "iopub.status.busy": "2021-07-29T21:37:56.014945Z",
     "iopub.status.idle": "2021-07-29T21:37:56.114947Z",
     "shell.execute_reply": "2021-07-29T21:37:56.114164Z",
     "shell.execute_reply.started": "2021-07-29T21:29:22.936204Z"
    },
    "papermill": {
     "duration": 0.213254,
     "end_time": "2021-07-29T21:37:56.115117",
     "exception": false,
     "start_time": "2021-07-29T21:37:55.901863",
     "status": "completed"
    },
    "tags": []
   },
   "outputs": [],
   "source": [
    "from sklearn.linear_model import LinearRegression\n",
    "from sklearn.metrics import mean_squared_error\n",
    "from sklearn.metrics import r2_score"
   ]
  },
  {
   "cell_type": "code",
   "execution_count": 51,
   "id": "ac420277",
   "metadata": {
    "execution": {
     "iopub.execute_input": "2021-07-29T21:37:56.335188Z",
     "iopub.status.busy": "2021-07-29T21:37:56.334448Z",
     "iopub.status.idle": "2021-07-29T21:37:56.607405Z",
     "shell.execute_reply": "2021-07-29T21:37:56.609081Z",
     "shell.execute_reply.started": "2021-07-29T21:29:23.035221Z"
    },
    "papermill": {
     "duration": 0.38954,
     "end_time": "2021-07-29T21:37:56.609414",
     "exception": false,
     "start_time": "2021-07-29T21:37:56.219874",
     "status": "completed"
    },
    "tags": []
   },
   "outputs": [
    {
     "name": "stdout",
     "output_type": "stream",
     "text": [
      "R2 Score =  0.8974226449942342\n",
      "RMSE =  22745.624349120044\n"
     ]
    }
   ],
   "source": [
    "model1 = LinearRegression().fit(x_train, y_train)\n",
    "x_valid_predicted = model1.predict(x_valid)\n",
    "print('R2 Score = ', r2_score(y_valid, x_valid_predicted))\n",
    "print('RMSE = ', np.sqrt(mean_squared_error(np.exp(y_valid), np.exp(x_valid_predicted))))"
   ]
  },
  {
   "cell_type": "markdown",
   "id": "174f94e9",
   "metadata": {
    "papermill": {
     "duration": 0.106009,
     "end_time": "2021-07-29T21:37:56.864271",
     "exception": false,
     "start_time": "2021-07-29T21:37:56.758262",
     "status": "completed"
    },
    "tags": []
   },
   "source": [
    "### Re-Model 1 Using Different Catagorize Encoding Method"
   ]
  },
  {
   "cell_type": "code",
   "execution_count": 52,
   "id": "bc53c8d3",
   "metadata": {
    "execution": {
     "iopub.execute_input": "2021-07-29T21:37:57.086530Z",
     "iopub.status.busy": "2021-07-29T21:37:57.085819Z",
     "iopub.status.idle": "2021-07-29T21:37:57.090065Z",
     "shell.execute_reply": "2021-07-29T21:37:57.089154Z",
     "shell.execute_reply.started": "2021-07-29T21:29:23.327207Z"
    },
    "papermill": {
     "duration": 0.119883,
     "end_time": "2021-07-29T21:37:57.090272",
     "exception": false,
     "start_time": "2021-07-29T21:37:56.970389",
     "status": "completed"
    },
    "tags": []
   },
   "outputs": [
    {
     "name": "stdout",
     "output_type": "stream",
     "text": [
      "(1259, 74)\n",
      "(201, 73)\n"
     ]
    }
   ],
   "source": [
    "print(train_df.shape)\n",
    "print(test_df.shape)"
   ]
  },
  {
   "cell_type": "code",
   "execution_count": 53,
   "id": "7928a16a",
   "metadata": {
    "execution": {
     "iopub.execute_input": "2021-07-29T21:37:57.318391Z",
     "iopub.status.busy": "2021-07-29T21:37:57.317655Z",
     "iopub.status.idle": "2021-07-29T21:37:57.322160Z",
     "shell.execute_reply": "2021-07-29T21:37:57.321505Z",
     "shell.execute_reply.started": "2021-07-29T21:29:23.342458Z"
    },
    "papermill": {
     "duration": 0.126311,
     "end_time": "2021-07-29T21:37:57.322332",
     "exception": false,
     "start_time": "2021-07-29T21:37:57.196021",
     "status": "completed"
    },
    "tags": []
   },
   "outputs": [
    {
     "data": {
      "text/plain": [
       "['MSZoning',\n",
       " 'LotShape',\n",
       " 'LandContour',\n",
       " 'LotConfig',\n",
       " 'LandSlope',\n",
       " 'Neighborhood',\n",
       " 'Condition1',\n",
       " 'Condition2',\n",
       " 'BldgType',\n",
       " 'HouseStyle',\n",
       " 'RoofStyle',\n",
       " 'RoofMatl',\n",
       " 'Exterior1st',\n",
       " 'Exterior2nd',\n",
       " 'MasVnrType',\n",
       " 'ExterQual',\n",
       " 'ExterCond',\n",
       " 'Foundation',\n",
       " 'BsmtQual',\n",
       " 'BsmtCond',\n",
       " 'BsmtExposure',\n",
       " 'BsmtFinType1',\n",
       " 'BsmtFinType2',\n",
       " 'Heating',\n",
       " 'HeatingQC',\n",
       " 'CentralAir',\n",
       " 'Electrical',\n",
       " 'KitchenQual',\n",
       " 'Functional',\n",
       " 'FireplaceQu',\n",
       " 'GarageType',\n",
       " 'GarageFinish',\n",
       " 'GarageQual',\n",
       " 'GarageCond',\n",
       " 'PavedDrive',\n",
       " 'SaleType',\n",
       " 'SaleCondition']"
      ]
     },
     "execution_count": 53,
     "metadata": {},
     "output_type": "execute_result"
    }
   ],
   "source": [
    "catagories = list(train_df.select_dtypes(include='object').columns)\n",
    "catagories"
   ]
  },
  {
   "cell_type": "code",
   "execution_count": 54,
   "id": "680b0086",
   "metadata": {
    "execution": {
     "iopub.execute_input": "2021-07-29T21:37:57.536013Z",
     "iopub.status.busy": "2021-07-29T21:37:57.535327Z",
     "iopub.status.idle": "2021-07-29T21:37:57.587951Z",
     "shell.execute_reply": "2021-07-29T21:37:57.587233Z",
     "shell.execute_reply.started": "2021-07-29T21:29:23.359407Z"
    },
    "papermill": {
     "duration": 0.160082,
     "end_time": "2021-07-29T21:37:57.588139",
     "exception": false,
     "start_time": "2021-07-29T21:37:57.428057",
     "status": "completed"
    },
    "tags": []
   },
   "outputs": [],
   "source": [
    "# Label Enconding Catagorical columns\n",
    "train_df_copy = train_df.copy()\n",
    "test_df_copy = test_df.copy()\n",
    "\n",
    "for col in catagories:\n",
    "    train_df_copy[col] = pd.factorize(train_df_copy[col])[0].reshape(-1, 1)\n",
    "    test_df_copy[col] = pd.factorize(test_df_copy[col])[0].reshape(-1, 1)"
   ]
  },
  {
   "cell_type": "code",
   "execution_count": 55,
   "id": "2e227ed9",
   "metadata": {
    "execution": {
     "iopub.execute_input": "2021-07-29T21:37:57.838214Z",
     "iopub.status.busy": "2021-07-29T21:37:57.837506Z",
     "iopub.status.idle": "2021-07-29T21:37:57.840437Z",
     "shell.execute_reply": "2021-07-29T21:37:57.841285Z",
     "shell.execute_reply.started": "2021-07-29T21:29:23.439951Z"
    },
    "papermill": {
     "duration": 0.114759,
     "end_time": "2021-07-29T21:37:57.841559",
     "exception": false,
     "start_time": "2021-07-29T21:37:57.726800",
     "status": "completed"
    },
    "scrolled": true,
    "tags": []
   },
   "outputs": [
    {
     "name": "stdout",
     "output_type": "stream",
     "text": [
      "(1259, 74)\n",
      "(201, 73)\n"
     ]
    }
   ],
   "source": [
    "print(train_df_copy.shape)\n",
    "print(test_df_copy.shape)"
   ]
  },
  {
   "cell_type": "code",
   "execution_count": 56,
   "id": "ab32afa5",
   "metadata": {
    "execution": {
     "iopub.execute_input": "2021-07-29T21:37:58.058086Z",
     "iopub.status.busy": "2021-07-29T21:37:58.057409Z",
     "iopub.status.idle": "2021-07-29T21:37:58.074214Z",
     "shell.execute_reply": "2021-07-29T21:37:58.074720Z",
     "shell.execute_reply.started": "2021-07-29T21:29:23.45161Z"
    },
    "papermill": {
     "duration": 0.126595,
     "end_time": "2021-07-29T21:37:58.074914",
     "exception": false,
     "start_time": "2021-07-29T21:37:57.948319",
     "status": "completed"
    },
    "tags": []
   },
   "outputs": [
    {
     "data": {
      "text/plain": [
       "LotFrontage    218\n",
       "MasVnrArea       7\n",
       "GarageYrBlt     71\n",
       "dtype: int64"
      ]
     },
     "execution_count": 56,
     "metadata": {},
     "output_type": "execute_result"
    }
   ],
   "source": [
    "train_df_copy.loc[:, train_df_copy.isnull().any()].isnull().sum()"
   ]
  },
  {
   "cell_type": "code",
   "execution_count": 57,
   "id": "5c3ab98b",
   "metadata": {
    "execution": {
     "iopub.execute_input": "2021-07-29T21:37:58.293118Z",
     "iopub.status.busy": "2021-07-29T21:37:58.292391Z",
     "iopub.status.idle": "2021-07-29T21:37:58.308692Z",
     "shell.execute_reply": "2021-07-29T21:37:58.307985Z",
     "shell.execute_reply.started": "2021-07-29T21:29:23.47721Z"
    },
    "papermill": {
     "duration": 0.125807,
     "end_time": "2021-07-29T21:37:58.308842",
     "exception": false,
     "start_time": "2021-07-29T21:37:58.183035",
     "status": "completed"
    },
    "tags": []
   },
   "outputs": [
    {
     "data": {
      "text/plain": [
       "LotFrontage    41\n",
       "MasVnrArea      1\n",
       "GarageYrBlt    10\n",
       "dtype: int64"
      ]
     },
     "execution_count": 57,
     "metadata": {},
     "output_type": "execute_result"
    }
   ],
   "source": [
    "test_df_copy.loc[:, test_df_copy.isnull().any()].isnull().sum()"
   ]
  },
  {
   "cell_type": "code",
   "execution_count": 58,
   "id": "9cff011d",
   "metadata": {
    "execution": {
     "iopub.execute_input": "2021-07-29T21:37:58.526874Z",
     "iopub.status.busy": "2021-07-29T21:37:58.525913Z",
     "iopub.status.idle": "2021-07-29T21:37:58.556708Z",
     "shell.execute_reply": "2021-07-29T21:37:58.556072Z",
     "shell.execute_reply.started": "2021-07-29T21:29:23.496255Z"
    },
    "papermill": {
     "duration": 0.141266,
     "end_time": "2021-07-29T21:37:58.556865",
     "exception": false,
     "start_time": "2021-07-29T21:37:58.415599",
     "status": "completed"
    },
    "tags": []
   },
   "outputs": [],
   "source": [
    "# Filling NaNs Columns\n",
    "train_df_copy.fillna(train_df_copy.median(), axis=0, inplace=True)\n",
    "test_df_copy.fillna(test_df_copy.median(), axis=0, inplace=True)"
   ]
  },
  {
   "cell_type": "code",
   "execution_count": 59,
   "id": "fc1819b1",
   "metadata": {
    "execution": {
     "iopub.execute_input": "2021-07-29T21:37:58.775970Z",
     "iopub.status.busy": "2021-07-29T21:37:58.775115Z",
     "iopub.status.idle": "2021-07-29T21:37:58.779334Z",
     "shell.execute_reply": "2021-07-29T21:37:58.778763Z",
     "shell.execute_reply.started": "2021-07-29T21:29:23.531324Z"
    },
    "papermill": {
     "duration": 0.116446,
     "end_time": "2021-07-29T21:37:58.779535",
     "exception": false,
     "start_time": "2021-07-29T21:37:58.663089",
     "status": "completed"
    },
    "tags": []
   },
   "outputs": [],
   "source": [
    "# x & y\n",
    "x = train_df_copy.drop('SalePrice', axis=1)\n",
    "y = np.log(train_df_copy['SalePrice'])"
   ]
  },
  {
   "cell_type": "code",
   "execution_count": 60,
   "id": "6d66b4b1",
   "metadata": {
    "execution": {
     "iopub.execute_input": "2021-07-29T21:37:58.998308Z",
     "iopub.status.busy": "2021-07-29T21:37:58.997507Z",
     "iopub.status.idle": "2021-07-29T21:37:59.002141Z",
     "shell.execute_reply": "2021-07-29T21:37:59.001500Z",
     "shell.execute_reply.started": "2021-07-29T21:29:23.539364Z"
    },
    "papermill": {
     "duration": 0.116942,
     "end_time": "2021-07-29T21:37:59.002424",
     "exception": false,
     "start_time": "2021-07-29T21:37:58.885482",
     "status": "completed"
    },
    "scrolled": true,
    "tags": []
   },
   "outputs": [
    {
     "name": "stdout",
     "output_type": "stream",
     "text": [
      "(1259, 73)\n",
      "(1259,)\n"
     ]
    }
   ],
   "source": [
    "print(x.shape)\n",
    "print(y.shape)"
   ]
  },
  {
   "cell_type": "code",
   "execution_count": 61,
   "id": "3989dc80",
   "metadata": {
    "execution": {
     "iopub.execute_input": "2021-07-29T21:37:59.228173Z",
     "iopub.status.busy": "2021-07-29T21:37:59.227450Z",
     "iopub.status.idle": "2021-07-29T21:37:59.229966Z",
     "shell.execute_reply": "2021-07-29T21:37:59.230498Z",
     "shell.execute_reply.started": "2021-07-29T21:29:23.558794Z"
    },
    "papermill": {
     "duration": 0.11939,
     "end_time": "2021-07-29T21:37:59.230698",
     "exception": false,
     "start_time": "2021-07-29T21:37:59.111308",
     "status": "completed"
    },
    "tags": []
   },
   "outputs": [],
   "source": [
    "x_train1, x_valid1, y_train1, y_valid1 = train_test_split(x, y, test_size = 0.2, random_state = 42)"
   ]
  },
  {
   "cell_type": "code",
   "execution_count": 62,
   "id": "40cda937",
   "metadata": {
    "execution": {
     "iopub.execute_input": "2021-07-29T21:37:59.454282Z",
     "iopub.status.busy": "2021-07-29T21:37:59.453545Z",
     "iopub.status.idle": "2021-07-29T21:37:59.479146Z",
     "shell.execute_reply": "2021-07-29T21:37:59.478092Z",
     "shell.execute_reply.started": "2021-07-29T21:29:23.577088Z"
    },
    "papermill": {
     "duration": 0.14202,
     "end_time": "2021-07-29T21:37:59.479398",
     "exception": false,
     "start_time": "2021-07-29T21:37:59.337378",
     "status": "completed"
    },
    "tags": []
   },
   "outputs": [
    {
     "name": "stdout",
     "output_type": "stream",
     "text": [
      "R2 Score =  0.886588005275742\n",
      "RMSE =  24292.99681555852\n"
     ]
    }
   ],
   "source": [
    "model1 = LinearRegression().fit(x_train1, y_train1)\n",
    "x_valid1_predicted = model1.predict(x_valid1)\n",
    "print('R2 Score = ', r2_score(y_valid1, x_valid1_predicted))\n",
    "print('RMSE = ', np.sqrt(mean_squared_error(np.exp(y_valid1), np.exp(x_valid1_predicted))))"
   ]
  },
  {
   "cell_type": "markdown",
   "id": "909515e7",
   "metadata": {
    "papermill": {
     "duration": 0.106186,
     "end_time": "2021-07-29T21:37:59.745831",
     "exception": false,
     "start_time": "2021-07-29T21:37:59.639645",
     "status": "completed"
    },
    "tags": []
   },
   "source": [
    "- Both scores and RMSE are somwhow close, but using `OneHotEncoding is better`."
   ]
  },
  {
   "cell_type": "markdown",
   "id": "acfca1de",
   "metadata": {
    "papermill": {
     "duration": 0.106446,
     "end_time": "2021-07-29T21:37:59.959314",
     "exception": false,
     "start_time": "2021-07-29T21:37:59.852868",
     "status": "completed"
    },
    "tags": []
   },
   "source": [
    "### Model 2  Pre-Processing\n",
    "- Modeling using the valuable features out of EDA\n",
    "    - LotArea: Lot size in square feet\n",
    "    - Neighborhood: Physical locations within Ames city limits\n",
    "    - OverallQual: Rates the overall material and finish of the house\n",
    "    - OverallCond: Rates the overall condition of the house\n",
    "    - YearBuilt: Original construction date\n",
    "    - Foundation: Type of foundation\n",
    "    - HeatingQC: Heating quality and condition\n",
    "    - 1stFlrSF: First Floor square feet\n",
    "    - 2ndFlrSF: Second floor square feet\n",
    "    - Fireplaces: Number of fireplaces\n",
    "    - GarageArea: Size of garage in square feet\n",
    "    - TotRmsAbvGrd: Total rooms above grade\n",
    "    - MoSold: Month Sold (MM)\n",
    "    - YrSold: Year Sold (YYYY)\n",
    "    - YearBuilt: Original construction date"
   ]
  },
  {
   "cell_type": "code",
   "execution_count": 63,
   "id": "13627546",
   "metadata": {
    "execution": {
     "iopub.execute_input": "2021-07-29T21:38:00.183876Z",
     "iopub.status.busy": "2021-07-29T21:38:00.183114Z",
     "iopub.status.idle": "2021-07-29T21:38:00.186444Z",
     "shell.execute_reply": "2021-07-29T21:38:00.185799Z",
     "shell.execute_reply.started": "2021-07-29T21:29:23.618784Z"
    },
    "papermill": {
     "duration": 0.118103,
     "end_time": "2021-07-29T21:38:00.186601",
     "exception": false,
     "start_time": "2021-07-29T21:38:00.068498",
     "status": "completed"
    },
    "tags": []
   },
   "outputs": [],
   "source": [
    "valuable_features = ['LotArea', 'Neighborhood', 'OverallQual', 'OverallCond', 'YearBuilt', 'Foundation', '1stFlrSF', '2ndFlrSF', 'GarageArea', 'TotRmsAbvGrd', 'MoSold', 'YrSold', 'YearBuilt']\n",
    "valuable_train = train_df[valuable_features]\n",
    "valuable_test = test_df[valuable_features]"
   ]
  },
  {
   "cell_type": "code",
   "execution_count": 64,
   "id": "e4f222c5",
   "metadata": {
    "execution": {
     "iopub.execute_input": "2021-07-29T21:38:00.416257Z",
     "iopub.status.busy": "2021-07-29T21:38:00.415551Z",
     "iopub.status.idle": "2021-07-29T21:38:00.418216Z",
     "shell.execute_reply": "2021-07-29T21:38:00.418720Z",
     "shell.execute_reply.started": "2021-07-29T21:29:23.632666Z"
    },
    "papermill": {
     "duration": 0.125782,
     "end_time": "2021-07-29T21:38:00.418927",
     "exception": false,
     "start_time": "2021-07-29T21:38:00.293145",
     "status": "completed"
    },
    "tags": []
   },
   "outputs": [
    {
     "name": "stdout",
     "output_type": "stream",
     "text": [
      "<class 'pandas.core.frame.DataFrame'>\n",
      "Int64Index: 1259 entries, 1 to 1259\n",
      "Data columns (total 13 columns):\n",
      " #   Column        Non-Null Count  Dtype \n",
      "---  ------        --------------  ----- \n",
      " 0   LotArea       1259 non-null   int64 \n",
      " 1   Neighborhood  1259 non-null   object\n",
      " 2   OverallQual   1259 non-null   int64 \n",
      " 3   OverallCond   1259 non-null   int64 \n",
      " 4   YearBuilt     1259 non-null   int64 \n",
      " 5   Foundation    1259 non-null   object\n",
      " 6   1stFlrSF      1259 non-null   int64 \n",
      " 7   2ndFlrSF      1259 non-null   int64 \n",
      " 8   GarageArea    1259 non-null   int64 \n",
      " 9   TotRmsAbvGrd  1259 non-null   int64 \n",
      " 10  MoSold        1259 non-null   int64 \n",
      " 11  YrSold        1259 non-null   int64 \n",
      " 12  YearBuilt     1259 non-null   int64 \n",
      "dtypes: int64(11), object(2)\n",
      "memory usage: 137.7+ KB\n"
     ]
    }
   ],
   "source": [
    "valuable_train.info()"
   ]
  },
  {
   "cell_type": "code",
   "execution_count": 65,
   "id": "c5a9bb23",
   "metadata": {
    "execution": {
     "iopub.execute_input": "2021-07-29T21:38:00.635496Z",
     "iopub.status.busy": "2021-07-29T21:38:00.634849Z",
     "iopub.status.idle": "2021-07-29T21:38:00.648266Z",
     "shell.execute_reply": "2021-07-29T21:38:00.648940Z",
     "shell.execute_reply.started": "2021-07-29T21:29:23.667442Z"
    },
    "papermill": {
     "duration": 0.1235,
     "end_time": "2021-07-29T21:38:00.649142",
     "exception": false,
     "start_time": "2021-07-29T21:38:00.525642",
     "status": "completed"
    },
    "tags": []
   },
   "outputs": [
    {
     "name": "stdout",
     "output_type": "stream",
     "text": [
      "<class 'pandas.core.frame.DataFrame'>\n",
      "Int64Index: 201 entries, 1260 to 1460\n",
      "Data columns (total 13 columns):\n",
      " #   Column        Non-Null Count  Dtype \n",
      "---  ------        --------------  ----- \n",
      " 0   LotArea       201 non-null    int64 \n",
      " 1   Neighborhood  201 non-null    object\n",
      " 2   OverallQual   201 non-null    int64 \n",
      " 3   OverallCond   201 non-null    int64 \n",
      " 4   YearBuilt     201 non-null    int64 \n",
      " 5   Foundation    201 non-null    object\n",
      " 6   1stFlrSF      201 non-null    int64 \n",
      " 7   2ndFlrSF      201 non-null    int64 \n",
      " 8   GarageArea    201 non-null    int64 \n",
      " 9   TotRmsAbvGrd  201 non-null    int64 \n",
      " 10  MoSold        201 non-null    int64 \n",
      " 11  YrSold        201 non-null    int64 \n",
      " 12  YearBuilt     201 non-null    int64 \n",
      "dtypes: int64(11), object(2)\n",
      "memory usage: 22.0+ KB\n"
     ]
    }
   ],
   "source": [
    "valuable_test.info()"
   ]
  },
  {
   "cell_type": "code",
   "execution_count": 66,
   "id": "ed0d7a93",
   "metadata": {
    "execution": {
     "iopub.execute_input": "2021-07-29T21:38:00.868587Z",
     "iopub.status.busy": "2021-07-29T21:38:00.867863Z",
     "iopub.status.idle": "2021-07-29T21:38:00.883713Z",
     "shell.execute_reply": "2021-07-29T21:38:00.884502Z",
     "shell.execute_reply.started": "2021-07-29T21:29:23.691659Z"
    },
    "papermill": {
     "duration": 0.129311,
     "end_time": "2021-07-29T21:38:00.884765",
     "exception": false,
     "start_time": "2021-07-29T21:38:00.755454",
     "status": "completed"
    },
    "tags": []
   },
   "outputs": [
    {
     "name": "stdout",
     "output_type": "stream",
     "text": [
      "(1259, 42)\n",
      "(201, 39)\n"
     ]
    }
   ],
   "source": [
    "# OneHot Enconding Catagorical columns\n",
    "Encoded_train2 = pd.get_dummies(valuable_train)\n",
    "Encoded_test2 = pd.get_dummies(valuable_test)\n",
    "\n",
    "print(Encoded_train2.shape)\n",
    "print(Encoded_test2.shape)"
   ]
  },
  {
   "cell_type": "code",
   "execution_count": 67,
   "id": "24d19a4d",
   "metadata": {
    "execution": {
     "iopub.execute_input": "2021-07-29T21:38:01.117096Z",
     "iopub.status.busy": "2021-07-29T21:38:01.116419Z",
     "iopub.status.idle": "2021-07-29T21:38:01.127604Z",
     "shell.execute_reply": "2021-07-29T21:38:01.126934Z",
     "shell.execute_reply.started": "2021-07-29T21:29:23.723235Z"
    },
    "papermill": {
     "duration": 0.133255,
     "end_time": "2021-07-29T21:38:01.127768",
     "exception": false,
     "start_time": "2021-07-29T21:38:00.994513",
     "status": "completed"
    },
    "tags": []
   },
   "outputs": [
    {
     "name": "stdout",
     "output_type": "stream",
     "text": [
      "(1259, 41)\n",
      "(201, 41)\n"
     ]
    }
   ],
   "source": [
    "# Align two dataframes\n",
    "train2, test2 = Encoded_train2.align(Encoded_test2, join='right', axis=1)\n",
    "\n",
    "print(train2.shape)\n",
    "print(test2.shape)"
   ]
  },
  {
   "cell_type": "code",
   "execution_count": 68,
   "id": "ee31683f",
   "metadata": {
    "execution": {
     "iopub.execute_input": "2021-07-29T21:38:01.356420Z",
     "iopub.status.busy": "2021-07-29T21:38:01.355408Z",
     "iopub.status.idle": "2021-07-29T21:38:01.365625Z",
     "shell.execute_reply": "2021-07-29T21:38:01.366103Z",
     "shell.execute_reply.started": "2021-07-29T21:29:23.741939Z"
    },
    "papermill": {
     "duration": 0.127413,
     "end_time": "2021-07-29T21:38:01.366320",
     "exception": false,
     "start_time": "2021-07-29T21:38:01.238907",
     "status": "completed"
    },
    "tags": []
   },
   "outputs": [
    {
     "name": "stdout",
     "output_type": "stream",
     "text": [
      "0\n",
      "0\n"
     ]
    }
   ],
   "source": [
    "print(train2.isnull().sum().sum())\n",
    "print(test2.isnull().sum().sum())"
   ]
  },
  {
   "cell_type": "code",
   "execution_count": 69,
   "id": "9f4bab98",
   "metadata": {
    "execution": {
     "iopub.execute_input": "2021-07-29T21:38:01.590609Z",
     "iopub.status.busy": "2021-07-29T21:38:01.589881Z",
     "iopub.status.idle": "2021-07-29T21:38:01.594467Z",
     "shell.execute_reply": "2021-07-29T21:38:01.594978Z",
     "shell.execute_reply.started": "2021-07-29T21:29:23.754651Z"
    },
    "papermill": {
     "duration": 0.119223,
     "end_time": "2021-07-29T21:38:01.595175",
     "exception": false,
     "start_time": "2021-07-29T21:38:01.475952",
     "status": "completed"
    },
    "tags": []
   },
   "outputs": [],
   "source": [
    "x2 = train2\n",
    "y = np.log(train_df['SalePrice'])"
   ]
  },
  {
   "cell_type": "markdown",
   "id": "6e8d05c6",
   "metadata": {
    "papermill": {
     "duration": 0.109314,
     "end_time": "2021-07-29T21:38:01.813801",
     "exception": false,
     "start_time": "2021-07-29T21:38:01.704487",
     "status": "completed"
    },
    "tags": []
   },
   "source": [
    "### Spliting Train and Validation Data Sets"
   ]
  },
  {
   "cell_type": "code",
   "execution_count": 70,
   "id": "b5d53774",
   "metadata": {
    "execution": {
     "iopub.execute_input": "2021-07-29T21:38:02.041266Z",
     "iopub.status.busy": "2021-07-29T21:38:02.040150Z",
     "iopub.status.idle": "2021-07-29T21:38:02.046426Z",
     "shell.execute_reply": "2021-07-29T21:38:02.045723Z",
     "shell.execute_reply.started": "2021-07-29T21:29:23.761062Z"
    },
    "papermill": {
     "duration": 0.123678,
     "end_time": "2021-07-29T21:38:02.046579",
     "exception": false,
     "start_time": "2021-07-29T21:38:01.922901",
     "status": "completed"
    },
    "tags": []
   },
   "outputs": [],
   "source": [
    "x_train2, x_valid2, y_train2, y_valid2 = train_test_split(x2, y, test_size = 0.2, random_state = 42)"
   ]
  },
  {
   "cell_type": "markdown",
   "id": "72fbb3f9",
   "metadata": {
    "papermill": {
     "duration": 0.108574,
     "end_time": "2021-07-29T21:38:02.265157",
     "exception": false,
     "start_time": "2021-07-29T21:38:02.156583",
     "status": "completed"
    },
    "tags": []
   },
   "source": [
    "### Model 2"
   ]
  },
  {
   "cell_type": "code",
   "execution_count": 71,
   "id": "2e4e5983",
   "metadata": {
    "execution": {
     "iopub.execute_input": "2021-07-29T21:38:02.490214Z",
     "iopub.status.busy": "2021-07-29T21:38:02.488169Z",
     "iopub.status.idle": "2021-07-29T21:38:02.510811Z",
     "shell.execute_reply": "2021-07-29T21:38:02.511829Z",
     "shell.execute_reply.started": "2021-07-29T21:29:23.776976Z"
    },
    "papermill": {
     "duration": 0.139471,
     "end_time": "2021-07-29T21:38:02.512187",
     "exception": false,
     "start_time": "2021-07-29T21:38:02.372716",
     "status": "completed"
    },
    "tags": []
   },
   "outputs": [
    {
     "name": "stdout",
     "output_type": "stream",
     "text": [
      "R2 Score =  0.8998240934342122\n",
      "RMSE =  22557.790298387794\n"
     ]
    }
   ],
   "source": [
    "model2 = LinearRegression().fit(x_train2, y_train2)\n",
    "x_valid2_predicted = model2.predict(x_valid2)\n",
    "print('R2 Score = ', r2_score(y_valid2, x_valid2_predicted))\n",
    "print('RMSE = ', np.sqrt(mean_squared_error(np.exp(y_valid2), np.exp(x_valid2_predicted))))"
   ]
  },
  {
   "cell_type": "markdown",
   "id": "1c1c8a63",
   "metadata": {
    "papermill": {
     "duration": 0.107697,
     "end_time": "2021-07-29T21:38:02.773214",
     "exception": false,
     "start_time": "2021-07-29T21:38:02.665517",
     "status": "completed"
    },
    "tags": []
   },
   "source": [
    "### Model 3  Pre-Processing\n",
    "- Modeling using only Areas features, Place and Number of Rooms \n",
    "    - LotArea: Lot size in square feet\n",
    "    - Neighborhood: Physical locations within Ames city limits\n",
    "    - BsmtFinSF1: Type 1 finished square feet\n",
    "    - BsmtFinSF2: Type 2 finished square feet\n",
    "    - TotalBsmtSF: Total square feet of basement area\n",
    "    - GrLivArea: Above grade (ground) living area square feet\n",
    "    - 1stFlrSF: First Floor square feet\n",
    "    - 2ndFlrSF: Second floor square feet\n",
    "    - FullBath: Full bathrooms above grade\n",
    "    - TotRmsAbvGrd: Total rooms above grade (does not include bathrooms)"
   ]
  },
  {
   "cell_type": "code",
   "execution_count": 72,
   "id": "422186e3",
   "metadata": {
    "execution": {
     "iopub.execute_input": "2021-07-29T21:38:03.001396Z",
     "iopub.status.busy": "2021-07-29T21:38:03.000692Z",
     "iopub.status.idle": "2021-07-29T21:38:03.003972Z",
     "shell.execute_reply": "2021-07-29T21:38:03.003302Z",
     "shell.execute_reply.started": "2021-07-29T21:29:23.81176Z"
    },
    "papermill": {
     "duration": 0.121154,
     "end_time": "2021-07-29T21:38:03.004131",
     "exception": false,
     "start_time": "2021-07-29T21:38:02.882977",
     "status": "completed"
    },
    "tags": []
   },
   "outputs": [],
   "source": [
    "new_valuable_features = ['LotArea', 'Neighborhood', 'BsmtFinSF1', 'BsmtFinSF2', 'TotalBsmtSF', '1stFlrSF', '2ndFlrSF', 'FullBath', 'TotRmsAbvGrd', 'GrLivArea']\n",
    "new_valuable_train = train_df[new_valuable_features]\n",
    "new_valuable_test = test_df[new_valuable_features]"
   ]
  },
  {
   "cell_type": "code",
   "execution_count": 73,
   "id": "62ac82f1",
   "metadata": {
    "execution": {
     "iopub.execute_input": "2021-07-29T21:38:03.230842Z",
     "iopub.status.busy": "2021-07-29T21:38:03.230108Z",
     "iopub.status.idle": "2021-07-29T21:38:03.244164Z",
     "shell.execute_reply": "2021-07-29T21:38:03.244949Z",
     "shell.execute_reply.started": "2021-07-29T21:29:23.827345Z"
    },
    "papermill": {
     "duration": 0.130502,
     "end_time": "2021-07-29T21:38:03.245217",
     "exception": false,
     "start_time": "2021-07-29T21:38:03.114715",
     "status": "completed"
    },
    "tags": []
   },
   "outputs": [
    {
     "name": "stdout",
     "output_type": "stream",
     "text": [
      "<class 'pandas.core.frame.DataFrame'>\n",
      "Int64Index: 1259 entries, 1 to 1259\n",
      "Data columns (total 10 columns):\n",
      " #   Column        Non-Null Count  Dtype \n",
      "---  ------        --------------  ----- \n",
      " 0   LotArea       1259 non-null   int64 \n",
      " 1   Neighborhood  1259 non-null   object\n",
      " 2   BsmtFinSF1    1259 non-null   int64 \n",
      " 3   BsmtFinSF2    1259 non-null   int64 \n",
      " 4   TotalBsmtSF   1259 non-null   int64 \n",
      " 5   1stFlrSF      1259 non-null   int64 \n",
      " 6   2ndFlrSF      1259 non-null   int64 \n",
      " 7   FullBath      1259 non-null   int64 \n",
      " 8   TotRmsAbvGrd  1259 non-null   int64 \n",
      " 9   GrLivArea     1259 non-null   int64 \n",
      "dtypes: int64(9), object(1)\n",
      "memory usage: 108.2+ KB\n"
     ]
    }
   ],
   "source": [
    "new_valuable_train.info()"
   ]
  },
  {
   "cell_type": "code",
   "execution_count": 74,
   "id": "f368ca99",
   "metadata": {
    "execution": {
     "iopub.execute_input": "2021-07-29T21:38:03.498202Z",
     "iopub.status.busy": "2021-07-29T21:38:03.497505Z",
     "iopub.status.idle": "2021-07-29T21:38:03.515707Z",
     "shell.execute_reply": "2021-07-29T21:38:03.516402Z",
     "shell.execute_reply.started": "2021-07-29T21:29:23.860611Z"
    },
    "papermill": {
     "duration": 0.140861,
     "end_time": "2021-07-29T21:38:03.516625",
     "exception": false,
     "start_time": "2021-07-29T21:38:03.375764",
     "status": "completed"
    },
    "tags": []
   },
   "outputs": [
    {
     "name": "stdout",
     "output_type": "stream",
     "text": [
      "<class 'pandas.core.frame.DataFrame'>\n",
      "Int64Index: 201 entries, 1260 to 1460\n",
      "Data columns (total 10 columns):\n",
      " #   Column        Non-Null Count  Dtype \n",
      "---  ------        --------------  ----- \n",
      " 0   LotArea       201 non-null    int64 \n",
      " 1   Neighborhood  201 non-null    object\n",
      " 2   BsmtFinSF1    201 non-null    int64 \n",
      " 3   BsmtFinSF2    201 non-null    int64 \n",
      " 4   TotalBsmtSF   201 non-null    int64 \n",
      " 5   1stFlrSF      201 non-null    int64 \n",
      " 6   2ndFlrSF      201 non-null    int64 \n",
      " 7   FullBath      201 non-null    int64 \n",
      " 8   TotRmsAbvGrd  201 non-null    int64 \n",
      " 9   GrLivArea     201 non-null    int64 \n",
      "dtypes: int64(9), object(1)\n",
      "memory usage: 17.3+ KB\n"
     ]
    }
   ],
   "source": [
    "new_valuable_test.info()"
   ]
  },
  {
   "cell_type": "code",
   "execution_count": 75,
   "id": "e8466cd0",
   "metadata": {
    "execution": {
     "iopub.execute_input": "2021-07-29T21:38:03.760854Z",
     "iopub.status.busy": "2021-07-29T21:38:03.759839Z",
     "iopub.status.idle": "2021-07-29T21:38:03.775107Z",
     "shell.execute_reply": "2021-07-29T21:38:03.775810Z",
     "shell.execute_reply.started": "2021-07-29T21:29:23.893672Z"
    },
    "papermill": {
     "duration": 0.132258,
     "end_time": "2021-07-29T21:38:03.776073",
     "exception": false,
     "start_time": "2021-07-29T21:38:03.643815",
     "status": "completed"
    },
    "tags": []
   },
   "outputs": [
    {
     "name": "stdout",
     "output_type": "stream",
     "text": [
      "(1259, 34)\n",
      "(201, 32)\n"
     ]
    }
   ],
   "source": [
    "# OneHot Enconding Catagorical columns\n",
    "Encoded_train3 = pd.get_dummies(new_valuable_train)\n",
    "Encoded_test3 = pd.get_dummies(new_valuable_test)\n",
    "\n",
    "print(Encoded_train3.shape)\n",
    "print(Encoded_test3.shape)"
   ]
  },
  {
   "cell_type": "code",
   "execution_count": 76,
   "id": "2f094b81",
   "metadata": {
    "execution": {
     "iopub.execute_input": "2021-07-29T21:38:04.007095Z",
     "iopub.status.busy": "2021-07-29T21:38:04.006255Z",
     "iopub.status.idle": "2021-07-29T21:38:04.009244Z",
     "shell.execute_reply": "2021-07-29T21:38:04.009842Z",
     "shell.execute_reply.started": "2021-07-29T21:29:23.924098Z"
    },
    "papermill": {
     "duration": 0.12377,
     "end_time": "2021-07-29T21:38:04.010064",
     "exception": false,
     "start_time": "2021-07-29T21:38:03.886294",
     "status": "completed"
    },
    "tags": []
   },
   "outputs": [
    {
     "name": "stdout",
     "output_type": "stream",
     "text": [
      "(1259, 32)\n",
      "(201, 32)\n"
     ]
    }
   ],
   "source": [
    "# Align two dataframes\n",
    "train3, test3 = Encoded_train3.align(Encoded_test3, join='right', axis=1)\n",
    "\n",
    "print(train3.shape)\n",
    "print(test3.shape)"
   ]
  },
  {
   "cell_type": "code",
   "execution_count": 77,
   "id": "eb8e54bf",
   "metadata": {
    "execution": {
     "iopub.execute_input": "2021-07-29T21:38:04.235798Z",
     "iopub.status.busy": "2021-07-29T21:38:04.235071Z",
     "iopub.status.idle": "2021-07-29T21:38:04.243867Z",
     "shell.execute_reply": "2021-07-29T21:38:04.244939Z",
     "shell.execute_reply.started": "2021-07-29T21:29:23.935885Z"
    },
    "papermill": {
     "duration": 0.123229,
     "end_time": "2021-07-29T21:38:04.245292",
     "exception": false,
     "start_time": "2021-07-29T21:38:04.122063",
     "status": "completed"
    },
    "tags": []
   },
   "outputs": [
    {
     "name": "stdout",
     "output_type": "stream",
     "text": [
      "0\n",
      "0\n"
     ]
    }
   ],
   "source": [
    "print(train3.isnull().sum().sum())\n",
    "print(test3.isnull().sum().sum())"
   ]
  },
  {
   "cell_type": "code",
   "execution_count": 78,
   "id": "f6a959ec",
   "metadata": {
    "execution": {
     "iopub.execute_input": "2021-07-29T21:38:04.470053Z",
     "iopub.status.busy": "2021-07-29T21:38:04.469415Z",
     "iopub.status.idle": "2021-07-29T21:38:04.473665Z",
     "shell.execute_reply": "2021-07-29T21:38:04.474188Z",
     "shell.execute_reply.started": "2021-07-29T21:29:23.951038Z"
    },
    "papermill": {
     "duration": 0.118513,
     "end_time": "2021-07-29T21:38:04.474398",
     "exception": false,
     "start_time": "2021-07-29T21:38:04.355885",
     "status": "completed"
    },
    "tags": []
   },
   "outputs": [],
   "source": [
    "x3 = train3\n",
    "y = np.log(train_df['SalePrice'])"
   ]
  },
  {
   "cell_type": "markdown",
   "id": "e9e1d983",
   "metadata": {
    "papermill": {
     "duration": 0.113037,
     "end_time": "2021-07-29T21:38:04.697519",
     "exception": false,
     "start_time": "2021-07-29T21:38:04.584482",
     "status": "completed"
    },
    "tags": []
   },
   "source": [
    "### Spliting Train and Validation Data Sets"
   ]
  },
  {
   "cell_type": "code",
   "execution_count": 79,
   "id": "882ce067",
   "metadata": {
    "execution": {
     "iopub.execute_input": "2021-07-29T21:38:04.921900Z",
     "iopub.status.busy": "2021-07-29T21:38:04.921206Z",
     "iopub.status.idle": "2021-07-29T21:38:04.927122Z",
     "shell.execute_reply": "2021-07-29T21:38:04.927648Z",
     "shell.execute_reply.started": "2021-07-29T21:29:23.965139Z"
    },
    "papermill": {
     "duration": 0.11994,
     "end_time": "2021-07-29T21:38:04.927863",
     "exception": false,
     "start_time": "2021-07-29T21:38:04.807923",
     "status": "completed"
    },
    "tags": []
   },
   "outputs": [],
   "source": [
    "x_train3, x_valid3, y_train3, y_valid3 = train_test_split(x3, y, test_size = 0.2, random_state = 42)"
   ]
  },
  {
   "cell_type": "markdown",
   "id": "0137bc16",
   "metadata": {
    "papermill": {
     "duration": 0.114455,
     "end_time": "2021-07-29T21:38:05.155210",
     "exception": false,
     "start_time": "2021-07-29T21:38:05.040755",
     "status": "completed"
    },
    "tags": []
   },
   "source": [
    "### Model 3"
   ]
  },
  {
   "cell_type": "code",
   "execution_count": 80,
   "id": "04dfcffd",
   "metadata": {
    "execution": {
     "iopub.execute_input": "2021-07-29T21:38:05.381050Z",
     "iopub.status.busy": "2021-07-29T21:38:05.380388Z",
     "iopub.status.idle": "2021-07-29T21:38:05.394240Z",
     "shell.execute_reply": "2021-07-29T21:38:05.394961Z",
     "shell.execute_reply.started": "2021-07-29T21:29:23.981982Z"
    },
    "papermill": {
     "duration": 0.12852,
     "end_time": "2021-07-29T21:38:05.395190",
     "exception": false,
     "start_time": "2021-07-29T21:38:05.266670",
     "status": "completed"
    },
    "tags": []
   },
   "outputs": [
    {
     "name": "stdout",
     "output_type": "stream",
     "text": [
      "R2 Score =  0.8444754618496887\n",
      "RMSE =  28510.697948459954\n"
     ]
    }
   ],
   "source": [
    "model3 = LinearRegression().fit(x_train3, y_train3)\n",
    "x_valid3_predicted = model3.predict(x_valid3)\n",
    "print('R2 Score = ', r2_score(y_valid3, x_valid3_predicted))\n",
    "print('RMSE = ', np.sqrt(mean_squared_error(np.exp(y_valid3), np.exp(x_valid3_predicted))))"
   ]
  },
  {
   "cell_type": "markdown",
   "id": "e02cc625",
   "metadata": {
    "papermill": {
     "duration": 0.110737,
     "end_time": "2021-07-29T21:38:05.617978",
     "exception": false,
     "start_time": "2021-07-29T21:38:05.507241",
     "status": "completed"
    },
    "tags": []
   },
   "source": [
    "- Then the `best Model` is the `second one`"
   ]
  },
  {
   "cell_type": "markdown",
   "id": "9b637d8d",
   "metadata": {
    "papermill": {
     "duration": 0.110419,
     "end_time": "2021-07-29T21:38:05.838923",
     "exception": false,
     "start_time": "2021-07-29T21:38:05.728504",
     "status": "completed"
    },
    "tags": []
   },
   "source": [
    "### Test Prediction"
   ]
  },
  {
   "cell_type": "code",
   "execution_count": 81,
   "id": "42de2e8b",
   "metadata": {
    "execution": {
     "iopub.execute_input": "2021-07-29T21:38:06.066290Z",
     "iopub.status.busy": "2021-07-29T21:38:06.065573Z",
     "iopub.status.idle": "2021-07-29T21:38:06.072274Z",
     "shell.execute_reply": "2021-07-29T21:38:06.072871Z",
     "shell.execute_reply.started": "2021-07-29T21:29:24.011698Z"
    },
    "papermill": {
     "duration": 0.123115,
     "end_time": "2021-07-29T21:38:06.073076",
     "exception": false,
     "start_time": "2021-07-29T21:38:05.949961",
     "status": "completed"
    },
    "tags": []
   },
   "outputs": [],
   "source": [
    "test_prediction = model2.predict(test2)\n",
    "test_prediction = np.exp(test_prediction)"
   ]
  },
  {
   "cell_type": "code",
   "execution_count": 82,
   "id": "b0bd634c",
   "metadata": {
    "execution": {
     "iopub.execute_input": "2021-07-29T21:38:06.299067Z",
     "iopub.status.busy": "2021-07-29T21:38:06.298444Z",
     "iopub.status.idle": "2021-07-29T21:38:06.303722Z",
     "shell.execute_reply": "2021-07-29T21:38:06.304389Z",
     "shell.execute_reply.started": "2021-07-29T21:29:24.023662Z"
    },
    "papermill": {
     "duration": 0.119909,
     "end_time": "2021-07-29T21:38:06.304617",
     "exception": false,
     "start_time": "2021-07-29T21:38:06.184708",
     "status": "completed"
    },
    "tags": []
   },
   "outputs": [],
   "source": [
    "final_Output = pd.DataFrame({'Id': test2.index,'SalePrice': test_prediction})"
   ]
  },
  {
   "cell_type": "code",
   "execution_count": 83,
   "id": "6153825b",
   "metadata": {
    "execution": {
     "iopub.execute_input": "2021-07-29T21:38:06.532526Z",
     "iopub.status.busy": "2021-07-29T21:38:06.531853Z",
     "iopub.status.idle": "2021-07-29T21:38:06.540512Z",
     "shell.execute_reply": "2021-07-29T21:38:06.541051Z",
     "shell.execute_reply.started": "2021-07-29T21:29:24.036823Z"
    },
    "papermill": {
     "duration": 0.124181,
     "end_time": "2021-07-29T21:38:06.541269",
     "exception": false,
     "start_time": "2021-07-29T21:38:06.417088",
     "status": "completed"
    },
    "tags": []
   },
   "outputs": [],
   "source": [
    "final_Output.to_csv('submission.csv', index=False)"
   ]
  }
 ],
 "metadata": {
  "kernelspec": {
   "display_name": "Python 3",
   "language": "python",
   "name": "python3"
  },
  "language_info": {
   "codemirror_mode": {
    "name": "ipython",
    "version": 3
   },
   "file_extension": ".py",
   "mimetype": "text/x-python",
   "name": "python",
   "nbconvert_exporter": "python",
   "pygments_lexer": "ipython3",
   "version": "3.7.10"
  },
  "papermill": {
   "default_parameters": {},
   "duration": 41.138242,
   "end_time": "2021-07-29T21:38:08.060983",
   "environment_variables": {},
   "exception": null,
   "input_path": "__notebook__.ipynb",
   "output_path": "__notebook__.ipynb",
   "parameters": {},
   "start_time": "2021-07-29T21:37:26.922741",
   "version": "2.3.3"
  }
 },
 "nbformat": 4,
 "nbformat_minor": 5
}
